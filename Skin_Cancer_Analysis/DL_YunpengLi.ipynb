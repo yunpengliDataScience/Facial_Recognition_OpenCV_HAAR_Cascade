{
  "nbformat": 4,
  "nbformat_minor": 0,
  "metadata": {
    "accelerator": "GPU",
    "colab": {
      "name": "DL_YunpengLi.ipynb",
      "provenance": [],
      "machine_shape": "hm",
      "include_colab_link": true
    },
    "kernelspec": {
      "display_name": "Python 3",
      "language": "python",
      "name": "python3"
    },
    "language_info": {
      "codemirror_mode": {
        "name": "ipython",
        "version": 3
      },
      "file_extension": ".py",
      "mimetype": "text/x-python",
      "name": "python",
      "nbconvert_exporter": "python",
      "pygments_lexer": "ipython3",
      "version": "3.8.5"
    },
    "widgets": {
      "application/vnd.jupyter.widget-state+json": {
        "783fc95b4d4f42549e617f456afa7414": {
          "model_module": "@jupyter-widgets/controls",
          "model_name": "HBoxModel",
          "model_module_version": "1.5.0",
          "state": {
            "_view_name": "HBoxView",
            "_dom_classes": [],
            "_model_name": "HBoxModel",
            "_view_module": "@jupyter-widgets/controls",
            "_model_module_version": "1.5.0",
            "_view_count": null,
            "_view_module_version": "1.5.0",
            "box_style": "",
            "layout": "IPY_MODEL_e97c4bb8227240a2a82a99c2e7fd714e",
            "_model_module": "@jupyter-widgets/controls",
            "children": [
              "IPY_MODEL_0487b86005a64ad68945a424abb9d276",
              "IPY_MODEL_3d2cf81fbdc14832a036ed57e5b55456",
              "IPY_MODEL_8704e9a5dd4a4df9955939c9f7b01328"
            ]
          }
        },
        "e97c4bb8227240a2a82a99c2e7fd714e": {
          "model_module": "@jupyter-widgets/base",
          "model_name": "LayoutModel",
          "model_module_version": "1.2.0",
          "state": {
            "_view_name": "LayoutView",
            "grid_template_rows": null,
            "right": null,
            "justify_content": null,
            "_view_module": "@jupyter-widgets/base",
            "overflow": null,
            "_model_module_version": "1.2.0",
            "_view_count": null,
            "flex_flow": null,
            "width": null,
            "min_width": null,
            "border": null,
            "align_items": null,
            "bottom": null,
            "_model_module": "@jupyter-widgets/base",
            "top": null,
            "grid_column": null,
            "overflow_y": null,
            "overflow_x": null,
            "grid_auto_flow": null,
            "grid_area": null,
            "grid_template_columns": null,
            "flex": null,
            "_model_name": "LayoutModel",
            "justify_items": null,
            "grid_row": null,
            "max_height": null,
            "align_content": null,
            "visibility": null,
            "align_self": null,
            "height": null,
            "min_height": null,
            "padding": null,
            "grid_auto_rows": null,
            "grid_gap": null,
            "max_width": null,
            "order": null,
            "_view_module_version": "1.2.0",
            "grid_template_areas": null,
            "object_position": null,
            "object_fit": null,
            "grid_auto_columns": null,
            "margin": null,
            "display": null,
            "left": null
          }
        },
        "0487b86005a64ad68945a424abb9d276": {
          "model_module": "@jupyter-widgets/controls",
          "model_name": "HTMLModel",
          "model_module_version": "1.5.0",
          "state": {
            "_view_name": "HTMLView",
            "style": "IPY_MODEL_bb7affd0e9624d44b3501d06956895c5",
            "_dom_classes": [],
            "description": "",
            "_model_name": "HTMLModel",
            "placeholder": "​",
            "_view_module": "@jupyter-widgets/controls",
            "_model_module_version": "1.5.0",
            "value": "Epoch: 100%",
            "_view_count": null,
            "_view_module_version": "1.5.0",
            "description_tooltip": null,
            "_model_module": "@jupyter-widgets/controls",
            "layout": "IPY_MODEL_65098d945d8a46918089b8a45bbccac2"
          }
        },
        "3d2cf81fbdc14832a036ed57e5b55456": {
          "model_module": "@jupyter-widgets/controls",
          "model_name": "FloatProgressModel",
          "model_module_version": "1.5.0",
          "state": {
            "_view_name": "ProgressView",
            "style": "IPY_MODEL_69bd5d6ecee24c78b09568e6783b1fde",
            "_dom_classes": [],
            "description": "",
            "_model_name": "FloatProgressModel",
            "bar_style": "success",
            "max": 50,
            "_view_module": "@jupyter-widgets/controls",
            "_model_module_version": "1.5.0",
            "value": 50,
            "_view_count": null,
            "_view_module_version": "1.5.0",
            "orientation": "horizontal",
            "min": 0,
            "description_tooltip": null,
            "_model_module": "@jupyter-widgets/controls",
            "layout": "IPY_MODEL_efd2e2549b324db7a8cca06927edf67e"
          }
        },
        "8704e9a5dd4a4df9955939c9f7b01328": {
          "model_module": "@jupyter-widgets/controls",
          "model_name": "HTMLModel",
          "model_module_version": "1.5.0",
          "state": {
            "_view_name": "HTMLView",
            "style": "IPY_MODEL_f63a6a11454c4123b7488079a6fe7f95",
            "_dom_classes": [],
            "description": "",
            "_model_name": "HTMLModel",
            "placeholder": "​",
            "_view_module": "@jupyter-widgets/controls",
            "_model_module_version": "1.5.0",
            "value": " 50/50 [3:24:37&lt;00:00, 241.24s/it]",
            "_view_count": null,
            "_view_module_version": "1.5.0",
            "description_tooltip": null,
            "_model_module": "@jupyter-widgets/controls",
            "layout": "IPY_MODEL_dbf9eaed6ab142fb9eca03747bfbc63b"
          }
        },
        "bb7affd0e9624d44b3501d06956895c5": {
          "model_module": "@jupyter-widgets/controls",
          "model_name": "DescriptionStyleModel",
          "model_module_version": "1.5.0",
          "state": {
            "_view_name": "StyleView",
            "_model_name": "DescriptionStyleModel",
            "description_width": "",
            "_view_module": "@jupyter-widgets/base",
            "_model_module_version": "1.5.0",
            "_view_count": null,
            "_view_module_version": "1.2.0",
            "_model_module": "@jupyter-widgets/controls"
          }
        },
        "65098d945d8a46918089b8a45bbccac2": {
          "model_module": "@jupyter-widgets/base",
          "model_name": "LayoutModel",
          "model_module_version": "1.2.0",
          "state": {
            "_view_name": "LayoutView",
            "grid_template_rows": null,
            "right": null,
            "justify_content": null,
            "_view_module": "@jupyter-widgets/base",
            "overflow": null,
            "_model_module_version": "1.2.0",
            "_view_count": null,
            "flex_flow": null,
            "width": null,
            "min_width": null,
            "border": null,
            "align_items": null,
            "bottom": null,
            "_model_module": "@jupyter-widgets/base",
            "top": null,
            "grid_column": null,
            "overflow_y": null,
            "overflow_x": null,
            "grid_auto_flow": null,
            "grid_area": null,
            "grid_template_columns": null,
            "flex": null,
            "_model_name": "LayoutModel",
            "justify_items": null,
            "grid_row": null,
            "max_height": null,
            "align_content": null,
            "visibility": null,
            "align_self": null,
            "height": null,
            "min_height": null,
            "padding": null,
            "grid_auto_rows": null,
            "grid_gap": null,
            "max_width": null,
            "order": null,
            "_view_module_version": "1.2.0",
            "grid_template_areas": null,
            "object_position": null,
            "object_fit": null,
            "grid_auto_columns": null,
            "margin": null,
            "display": null,
            "left": null
          }
        },
        "69bd5d6ecee24c78b09568e6783b1fde": {
          "model_module": "@jupyter-widgets/controls",
          "model_name": "ProgressStyleModel",
          "model_module_version": "1.5.0",
          "state": {
            "_view_name": "StyleView",
            "_model_name": "ProgressStyleModel",
            "description_width": "",
            "_view_module": "@jupyter-widgets/base",
            "_model_module_version": "1.5.0",
            "_view_count": null,
            "_view_module_version": "1.2.0",
            "bar_color": null,
            "_model_module": "@jupyter-widgets/controls"
          }
        },
        "efd2e2549b324db7a8cca06927edf67e": {
          "model_module": "@jupyter-widgets/base",
          "model_name": "LayoutModel",
          "model_module_version": "1.2.0",
          "state": {
            "_view_name": "LayoutView",
            "grid_template_rows": null,
            "right": null,
            "justify_content": null,
            "_view_module": "@jupyter-widgets/base",
            "overflow": null,
            "_model_module_version": "1.2.0",
            "_view_count": null,
            "flex_flow": null,
            "width": null,
            "min_width": null,
            "border": null,
            "align_items": null,
            "bottom": null,
            "_model_module": "@jupyter-widgets/base",
            "top": null,
            "grid_column": null,
            "overflow_y": null,
            "overflow_x": null,
            "grid_auto_flow": null,
            "grid_area": null,
            "grid_template_columns": null,
            "flex": null,
            "_model_name": "LayoutModel",
            "justify_items": null,
            "grid_row": null,
            "max_height": null,
            "align_content": null,
            "visibility": null,
            "align_self": null,
            "height": null,
            "min_height": null,
            "padding": null,
            "grid_auto_rows": null,
            "grid_gap": null,
            "max_width": null,
            "order": null,
            "_view_module_version": "1.2.0",
            "grid_template_areas": null,
            "object_position": null,
            "object_fit": null,
            "grid_auto_columns": null,
            "margin": null,
            "display": null,
            "left": null
          }
        },
        "f63a6a11454c4123b7488079a6fe7f95": {
          "model_module": "@jupyter-widgets/controls",
          "model_name": "DescriptionStyleModel",
          "model_module_version": "1.5.0",
          "state": {
            "_view_name": "StyleView",
            "_model_name": "DescriptionStyleModel",
            "description_width": "",
            "_view_module": "@jupyter-widgets/base",
            "_model_module_version": "1.5.0",
            "_view_count": null,
            "_view_module_version": "1.2.0",
            "_model_module": "@jupyter-widgets/controls"
          }
        },
        "dbf9eaed6ab142fb9eca03747bfbc63b": {
          "model_module": "@jupyter-widgets/base",
          "model_name": "LayoutModel",
          "model_module_version": "1.2.0",
          "state": {
            "_view_name": "LayoutView",
            "grid_template_rows": null,
            "right": null,
            "justify_content": null,
            "_view_module": "@jupyter-widgets/base",
            "overflow": null,
            "_model_module_version": "1.2.0",
            "_view_count": null,
            "flex_flow": null,
            "width": null,
            "min_width": null,
            "border": null,
            "align_items": null,
            "bottom": null,
            "_model_module": "@jupyter-widgets/base",
            "top": null,
            "grid_column": null,
            "overflow_y": null,
            "overflow_x": null,
            "grid_auto_flow": null,
            "grid_area": null,
            "grid_template_columns": null,
            "flex": null,
            "_model_name": "LayoutModel",
            "justify_items": null,
            "grid_row": null,
            "max_height": null,
            "align_content": null,
            "visibility": null,
            "align_self": null,
            "height": null,
            "min_height": null,
            "padding": null,
            "grid_auto_rows": null,
            "grid_gap": null,
            "max_width": null,
            "order": null,
            "_view_module_version": "1.2.0",
            "grid_template_areas": null,
            "object_position": null,
            "object_fit": null,
            "grid_auto_columns": null,
            "margin": null,
            "display": null,
            "left": null
          }
        },
        "742904fd931f4754a03e187c90a1e962": {
          "model_module": "@jupyter-widgets/controls",
          "model_name": "HBoxModel",
          "model_module_version": "1.5.0",
          "state": {
            "_view_name": "HBoxView",
            "_dom_classes": [],
            "_model_name": "HBoxModel",
            "_view_module": "@jupyter-widgets/controls",
            "_model_module_version": "1.5.0",
            "_view_count": null,
            "_view_module_version": "1.5.0",
            "box_style": "",
            "layout": "IPY_MODEL_554e85c1ef1e4997bdf7d61fd96b6706",
            "_model_module": "@jupyter-widgets/controls",
            "children": [
              "IPY_MODEL_2c4ab46992e94dacb97348ec1f7efc7d",
              "IPY_MODEL_cf8d6de8c912468193007e89ed3adb50",
              "IPY_MODEL_cd90b51ad3c7470ebaa08d3f2d506b98"
            ]
          }
        },
        "554e85c1ef1e4997bdf7d61fd96b6706": {
          "model_module": "@jupyter-widgets/base",
          "model_name": "LayoutModel",
          "model_module_version": "1.2.0",
          "state": {
            "_view_name": "LayoutView",
            "grid_template_rows": null,
            "right": null,
            "justify_content": null,
            "_view_module": "@jupyter-widgets/base",
            "overflow": null,
            "_model_module_version": "1.2.0",
            "_view_count": null,
            "flex_flow": null,
            "width": null,
            "min_width": null,
            "border": null,
            "align_items": null,
            "bottom": null,
            "_model_module": "@jupyter-widgets/base",
            "top": null,
            "grid_column": null,
            "overflow_y": null,
            "overflow_x": null,
            "grid_auto_flow": null,
            "grid_area": null,
            "grid_template_columns": null,
            "flex": null,
            "_model_name": "LayoutModel",
            "justify_items": null,
            "grid_row": null,
            "max_height": null,
            "align_content": null,
            "visibility": null,
            "align_self": null,
            "height": null,
            "min_height": null,
            "padding": null,
            "grid_auto_rows": null,
            "grid_gap": null,
            "max_width": null,
            "order": null,
            "_view_module_version": "1.2.0",
            "grid_template_areas": null,
            "object_position": null,
            "object_fit": null,
            "grid_auto_columns": null,
            "margin": null,
            "display": null,
            "left": null
          }
        },
        "2c4ab46992e94dacb97348ec1f7efc7d": {
          "model_module": "@jupyter-widgets/controls",
          "model_name": "HTMLModel",
          "model_module_version": "1.5.0",
          "state": {
            "_view_name": "HTMLView",
            "style": "IPY_MODEL_d8bcda2a78844e2aa9a764a9b498918f",
            "_dom_classes": [],
            "description": "",
            "_model_name": "HTMLModel",
            "placeholder": "​",
            "_view_module": "@jupyter-widgets/controls",
            "_model_module_version": "1.5.0",
            "value": "Epoch: 100%",
            "_view_count": null,
            "_view_module_version": "1.5.0",
            "description_tooltip": null,
            "_model_module": "@jupyter-widgets/controls",
            "layout": "IPY_MODEL_cf8ed020f76b43c797ff195092257f5d"
          }
        },
        "cf8d6de8c912468193007e89ed3adb50": {
          "model_module": "@jupyter-widgets/controls",
          "model_name": "FloatProgressModel",
          "model_module_version": "1.5.0",
          "state": {
            "_view_name": "ProgressView",
            "style": "IPY_MODEL_c38818619e334eac9ef172316355fb1d",
            "_dom_classes": [],
            "description": "",
            "_model_name": "FloatProgressModel",
            "bar_style": "success",
            "max": 50,
            "_view_module": "@jupyter-widgets/controls",
            "_model_module_version": "1.5.0",
            "value": 50,
            "_view_count": null,
            "_view_module_version": "1.5.0",
            "orientation": "horizontal",
            "min": 0,
            "description_tooltip": null,
            "_model_module": "@jupyter-widgets/controls",
            "layout": "IPY_MODEL_1d09d0be2da54fefb98cc49d403a60ac"
          }
        },
        "cd90b51ad3c7470ebaa08d3f2d506b98": {
          "model_module": "@jupyter-widgets/controls",
          "model_name": "HTMLModel",
          "model_module_version": "1.5.0",
          "state": {
            "_view_name": "HTMLView",
            "style": "IPY_MODEL_0e842bd1041642ffab96af2d94737e71",
            "_dom_classes": [],
            "description": "",
            "_model_name": "HTMLModel",
            "placeholder": "​",
            "_view_module": "@jupyter-widgets/controls",
            "_model_module_version": "1.5.0",
            "value": " 50/50 [3:25:48&lt;00:00, 244.86s/it]",
            "_view_count": null,
            "_view_module_version": "1.5.0",
            "description_tooltip": null,
            "_model_module": "@jupyter-widgets/controls",
            "layout": "IPY_MODEL_9d083fe08dc749f2a0ae26a8453e9b83"
          }
        },
        "d8bcda2a78844e2aa9a764a9b498918f": {
          "model_module": "@jupyter-widgets/controls",
          "model_name": "DescriptionStyleModel",
          "model_module_version": "1.5.0",
          "state": {
            "_view_name": "StyleView",
            "_model_name": "DescriptionStyleModel",
            "description_width": "",
            "_view_module": "@jupyter-widgets/base",
            "_model_module_version": "1.5.0",
            "_view_count": null,
            "_view_module_version": "1.2.0",
            "_model_module": "@jupyter-widgets/controls"
          }
        },
        "cf8ed020f76b43c797ff195092257f5d": {
          "model_module": "@jupyter-widgets/base",
          "model_name": "LayoutModel",
          "model_module_version": "1.2.0",
          "state": {
            "_view_name": "LayoutView",
            "grid_template_rows": null,
            "right": null,
            "justify_content": null,
            "_view_module": "@jupyter-widgets/base",
            "overflow": null,
            "_model_module_version": "1.2.0",
            "_view_count": null,
            "flex_flow": null,
            "width": null,
            "min_width": null,
            "border": null,
            "align_items": null,
            "bottom": null,
            "_model_module": "@jupyter-widgets/base",
            "top": null,
            "grid_column": null,
            "overflow_y": null,
            "overflow_x": null,
            "grid_auto_flow": null,
            "grid_area": null,
            "grid_template_columns": null,
            "flex": null,
            "_model_name": "LayoutModel",
            "justify_items": null,
            "grid_row": null,
            "max_height": null,
            "align_content": null,
            "visibility": null,
            "align_self": null,
            "height": null,
            "min_height": null,
            "padding": null,
            "grid_auto_rows": null,
            "grid_gap": null,
            "max_width": null,
            "order": null,
            "_view_module_version": "1.2.0",
            "grid_template_areas": null,
            "object_position": null,
            "object_fit": null,
            "grid_auto_columns": null,
            "margin": null,
            "display": null,
            "left": null
          }
        },
        "c38818619e334eac9ef172316355fb1d": {
          "model_module": "@jupyter-widgets/controls",
          "model_name": "ProgressStyleModel",
          "model_module_version": "1.5.0",
          "state": {
            "_view_name": "StyleView",
            "_model_name": "ProgressStyleModel",
            "description_width": "",
            "_view_module": "@jupyter-widgets/base",
            "_model_module_version": "1.5.0",
            "_view_count": null,
            "_view_module_version": "1.2.0",
            "bar_color": null,
            "_model_module": "@jupyter-widgets/controls"
          }
        },
        "1d09d0be2da54fefb98cc49d403a60ac": {
          "model_module": "@jupyter-widgets/base",
          "model_name": "LayoutModel",
          "model_module_version": "1.2.0",
          "state": {
            "_view_name": "LayoutView",
            "grid_template_rows": null,
            "right": null,
            "justify_content": null,
            "_view_module": "@jupyter-widgets/base",
            "overflow": null,
            "_model_module_version": "1.2.0",
            "_view_count": null,
            "flex_flow": null,
            "width": null,
            "min_width": null,
            "border": null,
            "align_items": null,
            "bottom": null,
            "_model_module": "@jupyter-widgets/base",
            "top": null,
            "grid_column": null,
            "overflow_y": null,
            "overflow_x": null,
            "grid_auto_flow": null,
            "grid_area": null,
            "grid_template_columns": null,
            "flex": null,
            "_model_name": "LayoutModel",
            "justify_items": null,
            "grid_row": null,
            "max_height": null,
            "align_content": null,
            "visibility": null,
            "align_self": null,
            "height": null,
            "min_height": null,
            "padding": null,
            "grid_auto_rows": null,
            "grid_gap": null,
            "max_width": null,
            "order": null,
            "_view_module_version": "1.2.0",
            "grid_template_areas": null,
            "object_position": null,
            "object_fit": null,
            "grid_auto_columns": null,
            "margin": null,
            "display": null,
            "left": null
          }
        },
        "0e842bd1041642ffab96af2d94737e71": {
          "model_module": "@jupyter-widgets/controls",
          "model_name": "DescriptionStyleModel",
          "model_module_version": "1.5.0",
          "state": {
            "_view_name": "StyleView",
            "_model_name": "DescriptionStyleModel",
            "description_width": "",
            "_view_module": "@jupyter-widgets/base",
            "_model_module_version": "1.5.0",
            "_view_count": null,
            "_view_module_version": "1.2.0",
            "_model_module": "@jupyter-widgets/controls"
          }
        },
        "9d083fe08dc749f2a0ae26a8453e9b83": {
          "model_module": "@jupyter-widgets/base",
          "model_name": "LayoutModel",
          "model_module_version": "1.2.0",
          "state": {
            "_view_name": "LayoutView",
            "grid_template_rows": null,
            "right": null,
            "justify_content": null,
            "_view_module": "@jupyter-widgets/base",
            "overflow": null,
            "_model_module_version": "1.2.0",
            "_view_count": null,
            "flex_flow": null,
            "width": null,
            "min_width": null,
            "border": null,
            "align_items": null,
            "bottom": null,
            "_model_module": "@jupyter-widgets/base",
            "top": null,
            "grid_column": null,
            "overflow_y": null,
            "overflow_x": null,
            "grid_auto_flow": null,
            "grid_area": null,
            "grid_template_columns": null,
            "flex": null,
            "_model_name": "LayoutModel",
            "justify_items": null,
            "grid_row": null,
            "max_height": null,
            "align_content": null,
            "visibility": null,
            "align_self": null,
            "height": null,
            "min_height": null,
            "padding": null,
            "grid_auto_rows": null,
            "grid_gap": null,
            "max_width": null,
            "order": null,
            "_view_module_version": "1.2.0",
            "grid_template_areas": null,
            "object_position": null,
            "object_fit": null,
            "grid_auto_columns": null,
            "margin": null,
            "display": null,
            "left": null
          }
        },
        "a986ca0ea0cb4427b81441a5c83492e2": {
          "model_module": "@jupyter-widgets/controls",
          "model_name": "HBoxModel",
          "model_module_version": "1.5.0",
          "state": {
            "_view_name": "HBoxView",
            "_dom_classes": [],
            "_model_name": "HBoxModel",
            "_view_module": "@jupyter-widgets/controls",
            "_model_module_version": "1.5.0",
            "_view_count": null,
            "_view_module_version": "1.5.0",
            "box_style": "",
            "layout": "IPY_MODEL_eddea0a9af9945ad86b46136b42e8380",
            "_model_module": "@jupyter-widgets/controls",
            "children": [
              "IPY_MODEL_2576ad87e43c4289b394a7deb62a6460",
              "IPY_MODEL_0b2172709962430d87ab11f15c4f909f",
              "IPY_MODEL_0a9fc54dc4944c9f8cfe856e0eb264be"
            ]
          }
        },
        "eddea0a9af9945ad86b46136b42e8380": {
          "model_module": "@jupyter-widgets/base",
          "model_name": "LayoutModel",
          "model_module_version": "1.2.0",
          "state": {
            "_view_name": "LayoutView",
            "grid_template_rows": null,
            "right": null,
            "justify_content": null,
            "_view_module": "@jupyter-widgets/base",
            "overflow": null,
            "_model_module_version": "1.2.0",
            "_view_count": null,
            "flex_flow": null,
            "width": null,
            "min_width": null,
            "border": null,
            "align_items": null,
            "bottom": null,
            "_model_module": "@jupyter-widgets/base",
            "top": null,
            "grid_column": null,
            "overflow_y": null,
            "overflow_x": null,
            "grid_auto_flow": null,
            "grid_area": null,
            "grid_template_columns": null,
            "flex": null,
            "_model_name": "LayoutModel",
            "justify_items": null,
            "grid_row": null,
            "max_height": null,
            "align_content": null,
            "visibility": null,
            "align_self": null,
            "height": null,
            "min_height": null,
            "padding": null,
            "grid_auto_rows": null,
            "grid_gap": null,
            "max_width": null,
            "order": null,
            "_view_module_version": "1.2.0",
            "grid_template_areas": null,
            "object_position": null,
            "object_fit": null,
            "grid_auto_columns": null,
            "margin": null,
            "display": null,
            "left": null
          }
        },
        "2576ad87e43c4289b394a7deb62a6460": {
          "model_module": "@jupyter-widgets/controls",
          "model_name": "HTMLModel",
          "model_module_version": "1.5.0",
          "state": {
            "_view_name": "HTMLView",
            "style": "IPY_MODEL_9efb3304bfa147e2aed537727c328517",
            "_dom_classes": [],
            "description": "",
            "_model_name": "HTMLModel",
            "placeholder": "​",
            "_view_module": "@jupyter-widgets/controls",
            "_model_module_version": "1.5.0",
            "value": "Training: 100%",
            "_view_count": null,
            "_view_module_version": "1.5.0",
            "description_tooltip": null,
            "_model_module": "@jupyter-widgets/controls",
            "layout": "IPY_MODEL_49c523bcf77248dd9c9704089cc8290a"
          }
        },
        "0b2172709962430d87ab11f15c4f909f": {
          "model_module": "@jupyter-widgets/controls",
          "model_name": "FloatProgressModel",
          "model_module_version": "1.5.0",
          "state": {
            "_view_name": "ProgressView",
            "style": "IPY_MODEL_fef63ea06fa24e54abb83b2fd0a8d151",
            "_dom_classes": [],
            "description": "",
            "_model_name": "FloatProgressModel",
            "bar_style": "",
            "max": 92,
            "_view_module": "@jupyter-widgets/controls",
            "_model_module_version": "1.5.0",
            "value": 92,
            "_view_count": null,
            "_view_module_version": "1.5.0",
            "orientation": "horizontal",
            "min": 0,
            "description_tooltip": null,
            "_model_module": "@jupyter-widgets/controls",
            "layout": "IPY_MODEL_e980d887baf9448088c18e2077e6c762"
          }
        },
        "0a9fc54dc4944c9f8cfe856e0eb264be": {
          "model_module": "@jupyter-widgets/controls",
          "model_name": "HTMLModel",
          "model_module_version": "1.5.0",
          "state": {
            "_view_name": "HTMLView",
            "style": "IPY_MODEL_f0f3c6e5184b4cb299a30afe7c29a643",
            "_dom_classes": [],
            "description": "",
            "_model_name": "HTMLModel",
            "placeholder": "​",
            "_view_module": "@jupyter-widgets/controls",
            "_model_module_version": "1.5.0",
            "value": " 92/92 [03:21&lt;00:00,  2.24s/it]",
            "_view_count": null,
            "_view_module_version": "1.5.0",
            "description_tooltip": null,
            "_model_module": "@jupyter-widgets/controls",
            "layout": "IPY_MODEL_5caf5449bc8646449a60201979ee423c"
          }
        },
        "9efb3304bfa147e2aed537727c328517": {
          "model_module": "@jupyter-widgets/controls",
          "model_name": "DescriptionStyleModel",
          "model_module_version": "1.5.0",
          "state": {
            "_view_name": "StyleView",
            "_model_name": "DescriptionStyleModel",
            "description_width": "",
            "_view_module": "@jupyter-widgets/base",
            "_model_module_version": "1.5.0",
            "_view_count": null,
            "_view_module_version": "1.2.0",
            "_model_module": "@jupyter-widgets/controls"
          }
        },
        "49c523bcf77248dd9c9704089cc8290a": {
          "model_module": "@jupyter-widgets/base",
          "model_name": "LayoutModel",
          "model_module_version": "1.2.0",
          "state": {
            "_view_name": "LayoutView",
            "grid_template_rows": null,
            "right": null,
            "justify_content": null,
            "_view_module": "@jupyter-widgets/base",
            "overflow": null,
            "_model_module_version": "1.2.0",
            "_view_count": null,
            "flex_flow": null,
            "width": null,
            "min_width": null,
            "border": null,
            "align_items": null,
            "bottom": null,
            "_model_module": "@jupyter-widgets/base",
            "top": null,
            "grid_column": null,
            "overflow_y": null,
            "overflow_x": null,
            "grid_auto_flow": null,
            "grid_area": null,
            "grid_template_columns": null,
            "flex": null,
            "_model_name": "LayoutModel",
            "justify_items": null,
            "grid_row": null,
            "max_height": null,
            "align_content": null,
            "visibility": null,
            "align_self": null,
            "height": null,
            "min_height": null,
            "padding": null,
            "grid_auto_rows": null,
            "grid_gap": null,
            "max_width": null,
            "order": null,
            "_view_module_version": "1.2.0",
            "grid_template_areas": null,
            "object_position": null,
            "object_fit": null,
            "grid_auto_columns": null,
            "margin": null,
            "display": null,
            "left": null
          }
        },
        "fef63ea06fa24e54abb83b2fd0a8d151": {
          "model_module": "@jupyter-widgets/controls",
          "model_name": "ProgressStyleModel",
          "model_module_version": "1.5.0",
          "state": {
            "_view_name": "StyleView",
            "_model_name": "ProgressStyleModel",
            "description_width": "",
            "_view_module": "@jupyter-widgets/base",
            "_model_module_version": "1.5.0",
            "_view_count": null,
            "_view_module_version": "1.2.0",
            "bar_color": null,
            "_model_module": "@jupyter-widgets/controls"
          }
        },
        "e980d887baf9448088c18e2077e6c762": {
          "model_module": "@jupyter-widgets/base",
          "model_name": "LayoutModel",
          "model_module_version": "1.2.0",
          "state": {
            "_view_name": "LayoutView",
            "grid_template_rows": null,
            "right": null,
            "justify_content": null,
            "_view_module": "@jupyter-widgets/base",
            "overflow": null,
            "_model_module_version": "1.2.0",
            "_view_count": null,
            "flex_flow": null,
            "width": null,
            "min_width": null,
            "border": null,
            "align_items": null,
            "bottom": null,
            "_model_module": "@jupyter-widgets/base",
            "top": null,
            "grid_column": null,
            "overflow_y": null,
            "overflow_x": null,
            "grid_auto_flow": null,
            "grid_area": null,
            "grid_template_columns": null,
            "flex": null,
            "_model_name": "LayoutModel",
            "justify_items": null,
            "grid_row": null,
            "max_height": null,
            "align_content": null,
            "visibility": null,
            "align_self": null,
            "height": null,
            "min_height": null,
            "padding": null,
            "grid_auto_rows": null,
            "grid_gap": null,
            "max_width": null,
            "order": null,
            "_view_module_version": "1.2.0",
            "grid_template_areas": null,
            "object_position": null,
            "object_fit": null,
            "grid_auto_columns": null,
            "margin": null,
            "display": null,
            "left": null
          }
        },
        "f0f3c6e5184b4cb299a30afe7c29a643": {
          "model_module": "@jupyter-widgets/controls",
          "model_name": "DescriptionStyleModel",
          "model_module_version": "1.5.0",
          "state": {
            "_view_name": "StyleView",
            "_model_name": "DescriptionStyleModel",
            "description_width": "",
            "_view_module": "@jupyter-widgets/base",
            "_model_module_version": "1.5.0",
            "_view_count": null,
            "_view_module_version": "1.2.0",
            "_model_module": "@jupyter-widgets/controls"
          }
        },
        "5caf5449bc8646449a60201979ee423c": {
          "model_module": "@jupyter-widgets/base",
          "model_name": "LayoutModel",
          "model_module_version": "1.2.0",
          "state": {
            "_view_name": "LayoutView",
            "grid_template_rows": null,
            "right": null,
            "justify_content": null,
            "_view_module": "@jupyter-widgets/base",
            "overflow": null,
            "_model_module_version": "1.2.0",
            "_view_count": null,
            "flex_flow": null,
            "width": null,
            "min_width": null,
            "border": null,
            "align_items": null,
            "bottom": null,
            "_model_module": "@jupyter-widgets/base",
            "top": null,
            "grid_column": null,
            "overflow_y": null,
            "overflow_x": null,
            "grid_auto_flow": null,
            "grid_area": null,
            "grid_template_columns": null,
            "flex": null,
            "_model_name": "LayoutModel",
            "justify_items": null,
            "grid_row": null,
            "max_height": null,
            "align_content": null,
            "visibility": null,
            "align_self": null,
            "height": null,
            "min_height": null,
            "padding": null,
            "grid_auto_rows": null,
            "grid_gap": null,
            "max_width": null,
            "order": null,
            "_view_module_version": "1.2.0",
            "grid_template_areas": null,
            "object_position": null,
            "object_fit": null,
            "grid_auto_columns": null,
            "margin": null,
            "display": null,
            "left": null
          }
        }
      }
    }
  },
  "cells": [
    {
      "cell_type": "markdown",
      "metadata": {
        "id": "view-in-github",
        "colab_type": "text"
      },
      "source": [
        "<a href=\"https://colab.research.google.com/github/yunpengliDataScience/Facial_Recognition_OpenCV_HAAR_Cascade/blob/master/Skin_Cancer_Analysis/DL_YunpengLi.ipynb\" target=\"_parent\"><img src=\"https://colab.research.google.com/assets/colab-badge.svg\" alt=\"Open In Colab\"/></a>"
      ]
    },
    {
      "cell_type": "code",
      "metadata": {
        "id": "R_olGkLeevVm"
      },
      "source": [
        "import sys\n",
        "import os\n",
        "from imageio import imread\n",
        "from PIL import Image\n",
        "from glob import glob\n",
        "import numpy as np\n",
        "import pandas as pd\n",
        "import seaborn as sns\n",
        "import matplotlib.pyplot as plt\n",
        "from matplotlib.pyplot import imshow\n",
        "\n",
        "import math \n",
        "from sklearn.model_selection import train_test_split\n",
        "from sklearn.metrics import accuracy_score\n",
        "from sklearn.metrics import f1_score\n",
        "from sklearn.metrics import roc_auc_score\n",
        "from sklearn.metrics import mean_squared_error\n",
        "from sklearn.metrics import r2_score\n",
        "from sklearn.metrics import auc\n",
        "from sklearn.metrics import roc_curve\n"
      ],
      "execution_count": null,
      "outputs": []
    },
    {
      "cell_type": "code",
      "metadata": {
        "id": "CxMSh0xEEVUq"
      },
      "source": [
        "# Print all output\n",
        "from IPython.core.interactiveshell import InteractiveShell\n",
        "InteractiveShell.ast_node_interactivity = \"all\""
      ],
      "execution_count": null,
      "outputs": []
    },
    {
      "cell_type": "markdown",
      "metadata": {
        "id": "sJKAVLkFt4MC"
      },
      "source": [
        "**Display enviroment**"
      ]
    },
    {
      "cell_type": "code",
      "metadata": {
        "colab": {
          "base_uri": "https://localhost:8080/"
        },
        "id": "MmmTbb2kt3CE",
        "outputId": "70a704b0-3783-4cdb-8fef-2a779a2ca92e"
      },
      "source": [
        "!nvidia-smi"
      ],
      "execution_count": null,
      "outputs": [
        {
          "output_type": "stream",
          "name": "stdout",
          "text": [
            "Sat Oct  9 12:41:30 2021       \n",
            "+-----------------------------------------------------------------------------+\n",
            "| NVIDIA-SMI 470.74       Driver Version: 460.32.03    CUDA Version: 11.2     |\n",
            "|-------------------------------+----------------------+----------------------+\n",
            "| GPU  Name        Persistence-M| Bus-Id        Disp.A | Volatile Uncorr. ECC |\n",
            "| Fan  Temp  Perf  Pwr:Usage/Cap|         Memory-Usage | GPU-Util  Compute M. |\n",
            "|                               |                      |               MIG M. |\n",
            "|===============================+======================+======================|\n",
            "|   0  Tesla P100-PCIE...  Off  | 00000000:00:04.0 Off |                    0 |\n",
            "| N/A   43C    P0    28W / 250W |      2MiB / 16280MiB |      0%      Default |\n",
            "|                               |                      |                  N/A |\n",
            "+-------------------------------+----------------------+----------------------+\n",
            "                                                                               \n",
            "+-----------------------------------------------------------------------------+\n",
            "| Processes:                                                                  |\n",
            "|  GPU   GI   CI        PID   Type   Process name                  GPU Memory |\n",
            "|        ID   ID                                                   Usage      |\n",
            "|=============================================================================|\n",
            "|  No running processes found                                                 |\n",
            "+-----------------------------------------------------------------------------+\n"
          ]
        }
      ]
    },
    {
      "cell_type": "markdown",
      "metadata": {
        "id": "b52t2xnK_7kZ"
      },
      "source": [
        "**Mount google drive:**"
      ]
    },
    {
      "cell_type": "code",
      "metadata": {
        "colab": {
          "base_uri": "https://localhost:8080/"
        },
        "id": "hUFwuTwKhBtH",
        "outputId": "4b47cc9a-fd8e-45df-ba49-5ba975b1743c"
      },
      "source": [
        "from google.colab import drive\n",
        "drive.mount('/content/gdrive')\n"
      ],
      "execution_count": null,
      "outputs": [
        {
          "output_type": "stream",
          "name": "stdout",
          "text": [
            "Mounted at /content/gdrive\n"
          ]
        }
      ]
    },
    {
      "cell_type": "markdown",
      "metadata": {
        "id": "ge_ol4dgo2nT"
      },
      "source": [
        "**Utility Functions**"
      ]
    },
    {
      "cell_type": "code",
      "metadata": {
        "id": "fFbza0G4o1OM"
      },
      "source": [
        "def pred(model, img):\n",
        "    with torch.no_grad():#Always turn off gradients when evaluating!\n",
        "        c, w, h = img.shape#Whats the width/height of the image\n",
        "        if not isinstance(img, torch.Tensor):\n",
        "            img = torch.tensor(img)\n",
        "        x = img.reshape(1,-1,w,h)#reshape it as (B, C, W, H)\n",
        "        logits = model(x) #Get the logits\n",
        "        \n",
        "        y_hat = F.softmax(logits, dim=1)#Turn into probabilities \n",
        "        \n",
        "        \n",
        "        return y_hat.cpu().numpy().flatten()#convert prediction to numpy array. "
      ],
      "execution_count": null,
      "outputs": []
    },
    {
      "cell_type": "code",
      "metadata": {
        "id": "nFei7eD2qV6z"
      },
      "source": [
        "def moveTo(obj, device):\n",
        "    \"\"\"\n",
        "    obj: the python object to move to a device, or to move its contents to a device\n",
        "    device: the compute device to move objects to\n",
        "    \"\"\"\n",
        "    if hasattr(obj, \"to\"):\n",
        "        return obj.to(device)\n",
        "    elif isinstance(obj, list):\n",
        "        return [moveTo(x, device) for x in obj]\n",
        "    elif isinstance(obj, tuple):\n",
        "        return tuple(moveTo(list(obj), device))\n",
        "    elif isinstance(obj, set):\n",
        "        return set(moveTo(list(obj), device))\n",
        "    elif isinstance(obj, dict):\n",
        "        to_ret = dict()\n",
        "        for key, value in obj.items():\n",
        "            to_ret[moveTo(key, device)] = moveTo(value, device)\n",
        "        return to_ret\n",
        "    else:\n",
        "        return obj"
      ],
      "execution_count": null,
      "outputs": []
    },
    {
      "cell_type": "code",
      "metadata": {
        "id": "6IiabZChooIn"
      },
      "source": [
        "def run_epoch(model, optimizer, data_loader, loss_func, device, results, score_funcs, prefix=\"\", desc=None):\n",
        "    \"\"\"\n",
        "    model -- the PyTorch model / \"Module\" to run for one epoch\n",
        "    optimizer -- the object that will update the weights of the network\n",
        "    data_loader -- DataLoader object that returns tuples of (input, label) pairs. \n",
        "    loss_func -- the loss function that takes in two arguments, the model outputs and the labels, and returns a score\n",
        "    device -- the compute lodation to perform training\n",
        "    score_funcs -- a dictionary of scoring functions to use to evalue the performance of the model\n",
        "    prefix -- a string to pre-fix to any scores placed into the _results_ dictionary. \n",
        "    desc -- a description to use for the progress bar.     \n",
        "    \"\"\"\n",
        "    running_loss = []\n",
        "    y_true = []\n",
        "    y_pred = []\n",
        "    start = time.time()\n",
        "    for inputs, labels in tqdm(data_loader, desc=desc, leave=False):\n",
        "        #Move the batch to the device we are using. \n",
        "        inputs = moveTo(inputs, device)\n",
        "        labels = moveTo(labels, device)\n",
        "\n",
        "        y_hat = model(inputs) #this just computed f_Θ(x(i))\n",
        "        # Compute loss.\n",
        "        loss = loss_func(y_hat, labels)\n",
        "\n",
        "        if model.training:\n",
        "            loss.backward()\n",
        "            optimizer.step()\n",
        "            optimizer.zero_grad()\n",
        "\n",
        "        #Now we are just grabbing some information we would like to have\n",
        "        running_loss.append(loss.item())\n",
        "\n",
        "        if len(score_funcs) > 0 and isinstance(labels, torch.Tensor):\n",
        "            #moving labels & predictions back to CPU for computing / storing predictions\n",
        "            labels = labels.detach().cpu().numpy()\n",
        "            y_hat = y_hat.detach().cpu().numpy()\n",
        "            #add to predictions so far\n",
        "            y_true.extend(labels.tolist())\n",
        "            y_pred.extend(y_hat.tolist())\n",
        "    #end training epoch\n",
        "    end = time.time()\n",
        "    \n",
        "    y_pred = np.asarray(y_pred)\n",
        "    if len(y_pred.shape) == 2 and y_pred.shape[1] > 1: #We have a classification problem, convert to labels\n",
        "        y_pred = np.argmax(y_pred, axis=1)\n",
        "    #Else, we assume we are working on a regression problem\n",
        "    \n",
        "    results[prefix + \" loss\"].append( np.mean(running_loss) )\n",
        "    for name, score_func in score_funcs.items():\n",
        "        try:\n",
        "            results[prefix + \" \" + name].append( score_func(y_true, y_pred) )\n",
        "        except:\n",
        "            results[prefix + \" \" + name].append(float(\"NaN\"))\n",
        "    return end-start #time spent on epoch"
      ],
      "execution_count": null,
      "outputs": []
    },
    {
      "cell_type": "markdown",
      "metadata": {
        "id": "FnTG__ZNpimI"
      },
      "source": [
        "Define a function that reload states to the given model and optimizer from the checkpoint file, and it also returns previously trained results and the latest epoch number:"
      ]
    },
    {
      "cell_type": "code",
      "metadata": {
        "id": "tRBsk8cupcHz"
      },
      "source": [
        "# reload the states to the given model and optimizer from the checkpoint file\n",
        "def resume_states(checkpoint_file, model, optimizer, is_debug=False):\n",
        "  del_opt = False\n",
        "  results = {}\n",
        "  last_epoch = -1\n",
        "\n",
        "  if(checkpoint_file and os.path.isfile(checkpoint_file)):\n",
        "    checkpoint = torch.load(checkpoint_file)\n",
        "    model.load_state_dict(checkpoint['model_state_dict'])\n",
        "\n",
        "    if(optimizer != None):\n",
        "      optimizer.load_state_dict(checkpoint['optimizer_state_dict'])\n",
        "    else:\n",
        "      #Create a default AdamW optimizer, then load state\n",
        "      optimizer = torch.optim.AdamW(model.parameters())\n",
        "      optimizer.load_state_dict(checkpoint['optimizer_state_dict'])\n",
        "    \n",
        "    results = checkpoint['results']\n",
        "    last_epoch = checkpoint['epoch']\n",
        "\n",
        "    if(is_debug):\n",
        "      print('Loading checkpoint file:', checkpoint_file)\n",
        "      print('last_epoch: ', last_epoch)\n",
        "      print('results:', results)\n",
        "      total_train_time = results[\"total time\"][-1]\n",
        "      print('total_train_time:', total_train_time)\n",
        "      print('del_opt:', del_opt)\n",
        "      print(model)\n",
        "  \n",
        "  if(optimizer==None):\n",
        "    optimizer = torch.optim.AdamW(model.parameters())\n",
        "    del_opt = True\n",
        "\n",
        "  return model, optimizer, last_epoch, results, del_opt"
      ],
      "execution_count": null,
      "outputs": []
    },
    {
      "cell_type": "code",
      "metadata": {
        "id": "LzyIIDLPoW-D"
      },
      "source": [
        "def train_network(model, loss_func, train_loader, val_loader=None, test_loader=None,score_funcs=None, \n",
        "                         epochs=50, device=\"cpu\", checkpoint_file=None, \n",
        "                         lr_schedule=None, optimizer=None, disable_tqdm=False\n",
        "                        ):\n",
        "    \"\"\"Train simple neural networks\n",
        "    \n",
        "    Keyword arguments:\n",
        "    model -- the PyTorch model / \"Module\" to train\n",
        "    loss_func -- the loss function that takes in batch in two arguments, the model outputs and the labels, and returns a score\n",
        "    train_loader -- PyTorch DataLoader object that returns tuples of (input, label) pairs. \n",
        "    val_loader -- Optional PyTorch DataLoader to evaluate on after every epoch\n",
        "    test_loader -- Optional PyTorch DataLoader to evaluate on after every epoch\n",
        "    score_funcs -- A dictionary of scoring functions to use to evalue the performance of the model\n",
        "    epochs -- the number of training epochs to perform\n",
        "    device -- the compute lodation to perform training\n",
        "    lr_schedule -- the learning rate schedule used to alter \\eta as the model trains. If this is not None than the user must also provide the optimizer to use. \n",
        "    optimizer -- the method used to alter the gradients for learning. \n",
        "    \n",
        "    \"\"\"\n",
        "    results = {}\n",
        "    last_epoch = -1\n",
        "    delete_opt = True\n",
        "    total_train_time = 0.0 #How long have we spent in the training loop?\n",
        "    the_optimizer = optimizer\n",
        "    the_model = model\n",
        "\n",
        "    ############################################################################################################################\n",
        "    ###### Attempt to resume previous training states whenever a specified checkpoint file exists.\n",
        "    ############################################################################################################################\n",
        "    the_model, the_optimizer, last_epoch, results, delete_opt = resume_states(checkpoint_file, model, optimizer, is_debug=True)\n",
        "\n",
        "    if(len(results)!=0):  \n",
        "      total_train_time = results[\"total time\"][-1]  # Restore the latest total training time \n",
        "\n",
        "    if score_funcs == None:\n",
        "        score_funcs = {}#Empty set \n",
        "    \n",
        "    to_track = [\"epoch\", \"total time\", \"train loss\"]\n",
        "    if val_loader is not None:\n",
        "        to_track.append(\"val loss\")\n",
        "    if test_loader is not None:\n",
        "        to_track.append(\"test loss\")\n",
        "    for eval_score in score_funcs:\n",
        "        to_track.append(\"train \" + eval_score )\n",
        "        if val_loader is not None:\n",
        "            to_track.append(\"val \" + eval_score )\n",
        "        if test_loader is not None:\n",
        "            to_track.append(\"test \"+ eval_score )\n",
        "        \n",
        "     \n",
        "    if(len(results)==0):\n",
        "      #Initialize every item with an empty list\n",
        "      for item in to_track:\n",
        "        results[item] = []\n",
        "\n",
        "    del_opt = delete_opt\n",
        "\n",
        "    #Place the model on the correct compute resource (CPU or GPU)\n",
        "    the_model.to(device)\n",
        "\n",
        "    if(last_epoch==-1):  #No last_epoch is found in checkpoint file, so it indicates training starts from brand new and not from resumed state\n",
        "      start_epoch = 0\n",
        "    else:\n",
        "      start_epoch = last_epoch + 1\n",
        "\n",
        "    for epoch in tqdm(range(start_epoch, epochs), desc=\"Epoch\", disable=disable_tqdm):\n",
        "        the_model = the_model.train()#Put our model in training mode\n",
        "\n",
        "        total_train_time += run_epoch(the_model, the_optimizer, train_loader, loss_func, device, results, score_funcs, prefix=\"train\", desc=\"Training\")\n",
        "        \n",
        "        results[\"epoch\"].append( epoch )\n",
        "        results[\"total time\"].append( total_train_time )\n",
        "        \n",
        "      \n",
        "        if val_loader is not None:\n",
        "            the_model = the_model.eval() #Set the model to \"evaluation\" mode, b/c we don't want to make any updates!\n",
        "            with torch.no_grad():\n",
        "                run_epoch(the_model, the_optimizer, val_loader, loss_func, device, results, score_funcs, prefix=\"val\", desc=\"Validating\")\n",
        "                \n",
        "        #In PyTorch, the convention is to update the learning rate after every epoch\n",
        "        if lr_schedule is not None:\n",
        "            if isinstance(lr_schedule, torch.optim.lr_scheduler.ReduceLROnPlateau):\n",
        "                lr_schedule.step(results[\"val loss\"][-1])\n",
        "            else:\n",
        "                lr_schedule.step()\n",
        "                \n",
        "        if test_loader is not None:\n",
        "            the_model = the_model.eval() #Set the model to \"evaluation\" mode, b/c we don't want to make any updates!\n",
        "            with torch.no_grad():\n",
        "                run_epoch(the_model, the_optimizer, val_loader, loss_func, device, results, score_funcs, prefix=\"test\", desc=\"Testing\")\n",
        "        \n",
        "        \n",
        "        if checkpoint_file is not None:\n",
        "            torch.save({\n",
        "                'epoch': epoch,\n",
        "                'model_state_dict': the_model.state_dict(),\n",
        "                'optimizer_state_dict': the_optimizer.state_dict(),\n",
        "                'results' : results\n",
        "                }, checkpoint_file)\n",
        "    if del_opt:\n",
        "        del the_optimizer\n",
        "\n",
        "    return pd.DataFrame.from_dict(results)"
      ],
      "execution_count": null,
      "outputs": []
    },
    {
      "cell_type": "markdown",
      "metadata": {
        "id": "tBWzuh1jARC8"
      },
      "source": [
        "**Create project root path:**"
      ]
    },
    {
      "cell_type": "code",
      "metadata": {
        "colab": {
          "base_uri": "https://localhost:8080/"
        },
        "id": "f1SiPSYm83er",
        "outputId": "734693ac-51c4-4d1e-f335-0b1c595d1f6f"
      },
      "source": [
        "project_root_path_string = '/content/gdrive/My Drive/Data606/Project/Skin_Cancer_Analysis/'\n",
        "\n",
        "#project_root_path_string = 'C:\\\\Users\\\\yunpe\\\\Documents\\\\Data606\\\\Project\\\\Skin_Cancer_Analysis'\n",
        "print(\"project_root_path_string:\", project_root_path_string)"
      ],
      "execution_count": null,
      "outputs": [
        {
          "output_type": "stream",
          "name": "stdout",
          "text": [
            "project_root_path_string: /content/gdrive/My Drive/Data606/Project/Skin_Cancer_Analysis/\n"
          ]
        }
      ]
    },
    {
      "cell_type": "code",
      "metadata": {
        "colab": {
          "base_uri": "https://localhost:8080/"
        },
        "id": "50DOwIyy9vLj",
        "outputId": "7812fa90-b9ce-450a-a26c-ade8d372ba6c"
      },
      "source": [
        "sys.path.append(project_root_path_string)\n",
        "\n",
        "sys.path"
      ],
      "execution_count": null,
      "outputs": [
        {
          "output_type": "execute_result",
          "data": {
            "text/plain": [
              "['',\n",
              " '/content',\n",
              " '/env/python',\n",
              " '/usr/lib/python37.zip',\n",
              " '/usr/lib/python3.7',\n",
              " '/usr/lib/python3.7/lib-dynload',\n",
              " '/usr/local/lib/python3.7/dist-packages',\n",
              " '/usr/lib/python3/dist-packages',\n",
              " '/usr/local/lib/python3.7/dist-packages/IPython/extensions',\n",
              " '/root/.ipython',\n",
              " 'C:\\\\Users\\\\yunpe\\\\Documents\\\\Data606\\\\Project\\\\Skin_Cancer_Analysis',\n",
              " '/content/gdrive/My Drive/Data606/Project/Skin_Cancer_Analysis/']"
            ]
          },
          "metadata": {},
          "execution_count": 30
        }
      ]
    },
    {
      "cell_type": "markdown",
      "metadata": {
        "id": "3FUjuT69TTup"
      },
      "source": [
        "**Get the root data directory:**"
      ]
    },
    {
      "cell_type": "code",
      "metadata": {
        "colab": {
          "base_uri": "https://localhost:8080/"
        },
        "id": "GnO2tkRnsbAC",
        "outputId": "61c3b3d3-9ea6-46cf-d65f-750e7df1f032"
      },
      "source": [
        "data_root_path = os.path.join(project_root_path_string, 'data') \n",
        "\n",
        "print(\"data_root_path:\", data_root_path)"
      ],
      "execution_count": null,
      "outputs": [
        {
          "output_type": "stream",
          "name": "stdout",
          "text": [
            "data_root_path: /content/gdrive/My Drive/Data606/Project/Skin_Cancer_Analysis/data\n"
          ]
        }
      ]
    },
    {
      "cell_type": "markdown",
      "metadata": {
        "id": "pWt2kIJNCBk8"
      },
      "source": [
        "**Get the tabular data path:**"
      ]
    },
    {
      "cell_type": "code",
      "metadata": {
        "colab": {
          "base_uri": "https://localhost:8080/"
        },
        "id": "yhBx2L1WCAdU",
        "outputId": "d6974006-3121-49e3-a88b-602c7949c903"
      },
      "source": [
        "tabular_data_path = os.path.join(data_root_path, 'tabular_data') \n",
        "\n",
        "print(\"tabular_data_path:\", tabular_data_path)"
      ],
      "execution_count": null,
      "outputs": [
        {
          "output_type": "stream",
          "name": "stdout",
          "text": [
            "tabular_data_path: /content/gdrive/My Drive/Data606/Project/Skin_Cancer_Analysis/data/tabular_data\n"
          ]
        }
      ]
    },
    {
      "cell_type": "markdown",
      "metadata": {
        "id": "P0odI1hSUfs-"
      },
      "source": [
        "**Create the lesion type abbrevation and full name dictionary:**"
      ]
    },
    {
      "cell_type": "code",
      "metadata": {
        "id": "x8huJ4EYtceq"
      },
      "source": [
        "lesion_type_dict = {\n",
        "    'ACK': 'Actinic Keratosis',\n",
        "    'BCC': 'Basal Cell Carcinoma',\n",
        "    'MEL': 'Melanoma',\n",
        "    'NEV': 'Nevus',\n",
        "    'SCC': 'Squamous Cell Carcinoma',\n",
        "    'SEK': 'Seborrheic Keratosis'\n",
        "    \n",
        "}"
      ],
      "execution_count": null,
      "outputs": []
    },
    {
      "cell_type": "markdown",
      "metadata": {
        "id": "3wSns8Snj6tq"
      },
      "source": [
        "**Get the skin_categorires path:**"
      ]
    },
    {
      "cell_type": "code",
      "metadata": {
        "colab": {
          "base_uri": "https://localhost:8080/"
        },
        "id": "D4xDzhzuNlJT",
        "outputId": "ad57e78c-ef85-417d-dbb2-8ae2f442128b"
      },
      "source": [
        "processed_image_data_path =  os.path.join(data_root_path, 'processed_image_data') \n",
        "print(\"processed_image_data_path:\", processed_image_data_path)\n",
        "\n",
        "skin_categories_path =  os.path.join(processed_image_data_path, 'skin_categories') \n",
        "print(\"skin_categories_path:\", skin_categories_path)"
      ],
      "execution_count": null,
      "outputs": [
        {
          "output_type": "stream",
          "name": "stdout",
          "text": [
            "processed_image_data_path: /content/gdrive/My Drive/Data606/Project/Skin_Cancer_Analysis/data/processed_image_data\n",
            "skin_categories_path: /content/gdrive/My Drive/Data606/Project/Skin_Cancer_Analysis/data/processed_image_data/skin_categories\n"
          ]
        }
      ]
    },
    {
      "cell_type": "code",
      "metadata": {
        "id": "DvpY1bRSNlAa"
      },
      "source": [
        ""
      ],
      "execution_count": null,
      "outputs": []
    },
    {
      "cell_type": "code",
      "metadata": {
        "id": "9GIcQKH6Nk8b"
      },
      "source": [
        "import torch\n",
        "import torchvision\n",
        "from torchvision import transforms\n",
        "from torch.utils.data import Dataset, DataLoader, Subset\n",
        "from torch.utils.data import WeightedRandomSampler\n",
        "import torch.nn as nn\n",
        "\n",
        "import torch.nn.functional as F\n",
        "from tqdm.autonotebook import tqdm\n",
        "import timeit\n",
        "import time"
      ],
      "execution_count": null,
      "outputs": []
    },
    {
      "cell_type": "code",
      "metadata": {
        "id": "uekQQqI2oEc7"
      },
      "source": [
        "device = torch.device(\"cuda\") if torch.cuda.is_available() else torch.device(\"cpu\")"
      ],
      "execution_count": null,
      "outputs": []
    },
    {
      "cell_type": "code",
      "metadata": {
        "id": "K_xwBOvZMD_7"
      },
      "source": [
        "IMG_W = 224 #128  # image width\n",
        "IMG_H = 224 #128  # image height\n",
        "IMG_C = 3  # image channel\n",
        "RGB_MAX = 255  # max RGB value\n",
        "\n",
        "B = 128 # batch size\n",
        "D = IMG_W * IMG_H # image total pixels\n",
        "n = 256 # hidden layer size\n",
        "\n",
        "C = IMG_C  # number of channels\n",
        "\n",
        "classes = 6 # number of classes\n",
        "\n",
        "filters = 128 # number of filters\n",
        "k = 3 # kernel size\n",
        "\n",
        "epochs = 50"
      ],
      "execution_count": null,
      "outputs": []
    },
    {
      "cell_type": "code",
      "metadata": {
        "id": "Tztkysq4mBJC"
      },
      "source": [
        "all_images = torchvision.datasets.ImageFolder(skin_categories_path)\n"
      ],
      "execution_count": null,
      "outputs": []
    },
    {
      "cell_type": "code",
      "metadata": {
        "colab": {
          "base_uri": "https://localhost:8080/"
        },
        "id": "ALYrhQhyEVU0",
        "outputId": "c9f9cbea-10a3-46ec-c13b-ad58b74805f7"
      },
      "source": [
        "print(all_images.targets)"
      ],
      "execution_count": null,
      "outputs": [
        {
          "output_type": "stream",
          "name": "stdout",
          "text": [
            "[0, 0, 0, 0, 0, 0, 0, 0, 0, 0, 0, 0, 0, 0, 0, 0, 0, 0, 0, 0, 0, 0, 0, 0, 0, 0, 0, 0, 0, 0, 0, 0, 0, 0, 0, 0, 0, 0, 0, 0, 0, 0, 0, 0, 0, 0, 0, 0, 0, 0, 0, 0, 0, 0, 0, 0, 0, 0, 0, 0, 0, 0, 0, 0, 0, 0, 0, 0, 0, 0, 0, 0, 0, 0, 0, 0, 0, 0, 0, 0, 0, 0, 0, 0, 0, 0, 0, 0, 0, 0, 0, 0, 0, 0, 0, 0, 0, 0, 0, 0, 0, 0, 0, 0, 0, 0, 0, 0, 0, 0, 0, 0, 0, 0, 0, 0, 0, 0, 0, 0, 0, 0, 0, 0, 0, 0, 0, 0, 0, 0, 0, 0, 0, 0, 0, 0, 0, 0, 0, 0, 0, 0, 0, 0, 0, 0, 0, 0, 0, 0, 0, 0, 0, 0, 0, 0, 0, 0, 0, 0, 0, 0, 0, 0, 0, 0, 0, 0, 0, 0, 0, 0, 0, 0, 0, 0, 0, 0, 0, 0, 0, 0, 0, 0, 0, 0, 0, 0, 0, 0, 0, 0, 0, 0, 0, 0, 0, 0, 0, 0, 0, 0, 0, 0, 0, 0, 0, 0, 0, 0, 0, 0, 0, 0, 0, 0, 0, 0, 0, 0, 0, 0, 0, 0, 0, 0, 0, 0, 0, 0, 0, 0, 0, 0, 0, 0, 0, 0, 0, 0, 0, 0, 0, 0, 0, 0, 0, 0, 0, 0, 0, 0, 0, 0, 0, 0, 0, 0, 0, 0, 0, 0, 0, 0, 0, 0, 0, 0, 0, 0, 0, 0, 0, 0, 0, 0, 0, 0, 0, 0, 0, 0, 0, 0, 0, 0, 0, 0, 0, 0, 0, 0, 0, 0, 0, 0, 0, 0, 0, 0, 0, 0, 0, 0, 0, 0, 0, 0, 0, 0, 0, 0, 0, 0, 0, 0, 0, 0, 0, 0, 0, 0, 0, 0, 0, 0, 0, 0, 0, 0, 0, 0, 0, 0, 0, 0, 0, 0, 0, 0, 0, 0, 0, 0, 0, 0, 0, 0, 0, 0, 0, 0, 0, 0, 0, 0, 0, 0, 0, 0, 0, 0, 0, 0, 0, 0, 0, 0, 0, 0, 0, 0, 0, 0, 0, 0, 0, 0, 0, 0, 0, 0, 0, 0, 0, 0, 0, 0, 0, 0, 0, 0, 0, 0, 0, 0, 0, 0, 0, 0, 0, 0, 0, 0, 0, 0, 0, 0, 0, 0, 0, 0, 0, 0, 0, 0, 0, 0, 0, 0, 0, 0, 0, 0, 0, 0, 0, 0, 0, 0, 0, 0, 0, 0, 0, 0, 0, 0, 0, 0, 0, 0, 0, 0, 0, 0, 0, 0, 0, 0, 0, 0, 0, 0, 0, 0, 0, 0, 0, 0, 0, 0, 0, 0, 0, 0, 0, 0, 0, 0, 0, 0, 0, 0, 0, 0, 0, 0, 0, 0, 0, 0, 0, 0, 0, 0, 0, 0, 0, 0, 0, 0, 0, 0, 0, 0, 0, 0, 0, 0, 0, 0, 0, 0, 0, 0, 0, 0, 0, 0, 0, 0, 0, 0, 0, 0, 0, 0, 0, 0, 0, 0, 0, 0, 0, 0, 0, 0, 0, 0, 0, 0, 0, 0, 0, 0, 0, 0, 0, 0, 0, 0, 0, 0, 0, 0, 0, 0, 0, 0, 0, 0, 0, 0, 0, 0, 0, 0, 0, 0, 0, 0, 0, 0, 0, 0, 0, 0, 0, 0, 0, 0, 0, 0, 0, 0, 0, 0, 0, 0, 0, 0, 0, 0, 0, 0, 0, 0, 0, 0, 0, 0, 0, 0, 0, 0, 0, 0, 0, 0, 0, 0, 0, 0, 0, 0, 0, 0, 0, 0, 0, 0, 0, 0, 0, 0, 0, 0, 0, 0, 0, 0, 0, 0, 0, 0, 0, 0, 0, 0, 0, 0, 0, 0, 0, 0, 0, 0, 0, 0, 0, 0, 0, 0, 0, 0, 0, 0, 0, 0, 0, 0, 0, 0, 0, 0, 0, 0, 0, 0, 0, 0, 0, 0, 0, 0, 0, 0, 0, 0, 0, 0, 0, 0, 0, 0, 0, 0, 0, 0, 0, 0, 0, 0, 0, 0, 0, 0, 0, 0, 0, 0, 0, 0, 0, 0, 0, 0, 0, 0, 0, 0, 0, 0, 0, 0, 0, 0, 0, 0, 0, 0, 0, 0, 0, 0, 0, 0, 0, 0, 0, 0, 0, 0, 0, 0, 0, 0, 0, 0, 1, 1, 1, 1, 1, 1, 1, 1, 1, 1, 1, 1, 1, 1, 1, 1, 1, 1, 1, 1, 1, 1, 1, 1, 1, 1, 1, 1, 1, 1, 1, 1, 1, 1, 1, 1, 1, 1, 1, 1, 1, 1, 1, 1, 1, 1, 1, 1, 1, 1, 1, 1, 1, 1, 1, 1, 1, 1, 1, 1, 1, 1, 1, 1, 1, 1, 1, 1, 1, 1, 1, 1, 1, 1, 1, 1, 1, 1, 1, 1, 1, 1, 1, 1, 1, 1, 1, 1, 1, 1, 1, 1, 1, 1, 1, 1, 1, 1, 1, 1, 1, 1, 1, 1, 1, 1, 1, 1, 1, 1, 1, 1, 1, 1, 1, 1, 1, 1, 1, 1, 1, 1, 1, 1, 1, 1, 1, 1, 1, 1, 1, 1, 1, 1, 1, 1, 1, 1, 1, 1, 1, 1, 1, 1, 1, 1, 1, 1, 1, 1, 1, 1, 1, 1, 1, 1, 1, 1, 1, 1, 1, 1, 1, 1, 1, 1, 1, 1, 1, 1, 1, 1, 1, 1, 1, 1, 1, 1, 1, 1, 1, 1, 1, 1, 1, 1, 1, 1, 1, 1, 1, 1, 1, 1, 1, 1, 1, 1, 1, 1, 1, 1, 1, 1, 1, 1, 1, 1, 1, 1, 1, 1, 1, 1, 1, 1, 1, 1, 1, 1, 1, 1, 1, 1, 1, 1, 1, 1, 1, 1, 1, 1, 1, 1, 1, 1, 1, 1, 1, 1, 1, 1, 1, 1, 1, 1, 1, 1, 1, 1, 1, 1, 1, 1, 1, 1, 1, 1, 1, 1, 1, 1, 1, 1, 1, 1, 1, 1, 1, 1, 1, 1, 1, 1, 1, 1, 1, 1, 1, 1, 1, 1, 1, 1, 1, 1, 1, 1, 1, 1, 1, 1, 1, 1, 1, 1, 1, 1, 1, 1, 1, 1, 1, 1, 1, 1, 1, 1, 1, 1, 1, 1, 1, 1, 1, 1, 1, 1, 1, 1, 1, 1, 1, 1, 1, 1, 1, 1, 1, 1, 1, 1, 1, 1, 1, 1, 1, 1, 1, 1, 1, 1, 1, 1, 1, 1, 1, 1, 1, 1, 1, 1, 1, 1, 1, 1, 1, 1, 1, 1, 1, 1, 1, 1, 1, 1, 1, 1, 1, 1, 1, 1, 1, 1, 1, 1, 1, 1, 1, 1, 1, 1, 1, 1, 1, 1, 1, 1, 1, 1, 1, 1, 1, 1, 1, 1, 1, 1, 1, 1, 1, 1, 1, 1, 1, 1, 1, 1, 1, 1, 1, 1, 1, 1, 1, 1, 1, 1, 1, 1, 1, 1, 1, 1, 1, 1, 1, 1, 1, 1, 1, 1, 1, 1, 1, 1, 1, 1, 1, 1, 1, 1, 1, 1, 1, 1, 1, 1, 1, 1, 1, 1, 1, 1, 1, 1, 1, 1, 1, 1, 1, 1, 1, 1, 1, 1, 1, 1, 1, 1, 1, 1, 1, 1, 1, 1, 1, 1, 1, 1, 1, 1, 1, 1, 1, 1, 1, 1, 1, 1, 1, 1, 1, 1, 1, 1, 1, 1, 1, 1, 1, 1, 1, 1, 1, 1, 1, 1, 1, 1, 1, 1, 1, 1, 1, 1, 1, 1, 1, 1, 1, 1, 1, 1, 1, 1, 1, 1, 1, 1, 1, 1, 1, 1, 1, 1, 1, 1, 1, 1, 1, 1, 1, 1, 1, 1, 1, 1, 1, 1, 1, 1, 1, 1, 1, 1, 1, 1, 1, 1, 1, 1, 1, 1, 1, 1, 1, 1, 1, 1, 1, 1, 1, 1, 1, 1, 1, 1, 1, 1, 1, 1, 1, 1, 1, 1, 1, 1, 1, 1, 1, 1, 1, 1, 1, 1, 1, 1, 1, 1, 1, 1, 1, 1, 1, 1, 1, 1, 1, 1, 1, 1, 1, 1, 1, 1, 1, 1, 1, 1, 1, 1, 1, 1, 1, 1, 1, 1, 1, 1, 1, 1, 1, 1, 1, 1, 1, 1, 1, 1, 1, 1, 1, 1, 1, 1, 1, 1, 1, 1, 1, 1, 1, 1, 1, 1, 1, 1, 1, 1, 1, 1, 1, 1, 1, 1, 1, 1, 1, 1, 1, 1, 1, 1, 1, 1, 1, 1, 1, 1, 1, 1, 1, 1, 1, 1, 1, 1, 1, 1, 1, 1, 1, 1, 1, 1, 1, 1, 1, 1, 1, 1, 1, 1, 1, 1, 1, 1, 1, 1, 1, 1, 1, 1, 1, 1, 1, 1, 1, 1, 1, 1, 1, 1, 1, 1, 1, 1, 1, 1, 1, 1, 1, 1, 1, 1, 1, 1, 1, 1, 1, 1, 1, 1, 1, 1, 1, 1, 1, 1, 1, 1, 1, 1, 1, 1, 1, 1, 1, 1, 1, 1, 1, 1, 1, 1, 1, 1, 1, 1, 1, 1, 1, 1, 1, 1, 1, 1, 1, 1, 1, 1, 1, 1, 1, 1, 1, 1, 1, 1, 1, 1, 1, 1, 1, 1, 1, 1, 1, 1, 1, 1, 1, 1, 1, 1, 1, 1, 1, 1, 1, 1, 1, 1, 1, 1, 1, 1, 1, 1, 1, 1, 1, 1, 1, 1, 1, 1, 1, 1, 1, 1, 1, 1, 1, 1, 1, 1, 1, 1, 1, 1, 1, 1, 1, 2, 2, 2, 2, 2, 2, 2, 2, 2, 2, 2, 2, 2, 2, 2, 2, 2, 2, 2, 2, 2, 2, 2, 2, 2, 2, 2, 2, 2, 2, 2, 2, 2, 2, 2, 2, 2, 2, 2, 2, 2, 2, 2, 2, 2, 2, 2, 2, 2, 2, 2, 2, 3, 3, 3, 3, 3, 3, 3, 3, 3, 3, 3, 3, 3, 3, 3, 3, 3, 3, 3, 3, 3, 3, 3, 3, 3, 3, 3, 3, 3, 3, 3, 3, 3, 3, 3, 3, 3, 3, 3, 3, 3, 3, 3, 3, 3, 3, 3, 3, 3, 3, 3, 3, 3, 3, 3, 3, 3, 3, 3, 3, 3, 3, 3, 3, 3, 3, 3, 3, 3, 3, 3, 3, 3, 3, 3, 3, 3, 3, 3, 3, 3, 3, 3, 3, 3, 3, 3, 3, 3, 3, 3, 3, 3, 3, 3, 3, 3, 3, 3, 3, 3, 3, 3, 3, 3, 3, 3, 3, 3, 3, 3, 3, 3, 3, 3, 3, 3, 3, 3, 3, 3, 3, 3, 3, 3, 3, 3, 3, 3, 3, 3, 3, 3, 3, 3, 3, 3, 3, 3, 3, 3, 3, 3, 3, 3, 3, 3, 3, 3, 3, 3, 3, 3, 3, 3, 3, 3, 3, 3, 3, 3, 3, 3, 3, 3, 3, 3, 3, 3, 3, 3, 3, 3, 3, 3, 3, 3, 3, 3, 3, 3, 3, 3, 3, 3, 3, 3, 3, 3, 3, 3, 3, 3, 3, 3, 3, 3, 3, 3, 3, 3, 3, 3, 3, 3, 3, 3, 3, 3, 3, 3, 3, 3, 3, 3, 3, 3, 3, 3, 3, 3, 3, 3, 3, 3, 3, 3, 3, 3, 3, 3, 3, 3, 3, 3, 3, 3, 3, 3, 3, 3, 3, 3, 3, 4, 4, 4, 4, 4, 4, 4, 4, 4, 4, 4, 4, 4, 4, 4, 4, 4, 4, 4, 4, 4, 4, 4, 4, 4, 4, 4, 4, 4, 4, 4, 4, 4, 4, 4, 4, 4, 4, 4, 4, 4, 4, 4, 4, 4, 4, 4, 4, 4, 4, 4, 4, 4, 4, 4, 4, 4, 4, 4, 4, 4, 4, 4, 4, 4, 4, 4, 4, 4, 4, 4, 4, 4, 4, 4, 4, 4, 4, 4, 4, 4, 4, 4, 4, 4, 4, 4, 4, 4, 4, 4, 4, 4, 4, 4, 4, 4, 4, 4, 4, 4, 4, 4, 4, 4, 4, 4, 4, 4, 4, 4, 4, 4, 4, 4, 4, 4, 4, 4, 4, 4, 4, 4, 4, 4, 4, 4, 4, 4, 4, 4, 4, 4, 4, 4, 4, 4, 4, 4, 4, 4, 4, 4, 4, 4, 4, 4, 4, 4, 4, 4, 4, 4, 4, 4, 4, 4, 4, 4, 4, 4, 4, 4, 4, 4, 4, 4, 4, 4, 4, 4, 4, 4, 4, 4, 4, 4, 4, 4, 4, 4, 4, 4, 4, 4, 4, 4, 4, 4, 4, 4, 4, 5, 5, 5, 5, 5, 5, 5, 5, 5, 5, 5, 5, 5, 5, 5, 5, 5, 5, 5, 5, 5, 5, 5, 5, 5, 5, 5, 5, 5, 5, 5, 5, 5, 5, 5, 5, 5, 5, 5, 5, 5, 5, 5, 5, 5, 5, 5, 5, 5, 5, 5, 5, 5, 5, 5, 5, 5, 5, 5, 5, 5, 5, 5, 5, 5, 5, 5, 5, 5, 5, 5, 5, 5, 5, 5, 5, 5, 5, 5, 5, 5, 5, 5, 5, 5, 5, 5, 5, 5, 5, 5, 5, 5, 5, 5, 5, 5, 5, 5, 5, 5, 5, 5, 5, 5, 5, 5, 5, 5, 5, 5, 5, 5, 5, 5, 5, 5, 5, 5, 5, 5, 5, 5, 5, 5, 5, 5, 5, 5, 5, 5, 5, 5, 5, 5, 5, 5, 5, 5, 5, 5, 5, 5, 5, 5, 5, 5, 5, 5, 5, 5, 5, 5, 5, 5, 5, 5, 5, 5, 5, 5, 5, 5, 5, 5, 5, 5, 5, 5, 5, 5, 5, 5, 5, 5, 5, 5, 5, 5, 5, 5, 5, 5, 5, 5, 5, 5, 5, 5, 5, 5, 5, 5, 5, 5, 5, 5, 5, 5, 5, 5, 5, 5, 5, 5, 5, 5, 5, 5, 5, 5, 5, 5, 5, 5, 5, 5, 5, 5, 5, 5, 5, 5, 5, 5, 5, 5, 5, 5, 5, 5, 5, 5, 5, 5]\n"
          ]
        }
      ]
    },
    {
      "cell_type": "code",
      "metadata": {
        "colab": {
          "base_uri": "https://localhost:8080/"
        },
        "id": "H0kkNjJc0kQW",
        "outputId": "dfbbb52f-44d3-44b6-a878-1e80bc7ee691"
      },
      "source": [
        "all_images.classes"
      ],
      "execution_count": null,
      "outputs": [
        {
          "output_type": "execute_result",
          "data": {
            "text/plain": [
              "['ACK', 'BCC', 'MEL', 'NEV', 'SCC', 'SEK']"
            ]
          },
          "metadata": {},
          "execution_count": 40
        }
      ]
    },
    {
      "cell_type": "code",
      "metadata": {
        "colab": {
          "base_uri": "https://localhost:8080/"
        },
        "id": "qMCH8l5D0r7z",
        "outputId": "d52c374f-a719-477d-d8bf-fbab7d67eb34"
      },
      "source": [
        "all_images.class_to_idx"
      ],
      "execution_count": null,
      "outputs": [
        {
          "output_type": "execute_result",
          "data": {
            "text/plain": [
              "{'ACK': 0, 'BCC': 1, 'MEL': 2, 'NEV': 3, 'SCC': 4, 'SEK': 5}"
            ]
          },
          "metadata": {},
          "execution_count": 41
        }
      ]
    },
    {
      "cell_type": "code",
      "metadata": {
        "colab": {
          "base_uri": "https://localhost:8080/"
        },
        "id": "bYUxOCivgQHI",
        "outputId": "08f02935-09fd-4494-c913-4faed7f2ca9c"
      },
      "source": [
        "type(all_images)"
      ],
      "execution_count": null,
      "outputs": [
        {
          "output_type": "execute_result",
          "data": {
            "text/plain": [
              "torchvision.datasets.folder.ImageFolder"
            ]
          },
          "metadata": {},
          "execution_count": 42
        }
      ]
    },
    {
      "cell_type": "code",
      "metadata": {
        "id": "3qb_wLSPgWUa"
      },
      "source": [
        ""
      ],
      "execution_count": null,
      "outputs": []
    },
    {
      "cell_type": "markdown",
      "metadata": {
        "id": "jhdNLDYSEVU1"
      },
      "source": [
        "TODO: stratified split? \n",
        "https://discuss.pytorch.org/t/how-to-do-a-stratified-split/62290"
      ]
    },
    {
      "cell_type": "code",
      "metadata": {
        "id": "xjooNJJBx-VK"
      },
      "source": [
        "train_size = int(len(all_images)*0.8)\n",
        "test_size = len(all_images)-train_size\n",
        "\n",
        "train_data, test_data = torch.utils.data.random_split(all_images, (train_size, test_size))"
      ],
      "execution_count": null,
      "outputs": []
    },
    {
      "cell_type": "markdown",
      "metadata": {
        "id": "eYnkCxXJgj2o"
      },
      "source": [
        "The train_dataset and test_dataset are type torch.utils.data.dataset.Subset.  Actual image is stored at the index 0, and the class label is stored at index 1."
      ]
    },
    {
      "cell_type": "code",
      "metadata": {
        "colab": {
          "base_uri": "https://localhost:8080/"
        },
        "id": "f2tEkPK_kZ7J",
        "outputId": "cce20792-87a1-4a19-9f31-41b0508168a3"
      },
      "source": [
        "type(train_data)"
      ],
      "execution_count": null,
      "outputs": [
        {
          "output_type": "execute_result",
          "data": {
            "text/plain": [
              "torch.utils.data.dataset.Subset"
            ]
          },
          "metadata": {},
          "execution_count": 44
        }
      ]
    },
    {
      "cell_type": "code",
      "metadata": {
        "colab": {
          "base_uri": "https://localhost:8080/",
          "height": 571
        },
        "id": "bEo6_bKS8kFv",
        "outputId": "542edd6f-fabd-48fb-8251-f07b5bb60ba2"
      },
      "source": [
        "train_data[1][0]"
      ],
      "execution_count": null,
      "outputs": [
        {
          "output_type": "execute_result",
          "data": {
            "image/png": "[encoded data removed]",
            "text/plain": [
              "<PIL.Image.Image image mode=RGB size=555x554 at 0x7FD4993CFED0>"
            ]
          },
          "metadata": {},
          "execution_count": 45
        }
      ]
    },
    {
      "cell_type": "code",
      "metadata": {
        "colab": {
          "base_uri": "https://localhost:8080/"
        },
        "id": "11wCdm-Yf2tT",
        "outputId": "80584046-e2f5-4170-fec0-5d2b59f30f69"
      },
      "source": [
        "train_data[1][1]"
      ],
      "execution_count": null,
      "outputs": [
        {
          "output_type": "execute_result",
          "data": {
            "text/plain": [
              "0"
            ]
          },
          "metadata": {},
          "execution_count": 46
        }
      ]
    },
    {
      "cell_type": "code",
      "metadata": {
        "colab": {
          "base_uri": "https://localhost:8080/"
        },
        "id": "baG8xTjLvEsj",
        "outputId": "845da700-f8ed-44e5-f9bb-9853b35243ef"
      },
      "source": [
        "type(train_data[1][1])"
      ],
      "execution_count": null,
      "outputs": [
        {
          "output_type": "execute_result",
          "data": {
            "text/plain": [
              "int"
            ]
          },
          "metadata": {},
          "execution_count": 47
        }
      ]
    },
    {
      "cell_type": "markdown",
      "metadata": {
        "id": "MxnJZ-1We22X"
      },
      "source": [
        "**Create a customized dataset for images**"
      ]
    },
    {
      "cell_type": "code",
      "metadata": {
        "id": "5720B-bt8kCf"
      },
      "source": [
        "class SkinImageDataset(Dataset):\n",
        "    # dataset: type is torch.utils.data.dataset.Subset or torch.utils.data.dataset.Dataset\n",
        "    def __init__(self, dataset, transform=None):\n",
        "        self.dataset = dataset\n",
        "        self.transform = transform\n",
        "\n",
        "    def __getitem__(self, index):\n",
        "        if self.transform:\n",
        "            x = self.transform(self.dataset[index][0])  # Retrieve image with transform\n",
        "        else:\n",
        "            x = torch.Tensor(self.dataset[index][0], dtype=torch.float32)  # Retrieve image without transform\n",
        "        \n",
        "        #y = torch.Tensor(self.dataset[index][1], dtype=torch.int)  # Retrieve class label\n",
        "        y = self.dataset[index][1]  # Retrieve class label\n",
        "\n",
        "        return x, y\n",
        "    \n",
        "    def __len__(self):\n",
        "        return len(self.dataset)"
      ],
      "execution_count": null,
      "outputs": []
    },
    {
      "cell_type": "markdown",
      "metadata": {
        "id": "g3i0G8pRtBby"
      },
      "source": [
        "**Data augmentation and transformation**"
      ]
    },
    {
      "cell_type": "code",
      "metadata": {
        "id": "sFI8CZTk5o1r"
      },
      "source": [
        "transform_train = transforms.Compose([transforms.Resize((IMG_H, IMG_W)),\n",
        "                                      transforms.RandomHorizontalFlip(),\n",
        "                                      transforms.RandomVerticalFlip(),\n",
        "                                      transforms.RandomRotation(25),\n",
        "                                      transforms.ColorJitter(brightness=0.1, contrast=0.1, hue=0.1),\n",
        "                                      transforms.RandomAffine(0, shear=10, scale=(0.8,1.2)),\n",
        "                                      #transforms.ColorJitter(brightness=1, contrast=1, saturation=1),\n",
        "                                      transforms.ToTensor(),\n",
        "                                      #transforms.Normalize((0.5, 0.5, 0.5), (0.5, 0.5, 0.5))\n",
        "                                      transforms.Normalize(mean=[0.485, 0.456, 0.406], std=[0.229, 0.224, 0.225])  # Transfer learning normalization requirements\n",
        "                               ])\n",
        "\n",
        "\n",
        "transform_test = transforms.Compose([transforms.Resize((IMG_H, IMG_W)),\n",
        "                               transforms.ToTensor(),\n",
        "                               #transforms.Normalize((0.5, 0.5, 0.5), (0.5, 0.5, 0.5))\n",
        "                               transforms.Normalize(mean=[0.485, 0.456, 0.406], std=[0.229, 0.224, 0.225])  # Transfer learning normalization requirements\n",
        "                               ])"
      ],
      "execution_count": null,
      "outputs": []
    },
    {
      "cell_type": "code",
      "metadata": {
        "id": "K3jhadVu8ReW"
      },
      "source": [
        ""
      ],
      "execution_count": null,
      "outputs": []
    },
    {
      "cell_type": "markdown",
      "metadata": {
        "id": "rU7dHDwogpxP"
      },
      "source": [
        "**Use WeightedRandomSampler to handle imbalanced data:**"
      ]
    },
    {
      "cell_type": "code",
      "metadata": {
        "id": "SkaBJ7ptpuLr"
      },
      "source": [
        "class_idx=all_images.class_to_idx"
      ],
      "execution_count": null,
      "outputs": []
    },
    {
      "cell_type": "code",
      "metadata": {
        "colab": {
          "base_uri": "https://localhost:8080/"
        },
        "id": "xmFTkgoZpzne",
        "outputId": "744ededa-73cf-4e8c-c408-0f3b8e05c11e"
      },
      "source": [
        "type(class_idx)"
      ],
      "execution_count": null,
      "outputs": [
        {
          "output_type": "execute_result",
          "data": {
            "text/plain": [
              "dict"
            ]
          },
          "metadata": {},
          "execution_count": 51
        }
      ]
    },
    {
      "cell_type": "code",
      "metadata": {
        "colab": {
          "base_uri": "https://localhost:8080/"
        },
        "id": "J6gJ_d3-p4-o",
        "outputId": "f826a40b-431c-4cf3-cf19-cec2bc4ffee8"
      },
      "source": [
        "class_idx"
      ],
      "execution_count": null,
      "outputs": [
        {
          "output_type": "execute_result",
          "data": {
            "text/plain": [
              "{'ACK': 0, 'BCC': 1, 'MEL': 2, 'NEV': 3, 'SCC': 4, 'SEK': 5}"
            ]
          },
          "metadata": {},
          "execution_count": 52
        }
      ]
    },
    {
      "cell_type": "code",
      "metadata": {
        "id": "pE4kF5pDiFgX"
      },
      "source": [
        "def create_WeightedRandomSampler(root_dir, dataset):\n",
        "\n",
        "  class_weights = {}\n",
        "  for root, subdir, files in os.walk(root_dir):\n",
        "    \n",
        "    if len(files) > 0:\n",
        "      # When there are image files in current directory, get the base name of the folder as the class name.\n",
        "      class_name = os.path.basename(root)\n",
        "      print(class_name, len(files))\n",
        "\n",
        "      class_weights[class_idx[class_name]] = 1/len(files) # Assign the weight for this class. If the class has more files, it has less weight.\n",
        "\n",
        "  print(class_weights)\n",
        "\n",
        "  sample_weights = [0] * len(dataset)\n",
        "\n",
        "  for idx, (data, label) in enumerate(dataset):\n",
        "    class_weight = class_weights[label]  # Retrieve the class weight based on the data point's label\n",
        "    sample_weights[idx] = class_weight   # Assign the class weight to this data point\n",
        "\n",
        "  sampler = WeightedRandomSampler(sample_weights, num_samples=len(sample_weights), replacement=True) \n",
        "  \n",
        "  return sampler   "
      ],
      "execution_count": null,
      "outputs": []
    },
    {
      "cell_type": "code",
      "metadata": {
        "id": "UCEDXcmS86NQ"
      },
      "source": [
        "train_dataset = SkinImageDataset(dataset=train_data, transform=transform_train)\n",
        "test_dataset = SkinImageDataset(dataset=test_data, transform=transform_test)"
      ],
      "execution_count": null,
      "outputs": []
    },
    {
      "cell_type": "code",
      "metadata": {
        "colab": {
          "base_uri": "https://localhost:8080/"
        },
        "id": "3o1WEU0_j07S",
        "outputId": "e8c17e99-446a-4c7c-dcd5-d12b9e56eafe"
      },
      "source": [
        "weightedRandomSampler = create_WeightedRandomSampler(skin_categories_path, train_dataset)"
      ],
      "execution_count": null,
      "outputs": [
        {
          "output_type": "stream",
          "name": "stdout",
          "text": [
            "NEV 244\n",
            "BCC 845\n",
            "ACK 730\n",
            "SEK 235\n",
            "SCC 192\n",
            "MEL 52\n",
            "{3: 0.004098360655737705, 1: 0.001183431952662722, 0: 0.0013698630136986301, 5: 0.00425531914893617, 4: 0.005208333333333333, 2: 0.019230769230769232}\n"
          ]
        }
      ]
    },
    {
      "cell_type": "code",
      "metadata": {
        "id": "JYfOcpQokZ43"
      },
      "source": [
        "B = 20\n",
        "\n",
        "train_loader = DataLoader(train_dataset, batch_size=B, shuffle=False, sampler=weightedRandomSampler)\n",
        "test_loader = DataLoader(test_dataset, batch_size=B, shuffle=False)"
      ],
      "execution_count": null,
      "outputs": []
    },
    {
      "cell_type": "code",
      "metadata": {
        "id": "spHJbbIMuwKM"
      },
      "source": [
        "checkpoint_resnet18 = os.path.join(project_root_path_string, 'resnet18_checkpoint.pt')"
      ],
      "execution_count": null,
      "outputs": []
    },
    {
      "cell_type": "code",
      "metadata": {
        "id": "pDyLgel6kZ2l",
        "colab": {
          "base_uri": "https://localhost:8080/",
          "height": 66,
          "referenced_widgets": [
            "8f6774c624074bc38c5669d28484649a"
          ]
        },
        "outputId": "ae7068df-d56a-4eea-d036-a0eb175f4a8a"
      },
      "source": [
        "model_resnet18 = torchvision.models.resnet18(pretrained=True)"
      ],
      "execution_count": null,
      "outputs": [
        {
          "output_type": "stream",
          "name": "stderr",
          "text": [
            "Downloading: \"https://download.pytorch.org/models/resnet18-f37072fd.pth\" to /root/.cache/torch/hub/checkpoints/resnet18-f37072fd.pth\n"
          ]
        },
        {
          "output_type": "display_data",
          "data": {
            "application/vnd.jupyter.widget-view+json": {
              "model_id": "8f6774c624074bc38c5669d28484649a",
              "version_minor": 0,
              "version_major": 2
            },
            "text/plain": [
              "  0%|          | 0.00/44.7M [00:00<?, ?B/s]"
            ]
          },
          "metadata": {}
        }
      ]
    },
    {
      "cell_type": "code",
      "metadata": {
        "colab": {
          "base_uri": "https://localhost:8080/"
        },
        "id": "a8Uy0VLem_T9",
        "outputId": "6a6b102e-7256-4d88-9c69-cb1e0bdef2af"
      },
      "source": [
        "model_resnet18"
      ],
      "execution_count": null,
      "outputs": [
        {
          "output_type": "execute_result",
          "data": {
            "text/plain": [
              "ResNet(\n",
              "  (conv1): Conv2d(3, 64, kernel_size=(7, 7), stride=(2, 2), padding=(3, 3), bias=False)\n",
              "  (bn1): BatchNorm2d(64, eps=1e-05, momentum=0.1, affine=True, track_running_stats=True)\n",
              "  (relu): ReLU(inplace=True)\n",
              "  (maxpool): MaxPool2d(kernel_size=3, stride=2, padding=1, dilation=1, ceil_mode=False)\n",
              "  (layer1): Sequential(\n",
              "    (0): BasicBlock(\n",
              "      (conv1): Conv2d(64, 64, kernel_size=(3, 3), stride=(1, 1), padding=(1, 1), bias=False)\n",
              "      (bn1): BatchNorm2d(64, eps=1e-05, momentum=0.1, affine=True, track_running_stats=True)\n",
              "      (relu): ReLU(inplace=True)\n",
              "      (conv2): Conv2d(64, 64, kernel_size=(3, 3), stride=(1, 1), padding=(1, 1), bias=False)\n",
              "      (bn2): BatchNorm2d(64, eps=1e-05, momentum=0.1, affine=True, track_running_stats=True)\n",
              "    )\n",
              "    (1): BasicBlock(\n",
              "      (conv1): Conv2d(64, 64, kernel_size=(3, 3), stride=(1, 1), padding=(1, 1), bias=False)\n",
              "      (bn1): BatchNorm2d(64, eps=1e-05, momentum=0.1, affine=True, track_running_stats=True)\n",
              "      (relu): ReLU(inplace=True)\n",
              "      (conv2): Conv2d(64, 64, kernel_size=(3, 3), stride=(1, 1), padding=(1, 1), bias=False)\n",
              "      (bn2): BatchNorm2d(64, eps=1e-05, momentum=0.1, affine=True, track_running_stats=True)\n",
              "    )\n",
              "  )\n",
              "  (layer2): Sequential(\n",
              "    (0): BasicBlock(\n",
              "      (conv1): Conv2d(64, 128, kernel_size=(3, 3), stride=(2, 2), padding=(1, 1), bias=False)\n",
              "      (bn1): BatchNorm2d(128, eps=1e-05, momentum=0.1, affine=True, track_running_stats=True)\n",
              "      (relu): ReLU(inplace=True)\n",
              "      (conv2): Conv2d(128, 128, kernel_size=(3, 3), stride=(1, 1), padding=(1, 1), bias=False)\n",
              "      (bn2): BatchNorm2d(128, eps=1e-05, momentum=0.1, affine=True, track_running_stats=True)\n",
              "      (downsample): Sequential(\n",
              "        (0): Conv2d(64, 128, kernel_size=(1, 1), stride=(2, 2), bias=False)\n",
              "        (1): BatchNorm2d(128, eps=1e-05, momentum=0.1, affine=True, track_running_stats=True)\n",
              "      )\n",
              "    )\n",
              "    (1): BasicBlock(\n",
              "      (conv1): Conv2d(128, 128, kernel_size=(3, 3), stride=(1, 1), padding=(1, 1), bias=False)\n",
              "      (bn1): BatchNorm2d(128, eps=1e-05, momentum=0.1, affine=True, track_running_stats=True)\n",
              "      (relu): ReLU(inplace=True)\n",
              "      (conv2): Conv2d(128, 128, kernel_size=(3, 3), stride=(1, 1), padding=(1, 1), bias=False)\n",
              "      (bn2): BatchNorm2d(128, eps=1e-05, momentum=0.1, affine=True, track_running_stats=True)\n",
              "    )\n",
              "  )\n",
              "  (layer3): Sequential(\n",
              "    (0): BasicBlock(\n",
              "      (conv1): Conv2d(128, 256, kernel_size=(3, 3), stride=(2, 2), padding=(1, 1), bias=False)\n",
              "      (bn1): BatchNorm2d(256, eps=1e-05, momentum=0.1, affine=True, track_running_stats=True)\n",
              "      (relu): ReLU(inplace=True)\n",
              "      (conv2): Conv2d(256, 256, kernel_size=(3, 3), stride=(1, 1), padding=(1, 1), bias=False)\n",
              "      (bn2): BatchNorm2d(256, eps=1e-05, momentum=0.1, affine=True, track_running_stats=True)\n",
              "      (downsample): Sequential(\n",
              "        (0): Conv2d(128, 256, kernel_size=(1, 1), stride=(2, 2), bias=False)\n",
              "        (1): BatchNorm2d(256, eps=1e-05, momentum=0.1, affine=True, track_running_stats=True)\n",
              "      )\n",
              "    )\n",
              "    (1): BasicBlock(\n",
              "      (conv1): Conv2d(256, 256, kernel_size=(3, 3), stride=(1, 1), padding=(1, 1), bias=False)\n",
              "      (bn1): BatchNorm2d(256, eps=1e-05, momentum=0.1, affine=True, track_running_stats=True)\n",
              "      (relu): ReLU(inplace=True)\n",
              "      (conv2): Conv2d(256, 256, kernel_size=(3, 3), stride=(1, 1), padding=(1, 1), bias=False)\n",
              "      (bn2): BatchNorm2d(256, eps=1e-05, momentum=0.1, affine=True, track_running_stats=True)\n",
              "    )\n",
              "  )\n",
              "  (layer4): Sequential(\n",
              "    (0): BasicBlock(\n",
              "      (conv1): Conv2d(256, 512, kernel_size=(3, 3), stride=(2, 2), padding=(1, 1), bias=False)\n",
              "      (bn1): BatchNorm2d(512, eps=1e-05, momentum=0.1, affine=True, track_running_stats=True)\n",
              "      (relu): ReLU(inplace=True)\n",
              "      (conv2): Conv2d(512, 512, kernel_size=(3, 3), stride=(1, 1), padding=(1, 1), bias=False)\n",
              "      (bn2): BatchNorm2d(512, eps=1e-05, momentum=0.1, affine=True, track_running_stats=True)\n",
              "      (downsample): Sequential(\n",
              "        (0): Conv2d(256, 512, kernel_size=(1, 1), stride=(2, 2), bias=False)\n",
              "        (1): BatchNorm2d(512, eps=1e-05, momentum=0.1, affine=True, track_running_stats=True)\n",
              "      )\n",
              "    )\n",
              "    (1): BasicBlock(\n",
              "      (conv1): Conv2d(512, 512, kernel_size=(3, 3), stride=(1, 1), padding=(1, 1), bias=False)\n",
              "      (bn1): BatchNorm2d(512, eps=1e-05, momentum=0.1, affine=True, track_running_stats=True)\n",
              "      (relu): ReLU(inplace=True)\n",
              "      (conv2): Conv2d(512, 512, kernel_size=(3, 3), stride=(1, 1), padding=(1, 1), bias=False)\n",
              "      (bn2): BatchNorm2d(512, eps=1e-05, momentum=0.1, affine=True, track_running_stats=True)\n",
              "    )\n",
              "  )\n",
              "  (avgpool): AdaptiveAvgPool2d(output_size=(1, 1))\n",
              "  (fc): Linear(in_features=512, out_features=1000, bias=True)\n",
              ")"
            ]
          },
          "metadata": {},
          "execution_count": 59
        }
      ]
    },
    {
      "cell_type": "code",
      "metadata": {
        "id": "D0Nkplz-kZ0C"
      },
      "source": [
        "model_resnet18.fc = nn.Linear(model_resnet18.fc.in_features, 6)"
      ],
      "execution_count": null,
      "outputs": []
    },
    {
      "cell_type": "code",
      "metadata": {
        "id": "K7qLpIHfkZxk"
      },
      "source": [
        "loss = nn.CrossEntropyLoss()\n"
      ],
      "execution_count": null,
      "outputs": []
    },
    {
      "cell_type": "code",
      "metadata": {
        "colab": {
          "base_uri": "https://localhost:8080/",
          "height": 1000,
          "referenced_widgets": [
            "4e018f5fbd4f4cbc906e3958c292023d"
          ]
        },
        "id": "YuuKJMT-vWit",
        "outputId": "39b50cc4-e6cf-4a36-8562-d8cb38835148"
      },
      "source": [
        "results_resnet18 = train_network(model_resnet18, loss, train_loader, epochs=50, device=device, val_loader=test_loader, \n",
        "                                 checkpoint_file=checkpoint_resnet18,\n",
        "                                 score_funcs={'Accuracy': accuracy_score})"
      ],
      "execution_count": null,
      "outputs": [
        {
          "output_type": "stream",
          "name": "stdout",
          "text": [
            "Loading checkpoint file: /content/gdrive/My Drive/Data606/Project/Skin_Cancer_Analysis/resnet18_checkpoint.pt\n",
            "last_epoch:  49\n",
            "results: {'epoch': [0, 1, 2, 3, 4, 5, 6, 7, 8, 9, 10, 11, 12, 13, 14, 15, 16, 17, 18, 19, 20, 21, 22, 23, 24, 25, 26, 27, 28, 29, 30, 31, 32, 33, 34, 35, 36, 37, 38, 39, 40, 41, 42, 43, 44, 45, 46, 47, 48, 49], 'total time': [162.78912663459778, 318.8889377117157, 475.5281386375427, 630.4848136901855, 776.7974860668182, 930.4945292472839, 1084.5302822589874, 1236.5210492610931, 1384.430461883545, 1536.6162858009338, 1685.554382801056, 1837.6575818061829, 1991.2925453186035, 2140.313283920288, 2288.4977662563324, 2436.085540294647, 2584.8959743976593, 2730.1065130233765, 2876.8508796691895, 3021.779581308365, 3175.675115585327, 3328.3065366744995, 3478.9539835453033, 3627.7760219573975, 3779.426382303238, 3933.1977500915527, 4080.8015649318695, 4232.695224523544, 4381.6684923172, 4529.791496992111, 4679.7443335056305, 4830.752903699875, 4978.847962856293, 5127.4722402095795, 5281.827617645264, 5427.650699138641, 5580.74053144455, 5736.023733615875, 5892.2900512218475, 6035.316832065582, 6185.192135095596, 6337.492120504379, 6485.595894575119, 6637.684574127197, 6791.217498064041, 6941.635370731354, 7099.448429346085, 7256.71405172348, 7410.140617847443, 7565.505543708801], 'train loss': [1.50254745716634, 1.2466856636430905, 1.1720452561326649, 1.1256728722997333, 1.0112945482782696, 0.9774256905783778, 0.986694770662681, 0.9014941036053326, 0.875926190096399, 0.8498073385461516, 0.8862855058649312, 0.8047800689287807, 0.7840270212163096, 0.7474531353167866, 0.7212036469060442, 0.7617598166284354, 0.7251407889568288, 0.6857372862489327, 0.6486366799344188, 0.6535784527659416, 0.6504391551665638, 0.6288931086335493, 0.6000131413988445, 0.6374656290787718, 0.6283096169000086, 0.5963540009182432, 0.6041143831351529, 0.5377088619962983, 0.5279508785385153, 0.5315404182866864, 0.5121246493704941, 0.5229850939434507, 0.56075662649844, 0.5004458174757336, 0.4635828704289768, 0.4694008425525997, 0.4645287627759187, 0.4565754895624907, 0.4564866010585557, 0.4426754994884781, 0.41705151347686414, 0.47875702802253806, 0.39447151934323105, 0.3959278741284557, 0.4424635537940523, 0.3991779391856297, 0.3950362461416618, 0.3566683479787215, 0.4027857488102239, 0.3678065729529961], 'val loss': [1.3504364697829536, 1.4559251070022583, 1.3040564060211182, 1.4281382768050483, 1.3011792742687722, 1.065498966237773, 1.4216688664063164, 0.9362449931061786, 1.3251484425171562, 1.27655370598254, 1.134165284426316, 1.1760525288789168, 1.2054351490476858, 1.0609533009321794, 1.0232278082681738, 1.3402616070664448, 1.075211939604386, 1.0108163408611133, 1.0744140666464101, 1.375847383685734, 1.3963683765867483, 0.9055893939474354, 1.0915590576503589, 1.1153485075287197, 1.0085441262825676, 1.0046115750851838, 1.0200344764668008, 0.9792124551275502, 1.1425420434578606, 1.1488498242005059, 1.0387219268342722, 0.9799063983170883, 0.9482291833214138, 1.048320542211118, 0.9669884028642074, 1.090332822955173, 1.3375590728676838, 1.003079900275106, 1.0065369593060536, 1.0803856979245725, 1.133585644804913, 1.069758319336435, 1.0021414704944775, 1.032526485297991, 1.0383001630720885, 1.2077697437742483, 0.9909531629603842, 1.2293068844339121, 1.2070143274638965, 0.9606679509515348], 'train Accuracy': [0.3862894450489663, 0.4809575625680087, 0.5261153427638737, 0.5353645266594124, 0.6006528835690969, 0.6093579978237215, 0.5832426550598476, 0.6501632208922742, 0.6452665941240479, 0.6566920565832427, 0.6420021762785637, 0.6811751904243744, 0.6735582154515778, 0.7067464635473341, 0.7143634385201306, 0.6849836779107725, 0.6974972796517954, 0.7094668117519043, 0.7377584330794341, 0.7312295973884657, 0.7334058759521219, 0.735038084874864, 0.7524483133841132, 0.7513601741022851, 0.7540805223068553, 0.7731229597388466, 0.7562568008705114, 0.7899891186071817, 0.795429815016322, 0.7932535364526659, 0.809031556039173, 0.7970620239390642, 0.7861806311207835, 0.8101196953210011, 0.8269858541893362, 0.8171926006528836, 0.8171926006528836, 0.8264417845484222, 0.8258977149075082, 0.8264417845484222, 0.8373231773667029, 0.8133841131664853, 0.8438520130576714, 0.8471164309031556, 0.8291621327529923, 0.8443960826985855, 0.8552774755168662, 0.8688792165397171, 0.8449401523394995, 0.8618063112078346], 'val Accuracy': [0.5217391304347826, 0.3521739130434783, 0.43478260869565216, 0.5304347826086957, 0.43478260869565216, 0.5891304347826087, 0.42391304347826086, 0.6717391304347826, 0.3978260869565217, 0.55, 0.5478260869565217, 0.5239130434782608, 0.5521739130434783, 0.5543478260869565, 0.5739130434782609, 0.48478260869565215, 0.5630434782608695, 0.6108695652173913, 0.5891304347826087, 0.4673913043478261, 0.4782608695652174, 0.6804347826086956, 0.5826086956521739, 0.591304347826087, 0.65, 0.6065217391304348, 0.6326086956521739, 0.6673913043478261, 0.5891304347826087, 0.6086956521739131, 0.6608695652173913, 0.6565217391304348, 0.6782608695652174, 0.5673913043478261, 0.6478260869565218, 0.6195652173913043, 0.5608695652173913, 0.6369565217391304, 0.6608695652173913, 0.6369565217391304, 0.6456521739130435, 0.6086956521739131, 0.6304347826086957, 0.6565217391304348, 0.6282608695652174, 0.5847826086956521, 0.6521739130434783, 0.5847826086956521, 0.65, 0.6760869565217391]}\n",
            "total_train_time: 7565.505543708801\n",
            "del_opt: False\n",
            "ResNet(\n",
            "  (conv1): Conv2d(3, 64, kernel_size=(7, 7), stride=(2, 2), padding=(3, 3), bias=False)\n",
            "  (bn1): BatchNorm2d(64, eps=1e-05, momentum=0.1, affine=True, track_running_stats=True)\n",
            "  (relu): ReLU(inplace=True)\n",
            "  (maxpool): MaxPool2d(kernel_size=3, stride=2, padding=1, dilation=1, ceil_mode=False)\n",
            "  (layer1): Sequential(\n",
            "    (0): BasicBlock(\n",
            "      (conv1): Conv2d(64, 64, kernel_size=(3, 3), stride=(1, 1), padding=(1, 1), bias=False)\n",
            "      (bn1): BatchNorm2d(64, eps=1e-05, momentum=0.1, affine=True, track_running_stats=True)\n",
            "      (relu): ReLU(inplace=True)\n",
            "      (conv2): Conv2d(64, 64, kernel_size=(3, 3), stride=(1, 1), padding=(1, 1), bias=False)\n",
            "      (bn2): BatchNorm2d(64, eps=1e-05, momentum=0.1, affine=True, track_running_stats=True)\n",
            "    )\n",
            "    (1): BasicBlock(\n",
            "      (conv1): Conv2d(64, 64, kernel_size=(3, 3), stride=(1, 1), padding=(1, 1), bias=False)\n",
            "      (bn1): BatchNorm2d(64, eps=1e-05, momentum=0.1, affine=True, track_running_stats=True)\n",
            "      (relu): ReLU(inplace=True)\n",
            "      (conv2): Conv2d(64, 64, kernel_size=(3, 3), stride=(1, 1), padding=(1, 1), bias=False)\n",
            "      (bn2): BatchNorm2d(64, eps=1e-05, momentum=0.1, affine=True, track_running_stats=True)\n",
            "    )\n",
            "  )\n",
            "  (layer2): Sequential(\n",
            "    (0): BasicBlock(\n",
            "      (conv1): Conv2d(64, 128, kernel_size=(3, 3), stride=(2, 2), padding=(1, 1), bias=False)\n",
            "      (bn1): BatchNorm2d(128, eps=1e-05, momentum=0.1, affine=True, track_running_stats=True)\n",
            "      (relu): ReLU(inplace=True)\n",
            "      (conv2): Conv2d(128, 128, kernel_size=(3, 3), stride=(1, 1), padding=(1, 1), bias=False)\n",
            "      (bn2): BatchNorm2d(128, eps=1e-05, momentum=0.1, affine=True, track_running_stats=True)\n",
            "      (downsample): Sequential(\n",
            "        (0): Conv2d(64, 128, kernel_size=(1, 1), stride=(2, 2), bias=False)\n",
            "        (1): BatchNorm2d(128, eps=1e-05, momentum=0.1, affine=True, track_running_stats=True)\n",
            "      )\n",
            "    )\n",
            "    (1): BasicBlock(\n",
            "      (conv1): Conv2d(128, 128, kernel_size=(3, 3), stride=(1, 1), padding=(1, 1), bias=False)\n",
            "      (bn1): BatchNorm2d(128, eps=1e-05, momentum=0.1, affine=True, track_running_stats=True)\n",
            "      (relu): ReLU(inplace=True)\n",
            "      (conv2): Conv2d(128, 128, kernel_size=(3, 3), stride=(1, 1), padding=(1, 1), bias=False)\n",
            "      (bn2): BatchNorm2d(128, eps=1e-05, momentum=0.1, affine=True, track_running_stats=True)\n",
            "    )\n",
            "  )\n",
            "  (layer3): Sequential(\n",
            "    (0): BasicBlock(\n",
            "      (conv1): Conv2d(128, 256, kernel_size=(3, 3), stride=(2, 2), padding=(1, 1), bias=False)\n",
            "      (bn1): BatchNorm2d(256, eps=1e-05, momentum=0.1, affine=True, track_running_stats=True)\n",
            "      (relu): ReLU(inplace=True)\n",
            "      (conv2): Conv2d(256, 256, kernel_size=(3, 3), stride=(1, 1), padding=(1, 1), bias=False)\n",
            "      (bn2): BatchNorm2d(256, eps=1e-05, momentum=0.1, affine=True, track_running_stats=True)\n",
            "      (downsample): Sequential(\n",
            "        (0): Conv2d(128, 256, kernel_size=(1, 1), stride=(2, 2), bias=False)\n",
            "        (1): BatchNorm2d(256, eps=1e-05, momentum=0.1, affine=True, track_running_stats=True)\n",
            "      )\n",
            "    )\n",
            "    (1): BasicBlock(\n",
            "      (conv1): Conv2d(256, 256, kernel_size=(3, 3), stride=(1, 1), padding=(1, 1), bias=False)\n",
            "      (bn1): BatchNorm2d(256, eps=1e-05, momentum=0.1, affine=True, track_running_stats=True)\n",
            "      (relu): ReLU(inplace=True)\n",
            "      (conv2): Conv2d(256, 256, kernel_size=(3, 3), stride=(1, 1), padding=(1, 1), bias=False)\n",
            "      (bn2): BatchNorm2d(256, eps=1e-05, momentum=0.1, affine=True, track_running_stats=True)\n",
            "    )\n",
            "  )\n",
            "  (layer4): Sequential(\n",
            "    (0): BasicBlock(\n",
            "      (conv1): Conv2d(256, 512, kernel_size=(3, 3), stride=(2, 2), padding=(1, 1), bias=False)\n",
            "      (bn1): BatchNorm2d(512, eps=1e-05, momentum=0.1, affine=True, track_running_stats=True)\n",
            "      (relu): ReLU(inplace=True)\n",
            "      (conv2): Conv2d(512, 512, kernel_size=(3, 3), stride=(1, 1), padding=(1, 1), bias=False)\n",
            "      (bn2): BatchNorm2d(512, eps=1e-05, momentum=0.1, affine=True, track_running_stats=True)\n",
            "      (downsample): Sequential(\n",
            "        (0): Conv2d(256, 512, kernel_size=(1, 1), stride=(2, 2), bias=False)\n",
            "        (1): BatchNorm2d(512, eps=1e-05, momentum=0.1, affine=True, track_running_stats=True)\n",
            "      )\n",
            "    )\n",
            "    (1): BasicBlock(\n",
            "      (conv1): Conv2d(512, 512, kernel_size=(3, 3), stride=(1, 1), padding=(1, 1), bias=False)\n",
            "      (bn1): BatchNorm2d(512, eps=1e-05, momentum=0.1, affine=True, track_running_stats=True)\n",
            "      (relu): ReLU(inplace=True)\n",
            "      (conv2): Conv2d(512, 512, kernel_size=(3, 3), stride=(1, 1), padding=(1, 1), bias=False)\n",
            "      (bn2): BatchNorm2d(512, eps=1e-05, momentum=0.1, affine=True, track_running_stats=True)\n",
            "    )\n",
            "  )\n",
            "  (avgpool): AdaptiveAvgPool2d(output_size=(1, 1))\n",
            "  (fc): Linear(in_features=512, out_features=6, bias=True)\n",
            ")\n"
          ]
        },
        {
          "output_type": "display_data",
          "data": {
            "application/vnd.jupyter.widget-view+json": {
              "model_id": "4e018f5fbd4f4cbc906e3958c292023d",
              "version_minor": 0,
              "version_major": 2
            },
            "text/plain": [
              "Epoch: 0it [00:00, ?it/s]"
            ]
          },
          "metadata": {}
        }
      ]
    },
    {
      "cell_type": "code",
      "metadata": {
        "id": "dBs759ScvWgI",
        "colab": {
          "base_uri": "https://localhost:8080/",
          "height": 296
        },
        "outputId": "3c60693d-dbfb-4dd8-9775-15e84d6d20bb"
      },
      "source": [
        "sns.lineplot(x='epoch', y='val Accuracy', data=results_resnet18, label='Resnet18')"
      ],
      "execution_count": null,
      "outputs": [
        {
          "output_type": "execute_result",
          "data": {
            "text/plain": [
              "<matplotlib.axes._subplots.AxesSubplot at 0x7fd4a260cf90>"
            ]
          },
          "metadata": {},
          "execution_count": 63
        },
        {
          "output_type": "display_data",
          "data": {
            "image/png": "[encoded data removed]",
            "text/plain": [
              "<Figure size 432x288 with 1 Axes>"
            ]
          },
          "metadata": {
            "needs_background": "light"
          }
        }
      ]
    },
    {
      "cell_type": "code",
      "metadata": {
        "id": "RP1IVa3NvWcE"
      },
      "source": [
        ""
      ],
      "execution_count": null,
      "outputs": []
    },
    {
      "cell_type": "markdown",
      "metadata": {
        "id": "FB-_JtoNvWZq"
      },
      "source": [
        "**A Regular CNN**"
      ]
    },
    {
      "cell_type": "code",
      "metadata": {
        "id": "cVi7SvudEVU4"
      },
      "source": [
        "def weight_reset(m):\n",
        "    \"\"\"\n",
        "    Go through a PyTorch module m and reset all the weights to an initial random state\n",
        "    \"\"\"\n",
        "    if \"reset_parameters\" in dir(m):\n",
        "        m.reset_parameters()\n",
        "    return"
      ],
      "execution_count": null,
      "outputs": []
    },
    {
      "cell_type": "code",
      "metadata": {
        "id": "6z5_J4R2TzI1"
      },
      "source": [
        "model_cnn = nn.Sequential(\n",
        "  nn.Conv2d(C, filters, k, padding=k//2), \n",
        "  nn.BatchNorm2d(filters),\n",
        "  nn.LeakyReLU(),\n",
        "  nn.Conv2d(filters, filters, k, padding=k//2), \n",
        "  nn.BatchNorm2d(filters),\n",
        "  nn.LeakyReLU(),\n",
        "  nn.Conv2d(filters, filters, k, padding=k//2), \n",
        "  nn.BatchNorm2d(filters),\n",
        "  nn.LeakyReLU(),\n",
        "  nn.MaxPool2d(2),\n",
        "  nn.Conv2d(filters, 2*filters, k, padding=k//2), \n",
        "  nn.BatchNorm2d(2*filters),\n",
        "  nn.LeakyReLU(),\n",
        "  nn.Conv2d(2*filters, 2*filters, k, padding=k//2), \n",
        "  nn.BatchNorm2d(2*filters),\n",
        "  nn.LeakyReLU(),\n",
        "  nn.Conv2d(2*filters, 2*filters, k, padding=k//2), \n",
        "  nn.BatchNorm2d(2*filters),\n",
        "  nn.LeakyReLU(),\n",
        "  nn.MaxPool2d(2),\n",
        "\n",
        "  nn.Flatten(), \n",
        "  #Pooling a 2x2 grid down to one value means we go from 4 values, down to 1, and we did this two times!. \n",
        "  nn.Linear(2*filters*D//(4**2), classes),\n",
        ")"
      ],
      "execution_count": null,
      "outputs": []
    },
    {
      "cell_type": "code",
      "metadata": {
        "colab": {
          "base_uri": "https://localhost:8080/"
        },
        "id": "lid-bKHYEVU5",
        "outputId": "fd5b6da4-859e-4170-c595-f5c690107460"
      },
      "source": [
        "model_cnn"
      ],
      "execution_count": null,
      "outputs": [
        {
          "output_type": "execute_result",
          "data": {
            "text/plain": [
              "Sequential(\n",
              "  (0): Conv2d(3, 128, kernel_size=(3, 3), stride=(1, 1), padding=(1, 1))\n",
              "  (1): BatchNorm2d(128, eps=1e-05, momentum=0.1, affine=True, track_running_stats=True)\n",
              "  (2): LeakyReLU(negative_slope=0.01)\n",
              "  (3): Conv2d(128, 128, kernel_size=(3, 3), stride=(1, 1), padding=(1, 1))\n",
              "  (4): BatchNorm2d(128, eps=1e-05, momentum=0.1, affine=True, track_running_stats=True)\n",
              "  (5): LeakyReLU(negative_slope=0.01)\n",
              "  (6): Conv2d(128, 128, kernel_size=(3, 3), stride=(1, 1), padding=(1, 1))\n",
              "  (7): BatchNorm2d(128, eps=1e-05, momentum=0.1, affine=True, track_running_stats=True)\n",
              "  (8): LeakyReLU(negative_slope=0.01)\n",
              "  (9): MaxPool2d(kernel_size=2, stride=2, padding=0, dilation=1, ceil_mode=False)\n",
              "  (10): Conv2d(128, 256, kernel_size=(3, 3), stride=(1, 1), padding=(1, 1))\n",
              "  (11): BatchNorm2d(256, eps=1e-05, momentum=0.1, affine=True, track_running_stats=True)\n",
              "  (12): LeakyReLU(negative_slope=0.01)\n",
              "  (13): Conv2d(256, 256, kernel_size=(3, 3), stride=(1, 1), padding=(1, 1))\n",
              "  (14): BatchNorm2d(256, eps=1e-05, momentum=0.1, affine=True, track_running_stats=True)\n",
              "  (15): LeakyReLU(negative_slope=0.01)\n",
              "  (16): Conv2d(256, 256, kernel_size=(3, 3), stride=(1, 1), padding=(1, 1))\n",
              "  (17): BatchNorm2d(256, eps=1e-05, momentum=0.1, affine=True, track_running_stats=True)\n",
              "  (18): LeakyReLU(negative_slope=0.01)\n",
              "  (19): MaxPool2d(kernel_size=2, stride=2, padding=0, dilation=1, ceil_mode=False)\n",
              "  (20): Flatten(start_dim=1, end_dim=-1)\n",
              "  (21): Linear(in_features=802816, out_features=6, bias=True)\n",
              ")"
            ]
          },
          "metadata": {},
          "execution_count": 66
        }
      ]
    },
    {
      "cell_type": "code",
      "metadata": {
        "id": "WsfgFzdrTzDF"
      },
      "source": [
        "checkpoint_model_cnn = os.path.join(project_root_path_string, 'model_cnn_checkpoint.pt')"
      ],
      "execution_count": null,
      "outputs": []
    },
    {
      "cell_type": "code",
      "metadata": {
        "colab": {
          "base_uri": "https://localhost:8080/"
        },
        "id": "pgKffH5tEVU5",
        "outputId": "17d59198-f7e7-4ca1-e6e5-0b787ff6169b"
      },
      "source": [
        "model_cnn.apply(weight_reset)"
      ],
      "execution_count": null,
      "outputs": [
        {
          "output_type": "execute_result",
          "data": {
            "text/plain": [
              "Sequential(\n",
              "  (0): Conv2d(3, 128, kernel_size=(3, 3), stride=(1, 1), padding=(1, 1))\n",
              "  (1): BatchNorm2d(128, eps=1e-05, momentum=0.1, affine=True, track_running_stats=True)\n",
              "  (2): LeakyReLU(negative_slope=0.01)\n",
              "  (3): Conv2d(128, 128, kernel_size=(3, 3), stride=(1, 1), padding=(1, 1))\n",
              "  (4): BatchNorm2d(128, eps=1e-05, momentum=0.1, affine=True, track_running_stats=True)\n",
              "  (5): LeakyReLU(negative_slope=0.01)\n",
              "  (6): Conv2d(128, 128, kernel_size=(3, 3), stride=(1, 1), padding=(1, 1))\n",
              "  (7): BatchNorm2d(128, eps=1e-05, momentum=0.1, affine=True, track_running_stats=True)\n",
              "  (8): LeakyReLU(negative_slope=0.01)\n",
              "  (9): MaxPool2d(kernel_size=2, stride=2, padding=0, dilation=1, ceil_mode=False)\n",
              "  (10): Conv2d(128, 256, kernel_size=(3, 3), stride=(1, 1), padding=(1, 1))\n",
              "  (11): BatchNorm2d(256, eps=1e-05, momentum=0.1, affine=True, track_running_stats=True)\n",
              "  (12): LeakyReLU(negative_slope=0.01)\n",
              "  (13): Conv2d(256, 256, kernel_size=(3, 3), stride=(1, 1), padding=(1, 1))\n",
              "  (14): BatchNorm2d(256, eps=1e-05, momentum=0.1, affine=True, track_running_stats=True)\n",
              "  (15): LeakyReLU(negative_slope=0.01)\n",
              "  (16): Conv2d(256, 256, kernel_size=(3, 3), stride=(1, 1), padding=(1, 1))\n",
              "  (17): BatchNorm2d(256, eps=1e-05, momentum=0.1, affine=True, track_running_stats=True)\n",
              "  (18): LeakyReLU(negative_slope=0.01)\n",
              "  (19): MaxPool2d(kernel_size=2, stride=2, padding=0, dilation=1, ceil_mode=False)\n",
              "  (20): Flatten(start_dim=1, end_dim=-1)\n",
              "  (21): Linear(in_features=802816, out_features=6, bias=True)\n",
              ")"
            ]
          },
          "metadata": {},
          "execution_count": 68
        }
      ]
    },
    {
      "cell_type": "code",
      "metadata": {
        "colab": {
          "base_uri": "https://localhost:8080/",
          "height": 104,
          "referenced_widgets": [
            "783fc95b4d4f42549e617f456afa7414",
            "e97c4bb8227240a2a82a99c2e7fd714e",
            "0487b86005a64ad68945a424abb9d276",
            "3d2cf81fbdc14832a036ed57e5b55456",
            "8704e9a5dd4a4df9955939c9f7b01328",
            "bb7affd0e9624d44b3501d06956895c5",
            "65098d945d8a46918089b8a45bbccac2",
            "69bd5d6ecee24c78b09568e6783b1fde",
            "efd2e2549b324db7a8cca06927edf67e",
            "f63a6a11454c4123b7488079a6fe7f95",
            "dbf9eaed6ab142fb9eca03747bfbc63b",
            "67329142737a4e0997209e6aac5c898b",
            "811ec1abc43a4f3fabdbed60f883fad7",
            "c2e3c200cff54cff90d5f07424d5f699",
            "6c0012f850154fcebb72f5f161b323c1",
            "03ff851273144cc196dec844591ddb38",
            "b50f23b54d024156b4d3d92359f49a33",
            "d25c54573e5043d9ac8c157f3a580850",
            "543843b0356346b090b3492f10cf1736",
            "9b437dd7f02140b9a3abc1e0b14657a3",
            "253e5db355fd4348931faaeefe7e1e6f",
            "60a4c1c48dfc4c60942c121914abf50c",
            "da5fa7dc8ce3488ab472f71a93fd74c5",
            "ae1d6b4757e34fd88684933f0a6fc9d3",
            "eaf2cf52b08240c68cab9322a2946ceb",
            "89b2ea85fd704f389136ac1b35a1daee",
            "88e02f57bd40413cbf3b2399ffbbcf02",
            "cce3ba8474f34d2b8b79867170887548",
            "9d2dc26df6914294900401a8b604ec02",
            "30ad9f0d48e54b8a8bec73154649f497",
            "46409fee198841088958a6d9afe60181",
            "f5dadb5d8ada4d319351ca1c2c8c4195",
            "d3ec0bd99ae54b4e80ed30566592f016",
            "30dcad2034054573899380e0e56a48c9",
            "d8090cc577964df1b23d6cdf2b20f800",
            "e2154f1b52954508ae0419117c5985d2",
            "ff5e096faea44857b84977e1690509c5",
            "68324b95a78c44e69cb96f0271623cc6",
            "114e695af7a04ac480651df25b9beff3",
            "ec314a62a4a941668b3659e9acaea144",
            "e2697ae1df5e4076a9e7348bb3e7ad5a",
            "04e290dd85b64ac1bd6eca57c1d35b40",
            "59c3a5a8d86d496fb137c86d1d62f189",
            "84cd34cd8e24459aa6071da8f8ab48e7",
            "f97f75230ddc4bea9cf45391a10917b7",
            "0d9112109428428b94677ef6dfda9124",
            "603b5070ed0a4065924f28bf93982ece",
            "19c4db55654b4aa8ad639f412bd7a99e",
            "e6ad8e4db577490a90acc025c5db0175",
            "ac31df8bb727488b90671750b7f1786b",
            "446441e533414bb881beec16732d48f9",
            "0e52fb56a7aa4a1d9546807cda0e145f",
            "f73241c7f0b647b1b3c983200d6cbf98",
            "d50a39ee2c504911817615a5824d401c",
            "094c84eecbf842518c6f9386a9d11a91",
            "6a8a59d6d25d4019a8ecf905a2b7ffcd",
            "1a80dce0ad3746c6b6ed2433a9d69d44",
            "310b1e7ec4564a10b32e34dee1bd7fed",
            "25229132db6745b08ffc640becef2801",
            "6d7bede59f0c4f248050fc0869fc7363",
            "60a9de0486e642808229fc1cbe214c97",
            "c985f6891f644f5f95af5c3d963122df",
            "83f31d8ebc9e4f3c97ab5aa5032a7ebf",
            "0e8aee7de99449f38d3484fe26fb5474",
            "5d34de1db38943748a9dc57cf3bdfe10",
            "bcff875b62ee41aba3e4eb7e388c95e2",
            "47b6d31d586b4e5c9443dd569a213b5d",
            "aa0d85591c4a47cf960f6677b9a72759",
            "0629a0a1d5564945b930ddc86b10925d",
            "efe702e808e94fa48fff1cdbcc1caf04",
            "7f593d289b224fcbb7ddacd5329e7380",
            "a024fe7bc54144309fd12e88d7c4cb2c",
            "0a21d5389aca41d786e446e93153f82a",
            "874182f1726d40d88c665d1435ac9b16",
            "434d53c824ea4f5ab763ebc2784a513f",
            "a9439df56c6e42a4a4360f4ca4a87847",
            "7ef6b696546c431388b1f0db6f90a024",
            "9ae50be0c65841deb20548b95606e23c",
            "f2ffba1a042b4b7fb6fa5e2732e23dfb",
            "acffb347106e46f09dbea07f2dae5af3",
            "204c5973623f42cfbc78ed697dd51555",
            "0b3cdad94dfb475b82617cc3c06e5bcc",
            "75010b237fd845728b2dcb62715c49c8",
            "5db4345f0b8d4224818962f452d6c26f",
            "d105b5e2c0cf45f89b58db72a565d0a7",
            "272730fda893458bb244d4f22e4a02dc",
            "e3c2420c268248ecbd8ae6a5d4a4115f",
            "06b0289815cf4c68866d75a3b8f6df62",
            "d9b25affec264229919b1a92c5bdf7c8",
            "fec61782839d4e20ab2ab3a1d6cd8cd2",
            "c5c8e78dbad940558974d848387844a4",
            "e096e3b80b494850bd7d5f61981f673b",
            "eeaa99e59b4a4773b2d5a329bbcc6e90",
            "28cde3d3c7f04a439969582d4d276c74",
            "27cd6abfd3ae45308649216c4037b697",
            "0e7e92356d4b4473b10f478f62082143",
            "9cbc313657af48a8b10106ea36953aaa",
            "59e65d6e59a846d8a044c0245f2b086d",
            "b8b8cac107334f2092231a972e202489",
            "bd77bf091759423caacc69f9d8962267",
            "6cbf7b98fb8d4a7c9794212a226757be",
            "07d746828995423b997a2ffbd90efb59",
            "7cdb36dc74b64c2b88f200b508728b8d",
            "d77e9ce98bf84bd292a1b24e765af365",
            "e56a306ff3ac4099be7e8e4a4c508799",
            "bdb9405ef07e4be7aeb9f878dbed09f0",
            "dfdb957cd5ae4c89969baeed4ea78da1",
            "66528fca8168415b908ac2db1916cc20",
            "8c75fe3bd97e4a96a6a4ba68fd4664b4",
            "745f8f66ab184c898607b947657cdf31",
            "4e86b3052fdc4dd2804bd072c1f779d4"
          ]
        },
        "id": "-4VgacqXEVU5",
        "outputId": "93eb2b77-84cd-42e8-83c6-99dd4f413910"
      },
      "source": [
        "results_model_cnn = train_network(model_cnn, loss, train_loader, epochs=50, device=device, val_loader=test_loader, \n",
        "                                 checkpoint_file=checkpoint_model_cnn,\n",
        "                                 score_funcs={'Accuracy': accuracy_score})"
      ],
      "execution_count": null,
      "outputs": [
        {
          "output_type": "display_data",
          "data": {
            "application/vnd.jupyter.widget-view+json": {
              "model_id": "783fc95b4d4f42549e617f456afa7414",
              "version_minor": 0,
              "version_major": 2
            },
            "text/plain": [
              "Epoch:   0%|          | 0/50 [00:00<?, ?it/s]"
            ]
          },
          "metadata": {}
        },
        {
          "output_type": "display_data",
          "data": {
            "application/vnd.jupyter.widget-view+json": {
              "model_id": "67329142737a4e0997209e6aac5c898b",
              "version_minor": 0,
              "version_major": 2
            },
            "text/plain": [
              "Training:   0%|          | 0/92 [00:00<?, ?it/s]"
            ]
          },
          "metadata": {}
        },
        {
          "output_type": "stream",
          "name": "stderr",
          "text": [
            "/usr/local/lib/python3.7/dist-packages/torch/nn/functional.py:718: UserWarning: Named tensors and all their associated APIs are an experimental feature and subject to change. Please do not use them for anything important until they are released as stable. (Triggered internally at  /pytorch/c10/core/TensorImpl.h:1156.)\n",
            "  return torch.max_pool2d(input, kernel_size, stride, padding, dilation, ceil_mode)\n"
          ]
        },
        {
          "output_type": "display_data",
          "data": {
            "application/vnd.jupyter.widget-view+json": {
              "model_id": "811ec1abc43a4f3fabdbed60f883fad7",
              "version_minor": 0,
              "version_major": 2
            },
            "text/plain": [
              "Validating:   0%|          | 0/23 [00:00<?, ?it/s]"
            ]
          },
          "metadata": {}
        },
        {
          "output_type": "display_data",
          "data": {
            "application/vnd.jupyter.widget-view+json": {
              "model_id": "c2e3c200cff54cff90d5f07424d5f699",
              "version_minor": 0,
              "version_major": 2
            },
            "text/plain": [
              "Training:   0%|          | 0/92 [00:00<?, ?it/s]"
            ]
          },
          "metadata": {}
        },
        {
          "output_type": "display_data",
          "data": {
            "application/vnd.jupyter.widget-view+json": {
              "model_id": "6c0012f850154fcebb72f5f161b323c1",
              "version_minor": 0,
              "version_major": 2
            },
            "text/plain": [
              "Validating:   0%|          | 0/23 [00:00<?, ?it/s]"
            ]
          },
          "metadata": {}
        },
        {
          "output_type": "display_data",
          "data": {
            "application/vnd.jupyter.widget-view+json": {
              "model_id": "03ff851273144cc196dec844591ddb38",
              "version_minor": 0,
              "version_major": 2
            },
            "text/plain": [
              "Training:   0%|          | 0/92 [00:00<?, ?it/s]"
            ]
          },
          "metadata": {}
        },
        {
          "output_type": "display_data",
          "data": {
            "application/vnd.jupyter.widget-view+json": {
              "model_id": "b50f23b54d024156b4d3d92359f49a33",
              "version_minor": 0,
              "version_major": 2
            },
            "text/plain": [
              "Validating:   0%|          | 0/23 [00:00<?, ?it/s]"
            ]
          },
          "metadata": {}
        },
        {
          "output_type": "display_data",
          "data": {
            "application/vnd.jupyter.widget-view+json": {
              "model_id": "d25c54573e5043d9ac8c157f3a580850",
              "version_minor": 0,
              "version_major": 2
            },
            "text/plain": [
              "Training:   0%|          | 0/92 [00:00<?, ?it/s]"
            ]
          },
          "metadata": {}
        },
        {
          "output_type": "display_data",
          "data": {
            "application/vnd.jupyter.widget-view+json": {
              "model_id": "543843b0356346b090b3492f10cf1736",
              "version_minor": 0,
              "version_major": 2
            },
            "text/plain": [
              "Validating:   0%|          | 0/23 [00:00<?, ?it/s]"
            ]
          },
          "metadata": {}
        },
        {
          "output_type": "display_data",
          "data": {
            "application/vnd.jupyter.widget-view+json": {
              "model_id": "9b437dd7f02140b9a3abc1e0b14657a3",
              "version_minor": 0,
              "version_major": 2
            },
            "text/plain": [
              "Training:   0%|          | 0/92 [00:00<?, ?it/s]"
            ]
          },
          "metadata": {}
        },
        {
          "output_type": "display_data",
          "data": {
            "application/vnd.jupyter.widget-view+json": {
              "model_id": "253e5db355fd4348931faaeefe7e1e6f",
              "version_minor": 0,
              "version_major": 2
            },
            "text/plain": [
              "Validating:   0%|          | 0/23 [00:00<?, ?it/s]"
            ]
          },
          "metadata": {}
        },
        {
          "output_type": "display_data",
          "data": {
            "application/vnd.jupyter.widget-view+json": {
              "model_id": "60a4c1c48dfc4c60942c121914abf50c",
              "version_minor": 0,
              "version_major": 2
            },
            "text/plain": [
              "Training:   0%|          | 0/92 [00:00<?, ?it/s]"
            ]
          },
          "metadata": {}
        },
        {
          "output_type": "display_data",
          "data": {
            "application/vnd.jupyter.widget-view+json": {
              "model_id": "da5fa7dc8ce3488ab472f71a93fd74c5",
              "version_minor": 0,
              "version_major": 2
            },
            "text/plain": [
              "Validating:   0%|          | 0/23 [00:00<?, ?it/s]"
            ]
          },
          "metadata": {}
        },
        {
          "output_type": "display_data",
          "data": {
            "application/vnd.jupyter.widget-view+json": {
              "model_id": "ae1d6b4757e34fd88684933f0a6fc9d3",
              "version_minor": 0,
              "version_major": 2
            },
            "text/plain": [
              "Training:   0%|          | 0/92 [00:00<?, ?it/s]"
            ]
          },
          "metadata": {}
        },
        {
          "output_type": "display_data",
          "data": {
            "application/vnd.jupyter.widget-view+json": {
              "model_id": "eaf2cf52b08240c68cab9322a2946ceb",
              "version_minor": 0,
              "version_major": 2
            },
            "text/plain": [
              "Validating:   0%|          | 0/23 [00:00<?, ?it/s]"
            ]
          },
          "metadata": {}
        },
        {
          "output_type": "display_data",
          "data": {
            "application/vnd.jupyter.widget-view+json": {
              "model_id": "89b2ea85fd704f389136ac1b35a1daee",
              "version_minor": 0,
              "version_major": 2
            },
            "text/plain": [
              "Training:   0%|          | 0/92 [00:00<?, ?it/s]"
            ]
          },
          "metadata": {}
        },
        {
          "output_type": "display_data",
          "data": {
            "application/vnd.jupyter.widget-view+json": {
              "model_id": "88e02f57bd40413cbf3b2399ffbbcf02",
              "version_minor": 0,
              "version_major": 2
            },
            "text/plain": [
              "Validating:   0%|          | 0/23 [00:00<?, ?it/s]"
            ]
          },
          "metadata": {}
        },
        {
          "output_type": "display_data",
          "data": {
            "application/vnd.jupyter.widget-view+json": {
              "model_id": "cce3ba8474f34d2b8b79867170887548",
              "version_minor": 0,
              "version_major": 2
            },
            "text/plain": [
              "Training:   0%|          | 0/92 [00:00<?, ?it/s]"
            ]
          },
          "metadata": {}
        },
        {
          "output_type": "display_data",
          "data": {
            "application/vnd.jupyter.widget-view+json": {
              "model_id": "9d2dc26df6914294900401a8b604ec02",
              "version_minor": 0,
              "version_major": 2
            },
            "text/plain": [
              "Validating:   0%|          | 0/23 [00:00<?, ?it/s]"
            ]
          },
          "metadata": {}
        },
        {
          "output_type": "display_data",
          "data": {
            "application/vnd.jupyter.widget-view+json": {
              "model_id": "30ad9f0d48e54b8a8bec73154649f497",
              "version_minor": 0,
              "version_major": 2
            },
            "text/plain": [
              "Training:   0%|          | 0/92 [00:00<?, ?it/s]"
            ]
          },
          "metadata": {}
        },
        {
          "output_type": "display_data",
          "data": {
            "application/vnd.jupyter.widget-view+json": {
              "model_id": "46409fee198841088958a6d9afe60181",
              "version_minor": 0,
              "version_major": 2
            },
            "text/plain": [
              "Validating:   0%|          | 0/23 [00:00<?, ?it/s]"
            ]
          },
          "metadata": {}
        },
        {
          "output_type": "display_data",
          "data": {
            "application/vnd.jupyter.widget-view+json": {
              "model_id": "f5dadb5d8ada4d319351ca1c2c8c4195",
              "version_minor": 0,
              "version_major": 2
            },
            "text/plain": [
              "Training:   0%|          | 0/92 [00:00<?, ?it/s]"
            ]
          },
          "metadata": {}
        },
        {
          "output_type": "display_data",
          "data": {
            "application/vnd.jupyter.widget-view+json": {
              "model_id": "d3ec0bd99ae54b4e80ed30566592f016",
              "version_minor": 0,
              "version_major": 2
            },
            "text/plain": [
              "Validating:   0%|          | 0/23 [00:00<?, ?it/s]"
            ]
          },
          "metadata": {}
        },
        {
          "output_type": "display_data",
          "data": {
            "application/vnd.jupyter.widget-view+json": {
              "model_id": "30dcad2034054573899380e0e56a48c9",
              "version_minor": 0,
              "version_major": 2
            },
            "text/plain": [
              "Training:   0%|          | 0/92 [00:00<?, ?it/s]"
            ]
          },
          "metadata": {}
        },
        {
          "output_type": "display_data",
          "data": {
            "application/vnd.jupyter.widget-view+json": {
              "model_id": "d8090cc577964df1b23d6cdf2b20f800",
              "version_minor": 0,
              "version_major": 2
            },
            "text/plain": [
              "Validating:   0%|          | 0/23 [00:00<?, ?it/s]"
            ]
          },
          "metadata": {}
        },
        {
          "output_type": "display_data",
          "data": {
            "application/vnd.jupyter.widget-view+json": {
              "model_id": "e2154f1b52954508ae0419117c5985d2",
              "version_minor": 0,
              "version_major": 2
            },
            "text/plain": [
              "Training:   0%|          | 0/92 [00:00<?, ?it/s]"
            ]
          },
          "metadata": {}
        },
        {
          "output_type": "display_data",
          "data": {
            "application/vnd.jupyter.widget-view+json": {
              "model_id": "ff5e096faea44857b84977e1690509c5",
              "version_minor": 0,
              "version_major": 2
            },
            "text/plain": [
              "Validating:   0%|          | 0/23 [00:00<?, ?it/s]"
            ]
          },
          "metadata": {}
        },
        {
          "output_type": "display_data",
          "data": {
            "application/vnd.jupyter.widget-view+json": {
              "model_id": "68324b95a78c44e69cb96f0271623cc6",
              "version_minor": 0,
              "version_major": 2
            },
            "text/plain": [
              "Training:   0%|          | 0/92 [00:00<?, ?it/s]"
            ]
          },
          "metadata": {}
        },
        {
          "output_type": "display_data",
          "data": {
            "application/vnd.jupyter.widget-view+json": {
              "model_id": "114e695af7a04ac480651df25b9beff3",
              "version_minor": 0,
              "version_major": 2
            },
            "text/plain": [
              "Validating:   0%|          | 0/23 [00:00<?, ?it/s]"
            ]
          },
          "metadata": {}
        },
        {
          "output_type": "display_data",
          "data": {
            "application/vnd.jupyter.widget-view+json": {
              "model_id": "ec314a62a4a941668b3659e9acaea144",
              "version_minor": 0,
              "version_major": 2
            },
            "text/plain": [
              "Training:   0%|          | 0/92 [00:00<?, ?it/s]"
            ]
          },
          "metadata": {}
        },
        {
          "output_type": "display_data",
          "data": {
            "application/vnd.jupyter.widget-view+json": {
              "model_id": "e2697ae1df5e4076a9e7348bb3e7ad5a",
              "version_minor": 0,
              "version_major": 2
            },
            "text/plain": [
              "Validating:   0%|          | 0/23 [00:00<?, ?it/s]"
            ]
          },
          "metadata": {}
        },
        {
          "output_type": "display_data",
          "data": {
            "application/vnd.jupyter.widget-view+json": {
              "model_id": "04e290dd85b64ac1bd6eca57c1d35b40",
              "version_minor": 0,
              "version_major": 2
            },
            "text/plain": [
              "Training:   0%|          | 0/92 [00:00<?, ?it/s]"
            ]
          },
          "metadata": {}
        },
        {
          "output_type": "display_data",
          "data": {
            "application/vnd.jupyter.widget-view+json": {
              "model_id": "59c3a5a8d86d496fb137c86d1d62f189",
              "version_minor": 0,
              "version_major": 2
            },
            "text/plain": [
              "Validating:   0%|          | 0/23 [00:00<?, ?it/s]"
            ]
          },
          "metadata": {}
        },
        {
          "output_type": "display_data",
          "data": {
            "application/vnd.jupyter.widget-view+json": {
              "model_id": "84cd34cd8e24459aa6071da8f8ab48e7",
              "version_minor": 0,
              "version_major": 2
            },
            "text/plain": [
              "Training:   0%|          | 0/92 [00:00<?, ?it/s]"
            ]
          },
          "metadata": {}
        },
        {
          "output_type": "display_data",
          "data": {
            "application/vnd.jupyter.widget-view+json": {
              "model_id": "f97f75230ddc4bea9cf45391a10917b7",
              "version_minor": 0,
              "version_major": 2
            },
            "text/plain": [
              "Validating:   0%|          | 0/23 [00:00<?, ?it/s]"
            ]
          },
          "metadata": {}
        },
        {
          "output_type": "display_data",
          "data": {
            "application/vnd.jupyter.widget-view+json": {
              "model_id": "0d9112109428428b94677ef6dfda9124",
              "version_minor": 0,
              "version_major": 2
            },
            "text/plain": [
              "Training:   0%|          | 0/92 [00:00<?, ?it/s]"
            ]
          },
          "metadata": {}
        },
        {
          "output_type": "display_data",
          "data": {
            "application/vnd.jupyter.widget-view+json": {
              "model_id": "603b5070ed0a4065924f28bf93982ece",
              "version_minor": 0,
              "version_major": 2
            },
            "text/plain": [
              "Validating:   0%|          | 0/23 [00:00<?, ?it/s]"
            ]
          },
          "metadata": {}
        },
        {
          "output_type": "display_data",
          "data": {
            "application/vnd.jupyter.widget-view+json": {
              "model_id": "19c4db55654b4aa8ad639f412bd7a99e",
              "version_minor": 0,
              "version_major": 2
            },
            "text/plain": [
              "Training:   0%|          | 0/92 [00:00<?, ?it/s]"
            ]
          },
          "metadata": {}
        },
        {
          "output_type": "display_data",
          "data": {
            "application/vnd.jupyter.widget-view+json": {
              "model_id": "e6ad8e4db577490a90acc025c5db0175",
              "version_minor": 0,
              "version_major": 2
            },
            "text/plain": [
              "Validating:   0%|          | 0/23 [00:00<?, ?it/s]"
            ]
          },
          "metadata": {}
        },
        {
          "output_type": "display_data",
          "data": {
            "application/vnd.jupyter.widget-view+json": {
              "model_id": "ac31df8bb727488b90671750b7f1786b",
              "version_minor": 0,
              "version_major": 2
            },
            "text/plain": [
              "Training:   0%|          | 0/92 [00:00<?, ?it/s]"
            ]
          },
          "metadata": {}
        },
        {
          "output_type": "display_data",
          "data": {
            "application/vnd.jupyter.widget-view+json": {
              "model_id": "446441e533414bb881beec16732d48f9",
              "version_minor": 0,
              "version_major": 2
            },
            "text/plain": [
              "Validating:   0%|          | 0/23 [00:00<?, ?it/s]"
            ]
          },
          "metadata": {}
        },
        {
          "output_type": "display_data",
          "data": {
            "application/vnd.jupyter.widget-view+json": {
              "model_id": "0e52fb56a7aa4a1d9546807cda0e145f",
              "version_minor": 0,
              "version_major": 2
            },
            "text/plain": [
              "Training:   0%|          | 0/92 [00:00<?, ?it/s]"
            ]
          },
          "metadata": {}
        },
        {
          "output_type": "display_data",
          "data": {
            "application/vnd.jupyter.widget-view+json": {
              "model_id": "f73241c7f0b647b1b3c983200d6cbf98",
              "version_minor": 0,
              "version_major": 2
            },
            "text/plain": [
              "Validating:   0%|          | 0/23 [00:00<?, ?it/s]"
            ]
          },
          "metadata": {}
        },
        {
          "output_type": "display_data",
          "data": {
            "application/vnd.jupyter.widget-view+json": {
              "model_id": "d50a39ee2c504911817615a5824d401c",
              "version_minor": 0,
              "version_major": 2
            },
            "text/plain": [
              "Training:   0%|          | 0/92 [00:00<?, ?it/s]"
            ]
          },
          "metadata": {}
        },
        {
          "output_type": "display_data",
          "data": {
            "application/vnd.jupyter.widget-view+json": {
              "model_id": "094c84eecbf842518c6f9386a9d11a91",
              "version_minor": 0,
              "version_major": 2
            },
            "text/plain": [
              "Validating:   0%|          | 0/23 [00:00<?, ?it/s]"
            ]
          },
          "metadata": {}
        },
        {
          "output_type": "display_data",
          "data": {
            "application/vnd.jupyter.widget-view+json": {
              "model_id": "6a8a59d6d25d4019a8ecf905a2b7ffcd",
              "version_minor": 0,
              "version_major": 2
            },
            "text/plain": [
              "Training:   0%|          | 0/92 [00:00<?, ?it/s]"
            ]
          },
          "metadata": {}
        },
        {
          "output_type": "display_data",
          "data": {
            "application/vnd.jupyter.widget-view+json": {
              "model_id": "1a80dce0ad3746c6b6ed2433a9d69d44",
              "version_minor": 0,
              "version_major": 2
            },
            "text/plain": [
              "Validating:   0%|          | 0/23 [00:00<?, ?it/s]"
            ]
          },
          "metadata": {}
        },
        {
          "output_type": "display_data",
          "data": {
            "application/vnd.jupyter.widget-view+json": {
              "model_id": "310b1e7ec4564a10b32e34dee1bd7fed",
              "version_minor": 0,
              "version_major": 2
            },
            "text/plain": [
              "Training:   0%|          | 0/92 [00:00<?, ?it/s]"
            ]
          },
          "metadata": {}
        },
        {
          "output_type": "display_data",
          "data": {
            "application/vnd.jupyter.widget-view+json": {
              "model_id": "25229132db6745b08ffc640becef2801",
              "version_minor": 0,
              "version_major": 2
            },
            "text/plain": [
              "Validating:   0%|          | 0/23 [00:00<?, ?it/s]"
            ]
          },
          "metadata": {}
        },
        {
          "output_type": "display_data",
          "data": {
            "application/vnd.jupyter.widget-view+json": {
              "model_id": "6d7bede59f0c4f248050fc0869fc7363",
              "version_minor": 0,
              "version_major": 2
            },
            "text/plain": [
              "Training:   0%|          | 0/92 [00:00<?, ?it/s]"
            ]
          },
          "metadata": {}
        },
        {
          "output_type": "display_data",
          "data": {
            "application/vnd.jupyter.widget-view+json": {
              "model_id": "60a9de0486e642808229fc1cbe214c97",
              "version_minor": 0,
              "version_major": 2
            },
            "text/plain": [
              "Validating:   0%|          | 0/23 [00:00<?, ?it/s]"
            ]
          },
          "metadata": {}
        },
        {
          "output_type": "display_data",
          "data": {
            "application/vnd.jupyter.widget-view+json": {
              "model_id": "c985f6891f644f5f95af5c3d963122df",
              "version_minor": 0,
              "version_major": 2
            },
            "text/plain": [
              "Training:   0%|          | 0/92 [00:00<?, ?it/s]"
            ]
          },
          "metadata": {}
        },
        {
          "output_type": "display_data",
          "data": {
            "application/vnd.jupyter.widget-view+json": {
              "model_id": "83f31d8ebc9e4f3c97ab5aa5032a7ebf",
              "version_minor": 0,
              "version_major": 2
            },
            "text/plain": [
              "Validating:   0%|          | 0/23 [00:00<?, ?it/s]"
            ]
          },
          "metadata": {}
        },
        {
          "output_type": "display_data",
          "data": {
            "application/vnd.jupyter.widget-view+json": {
              "model_id": "0e8aee7de99449f38d3484fe26fb5474",
              "version_minor": 0,
              "version_major": 2
            },
            "text/plain": [
              "Training:   0%|          | 0/92 [00:00<?, ?it/s]"
            ]
          },
          "metadata": {}
        },
        {
          "output_type": "display_data",
          "data": {
            "application/vnd.jupyter.widget-view+json": {
              "model_id": "5d34de1db38943748a9dc57cf3bdfe10",
              "version_minor": 0,
              "version_major": 2
            },
            "text/plain": [
              "Validating:   0%|          | 0/23 [00:00<?, ?it/s]"
            ]
          },
          "metadata": {}
        },
        {
          "output_type": "display_data",
          "data": {
            "application/vnd.jupyter.widget-view+json": {
              "model_id": "bcff875b62ee41aba3e4eb7e388c95e2",
              "version_minor": 0,
              "version_major": 2
            },
            "text/plain": [
              "Training:   0%|          | 0/92 [00:00<?, ?it/s]"
            ]
          },
          "metadata": {}
        },
        {
          "output_type": "display_data",
          "data": {
            "application/vnd.jupyter.widget-view+json": {
              "model_id": "47b6d31d586b4e5c9443dd569a213b5d",
              "version_minor": 0,
              "version_major": 2
            },
            "text/plain": [
              "Validating:   0%|          | 0/23 [00:00<?, ?it/s]"
            ]
          },
          "metadata": {}
        },
        {
          "output_type": "display_data",
          "data": {
            "application/vnd.jupyter.widget-view+json": {
              "model_id": "aa0d85591c4a47cf960f6677b9a72759",
              "version_minor": 0,
              "version_major": 2
            },
            "text/plain": [
              "Training:   0%|          | 0/92 [00:00<?, ?it/s]"
            ]
          },
          "metadata": {}
        },
        {
          "output_type": "display_data",
          "data": {
            "application/vnd.jupyter.widget-view+json": {
              "model_id": "0629a0a1d5564945b930ddc86b10925d",
              "version_minor": 0,
              "version_major": 2
            },
            "text/plain": [
              "Validating:   0%|          | 0/23 [00:00<?, ?it/s]"
            ]
          },
          "metadata": {}
        },
        {
          "output_type": "display_data",
          "data": {
            "application/vnd.jupyter.widget-view+json": {
              "model_id": "efe702e808e94fa48fff1cdbcc1caf04",
              "version_minor": 0,
              "version_major": 2
            },
            "text/plain": [
              "Training:   0%|          | 0/92 [00:00<?, ?it/s]"
            ]
          },
          "metadata": {}
        },
        {
          "output_type": "display_data",
          "data": {
            "application/vnd.jupyter.widget-view+json": {
              "model_id": "7f593d289b224fcbb7ddacd5329e7380",
              "version_minor": 0,
              "version_major": 2
            },
            "text/plain": [
              "Validating:   0%|          | 0/23 [00:00<?, ?it/s]"
            ]
          },
          "metadata": {}
        },
        {
          "output_type": "display_data",
          "data": {
            "application/vnd.jupyter.widget-view+json": {
              "model_id": "a024fe7bc54144309fd12e88d7c4cb2c",
              "version_minor": 0,
              "version_major": 2
            },
            "text/plain": [
              "Training:   0%|          | 0/92 [00:00<?, ?it/s]"
            ]
          },
          "metadata": {}
        },
        {
          "output_type": "display_data",
          "data": {
            "application/vnd.jupyter.widget-view+json": {
              "model_id": "0a21d5389aca41d786e446e93153f82a",
              "version_minor": 0,
              "version_major": 2
            },
            "text/plain": [
              "Validating:   0%|          | 0/23 [00:00<?, ?it/s]"
            ]
          },
          "metadata": {}
        },
        {
          "output_type": "display_data",
          "data": {
            "application/vnd.jupyter.widget-view+json": {
              "model_id": "874182f1726d40d88c665d1435ac9b16",
              "version_minor": 0,
              "version_major": 2
            },
            "text/plain": [
              "Training:   0%|          | 0/92 [00:00<?, ?it/s]"
            ]
          },
          "metadata": {}
        },
        {
          "output_type": "display_data",
          "data": {
            "application/vnd.jupyter.widget-view+json": {
              "model_id": "434d53c824ea4f5ab763ebc2784a513f",
              "version_minor": 0,
              "version_major": 2
            },
            "text/plain": [
              "Validating:   0%|          | 0/23 [00:00<?, ?it/s]"
            ]
          },
          "metadata": {}
        },
        {
          "output_type": "display_data",
          "data": {
            "application/vnd.jupyter.widget-view+json": {
              "model_id": "a9439df56c6e42a4a4360f4ca4a87847",
              "version_minor": 0,
              "version_major": 2
            },
            "text/plain": [
              "Training:   0%|          | 0/92 [00:00<?, ?it/s]"
            ]
          },
          "metadata": {}
        },
        {
          "output_type": "display_data",
          "data": {
            "application/vnd.jupyter.widget-view+json": {
              "model_id": "7ef6b696546c431388b1f0db6f90a024",
              "version_minor": 0,
              "version_major": 2
            },
            "text/plain": [
              "Validating:   0%|          | 0/23 [00:00<?, ?it/s]"
            ]
          },
          "metadata": {}
        },
        {
          "output_type": "display_data",
          "data": {
            "application/vnd.jupyter.widget-view+json": {
              "model_id": "9ae50be0c65841deb20548b95606e23c",
              "version_minor": 0,
              "version_major": 2
            },
            "text/plain": [
              "Training:   0%|          | 0/92 [00:00<?, ?it/s]"
            ]
          },
          "metadata": {}
        },
        {
          "output_type": "display_data",
          "data": {
            "application/vnd.jupyter.widget-view+json": {
              "model_id": "f2ffba1a042b4b7fb6fa5e2732e23dfb",
              "version_minor": 0,
              "version_major": 2
            },
            "text/plain": [
              "Validating:   0%|          | 0/23 [00:00<?, ?it/s]"
            ]
          },
          "metadata": {}
        },
        {
          "output_type": "display_data",
          "data": {
            "application/vnd.jupyter.widget-view+json": {
              "model_id": "acffb347106e46f09dbea07f2dae5af3",
              "version_minor": 0,
              "version_major": 2
            },
            "text/plain": [
              "Training:   0%|          | 0/92 [00:00<?, ?it/s]"
            ]
          },
          "metadata": {}
        },
        {
          "output_type": "display_data",
          "data": {
            "application/vnd.jupyter.widget-view+json": {
              "model_id": "204c5973623f42cfbc78ed697dd51555",
              "version_minor": 0,
              "version_major": 2
            },
            "text/plain": [
              "Validating:   0%|          | 0/23 [00:00<?, ?it/s]"
            ]
          },
          "metadata": {}
        },
        {
          "output_type": "display_data",
          "data": {
            "application/vnd.jupyter.widget-view+json": {
              "model_id": "0b3cdad94dfb475b82617cc3c06e5bcc",
              "version_minor": 0,
              "version_major": 2
            },
            "text/plain": [
              "Training:   0%|          | 0/92 [00:00<?, ?it/s]"
            ]
          },
          "metadata": {}
        },
        {
          "output_type": "display_data",
          "data": {
            "application/vnd.jupyter.widget-view+json": {
              "model_id": "75010b237fd845728b2dcb62715c49c8",
              "version_minor": 0,
              "version_major": 2
            },
            "text/plain": [
              "Validating:   0%|          | 0/23 [00:00<?, ?it/s]"
            ]
          },
          "metadata": {}
        },
        {
          "output_type": "display_data",
          "data": {
            "application/vnd.jupyter.widget-view+json": {
              "model_id": "5db4345f0b8d4224818962f452d6c26f",
              "version_minor": 0,
              "version_major": 2
            },
            "text/plain": [
              "Training:   0%|          | 0/92 [00:00<?, ?it/s]"
            ]
          },
          "metadata": {}
        },
        {
          "output_type": "display_data",
          "data": {
            "application/vnd.jupyter.widget-view+json": {
              "model_id": "d105b5e2c0cf45f89b58db72a565d0a7",
              "version_minor": 0,
              "version_major": 2
            },
            "text/plain": [
              "Validating:   0%|          | 0/23 [00:00<?, ?it/s]"
            ]
          },
          "metadata": {}
        },
        {
          "output_type": "display_data",
          "data": {
            "application/vnd.jupyter.widget-view+json": {
              "model_id": "272730fda893458bb244d4f22e4a02dc",
              "version_minor": 0,
              "version_major": 2
            },
            "text/plain": [
              "Training:   0%|          | 0/92 [00:00<?, ?it/s]"
            ]
          },
          "metadata": {}
        },
        {
          "output_type": "display_data",
          "data": {
            "application/vnd.jupyter.widget-view+json": {
              "model_id": "e3c2420c268248ecbd8ae6a5d4a4115f",
              "version_minor": 0,
              "version_major": 2
            },
            "text/plain": [
              "Validating:   0%|          | 0/23 [00:00<?, ?it/s]"
            ]
          },
          "metadata": {}
        },
        {
          "output_type": "display_data",
          "data": {
            "application/vnd.jupyter.widget-view+json": {
              "model_id": "06b0289815cf4c68866d75a3b8f6df62",
              "version_minor": 0,
              "version_major": 2
            },
            "text/plain": [
              "Training:   0%|          | 0/92 [00:00<?, ?it/s]"
            ]
          },
          "metadata": {}
        },
        {
          "output_type": "display_data",
          "data": {
            "application/vnd.jupyter.widget-view+json": {
              "model_id": "d9b25affec264229919b1a92c5bdf7c8",
              "version_minor": 0,
              "version_major": 2
            },
            "text/plain": [
              "Validating:   0%|          | 0/23 [00:00<?, ?it/s]"
            ]
          },
          "metadata": {}
        },
        {
          "output_type": "display_data",
          "data": {
            "application/vnd.jupyter.widget-view+json": {
              "model_id": "fec61782839d4e20ab2ab3a1d6cd8cd2",
              "version_minor": 0,
              "version_major": 2
            },
            "text/plain": [
              "Training:   0%|          | 0/92 [00:00<?, ?it/s]"
            ]
          },
          "metadata": {}
        },
        {
          "output_type": "display_data",
          "data": {
            "application/vnd.jupyter.widget-view+json": {
              "model_id": "c5c8e78dbad940558974d848387844a4",
              "version_minor": 0,
              "version_major": 2
            },
            "text/plain": [
              "Validating:   0%|          | 0/23 [00:00<?, ?it/s]"
            ]
          },
          "metadata": {}
        },
        {
          "output_type": "display_data",
          "data": {
            "application/vnd.jupyter.widget-view+json": {
              "model_id": "e096e3b80b494850bd7d5f61981f673b",
              "version_minor": 0,
              "version_major": 2
            },
            "text/plain": [
              "Training:   0%|          | 0/92 [00:00<?, ?it/s]"
            ]
          },
          "metadata": {}
        },
        {
          "output_type": "display_data",
          "data": {
            "application/vnd.jupyter.widget-view+json": {
              "model_id": "eeaa99e59b4a4773b2d5a329bbcc6e90",
              "version_minor": 0,
              "version_major": 2
            },
            "text/plain": [
              "Validating:   0%|          | 0/23 [00:00<?, ?it/s]"
            ]
          },
          "metadata": {}
        },
        {
          "output_type": "display_data",
          "data": {
            "application/vnd.jupyter.widget-view+json": {
              "model_id": "28cde3d3c7f04a439969582d4d276c74",
              "version_minor": 0,
              "version_major": 2
            },
            "text/plain": [
              "Training:   0%|          | 0/92 [00:00<?, ?it/s]"
            ]
          },
          "metadata": {}
        },
        {
          "output_type": "display_data",
          "data": {
            "application/vnd.jupyter.widget-view+json": {
              "model_id": "27cd6abfd3ae45308649216c4037b697",
              "version_minor": 0,
              "version_major": 2
            },
            "text/plain": [
              "Validating:   0%|          | 0/23 [00:00<?, ?it/s]"
            ]
          },
          "metadata": {}
        },
        {
          "output_type": "display_data",
          "data": {
            "application/vnd.jupyter.widget-view+json": {
              "model_id": "0e7e92356d4b4473b10f478f62082143",
              "version_minor": 0,
              "version_major": 2
            },
            "text/plain": [
              "Training:   0%|          | 0/92 [00:00<?, ?it/s]"
            ]
          },
          "metadata": {}
        },
        {
          "output_type": "display_data",
          "data": {
            "application/vnd.jupyter.widget-view+json": {
              "model_id": "9cbc313657af48a8b10106ea36953aaa",
              "version_minor": 0,
              "version_major": 2
            },
            "text/plain": [
              "Validating:   0%|          | 0/23 [00:00<?, ?it/s]"
            ]
          },
          "metadata": {}
        },
        {
          "output_type": "display_data",
          "data": {
            "application/vnd.jupyter.widget-view+json": {
              "model_id": "59e65d6e59a846d8a044c0245f2b086d",
              "version_minor": 0,
              "version_major": 2
            },
            "text/plain": [
              "Training:   0%|          | 0/92 [00:00<?, ?it/s]"
            ]
          },
          "metadata": {}
        },
        {
          "output_type": "display_data",
          "data": {
            "application/vnd.jupyter.widget-view+json": {
              "model_id": "b8b8cac107334f2092231a972e202489",
              "version_minor": 0,
              "version_major": 2
            },
            "text/plain": [
              "Validating:   0%|          | 0/23 [00:00<?, ?it/s]"
            ]
          },
          "metadata": {}
        },
        {
          "output_type": "display_data",
          "data": {
            "application/vnd.jupyter.widget-view+json": {
              "model_id": "bd77bf091759423caacc69f9d8962267",
              "version_minor": 0,
              "version_major": 2
            },
            "text/plain": [
              "Training:   0%|          | 0/92 [00:00<?, ?it/s]"
            ]
          },
          "metadata": {}
        },
        {
          "output_type": "display_data",
          "data": {
            "application/vnd.jupyter.widget-view+json": {
              "model_id": "6cbf7b98fb8d4a7c9794212a226757be",
              "version_minor": 0,
              "version_major": 2
            },
            "text/plain": [
              "Validating:   0%|          | 0/23 [00:00<?, ?it/s]"
            ]
          },
          "metadata": {}
        },
        {
          "output_type": "display_data",
          "data": {
            "application/vnd.jupyter.widget-view+json": {
              "model_id": "07d746828995423b997a2ffbd90efb59",
              "version_minor": 0,
              "version_major": 2
            },
            "text/plain": [
              "Training:   0%|          | 0/92 [00:00<?, ?it/s]"
            ]
          },
          "metadata": {}
        },
        {
          "output_type": "display_data",
          "data": {
            "application/vnd.jupyter.widget-view+json": {
              "model_id": "7cdb36dc74b64c2b88f200b508728b8d",
              "version_minor": 0,
              "version_major": 2
            },
            "text/plain": [
              "Validating:   0%|          | 0/23 [00:00<?, ?it/s]"
            ]
          },
          "metadata": {}
        },
        {
          "output_type": "display_data",
          "data": {
            "application/vnd.jupyter.widget-view+json": {
              "model_id": "d77e9ce98bf84bd292a1b24e765af365",
              "version_minor": 0,
              "version_major": 2
            },
            "text/plain": [
              "Training:   0%|          | 0/92 [00:00<?, ?it/s]"
            ]
          },
          "metadata": {}
        },
        {
          "output_type": "display_data",
          "data": {
            "application/vnd.jupyter.widget-view+json": {
              "model_id": "e56a306ff3ac4099be7e8e4a4c508799",
              "version_minor": 0,
              "version_major": 2
            },
            "text/plain": [
              "Validating:   0%|          | 0/23 [00:00<?, ?it/s]"
            ]
          },
          "metadata": {}
        },
        {
          "output_type": "display_data",
          "data": {
            "application/vnd.jupyter.widget-view+json": {
              "model_id": "bdb9405ef07e4be7aeb9f878dbed09f0",
              "version_minor": 0,
              "version_major": 2
            },
            "text/plain": [
              "Training:   0%|          | 0/92 [00:00<?, ?it/s]"
            ]
          },
          "metadata": {}
        },
        {
          "output_type": "display_data",
          "data": {
            "application/vnd.jupyter.widget-view+json": {
              "model_id": "dfdb957cd5ae4c89969baeed4ea78da1",
              "version_minor": 0,
              "version_major": 2
            },
            "text/plain": [
              "Validating:   0%|          | 0/23 [00:00<?, ?it/s]"
            ]
          },
          "metadata": {}
        },
        {
          "output_type": "display_data",
          "data": {
            "application/vnd.jupyter.widget-view+json": {
              "model_id": "66528fca8168415b908ac2db1916cc20",
              "version_minor": 0,
              "version_major": 2
            },
            "text/plain": [
              "Training:   0%|          | 0/92 [00:00<?, ?it/s]"
            ]
          },
          "metadata": {}
        },
        {
          "output_type": "display_data",
          "data": {
            "application/vnd.jupyter.widget-view+json": {
              "model_id": "8c75fe3bd97e4a96a6a4ba68fd4664b4",
              "version_minor": 0,
              "version_major": 2
            },
            "text/plain": [
              "Validating:   0%|          | 0/23 [00:00<?, ?it/s]"
            ]
          },
          "metadata": {}
        },
        {
          "output_type": "display_data",
          "data": {
            "application/vnd.jupyter.widget-view+json": {
              "model_id": "745f8f66ab184c898607b947657cdf31",
              "version_minor": 0,
              "version_major": 2
            },
            "text/plain": [
              "Training:   0%|          | 0/92 [00:00<?, ?it/s]"
            ]
          },
          "metadata": {}
        },
        {
          "output_type": "display_data",
          "data": {
            "application/vnd.jupyter.widget-view+json": {
              "model_id": "4e86b3052fdc4dd2804bd072c1f779d4",
              "version_minor": 0,
              "version_major": 2
            },
            "text/plain": [
              "Validating:   0%|          | 0/23 [00:00<?, ?it/s]"
            ]
          },
          "metadata": {}
        }
      ]
    },
    {
      "cell_type": "code",
      "metadata": {
        "colab": {
          "base_uri": "https://localhost:8080/",
          "height": 296
        },
        "id": "htuuDpXuEVU5",
        "outputId": "581745a4-8e02-4688-be1b-b8bb645a39c7"
      },
      "source": [
        "sns.lineplot(x='epoch', y='val Accuracy', data=results_model_cnn, label='CNN')"
      ],
      "execution_count": null,
      "outputs": [
        {
          "output_type": "execute_result",
          "data": {
            "text/plain": [
              "<matplotlib.axes._subplots.AxesSubplot at 0x7fd4903886d0>"
            ]
          },
          "metadata": {},
          "execution_count": 70
        },
        {
          "output_type": "display_data",
          "data": {
            "image/png": "[encoded data removed]",
            "text/plain": [
              "<Figure size 432x288 with 1 Axes>"
            ]
          },
          "metadata": {
            "needs_background": "light"
          }
        }
      ]
    },
    {
      "cell_type": "code",
      "metadata": {
        "id": "za-jH2SlEVU5"
      },
      "source": [
        ""
      ],
      "execution_count": null,
      "outputs": []
    },
    {
      "cell_type": "markdown",
      "metadata": {
        "id": "qcgSEdkbEVU5"
      },
      "source": [
        "**Customizible CNN**"
      ]
    },
    {
      "cell_type": "code",
      "metadata": {
        "id": "qY4zybCQEVU5"
      },
      "source": [
        "class SkinImageCNN(nn.Module):\n",
        "    def __init__(self, input_channels=3, num_classes=6, filters=64, kernal_size=3):\n",
        "        \n",
        "        super().__init__()\n",
        "        \n",
        "        self.input_channels=input_channels\n",
        "        self.num_classes=num_classes\n",
        "        self.filters=filters\n",
        "        self.kernal_size=kernal_size\n",
        "        \n",
        "        self.cnn_layer1 = nn.Sequential()\n",
        "        self.cnn_layer1.add_module(\"Conv1\", nn.Conv2d(in_channels=input_channels, out_channels=filters, kernel_size=kernal_size, padding=kernal_size//2))\n",
        "        self.cnn_layer1.add_module(\"BN1\", nn.BatchNorm2d(num_features=filters))\n",
        "        self.cnn_layer1.add_module(\"LeakyRelu1\", nn.LeakyReLU())\n",
        "        \n",
        "        self.cnn_layer2 = nn.Sequential()\n",
        "        self.cnn_layer2.add_module(\"Conv2\", nn.Conv2d(in_channels=filters, out_channels=filters, kernel_size=kernal_size, padding=kernal_size//2))\n",
        "        self.cnn_layer2.add_module(\"BN2\", nn.BatchNorm2d(num_features=filters))\n",
        "        self.cnn_layer2.add_module(\"LeakyRelu2\", nn.LeakyReLU())\n",
        "        \n",
        "        self.cnn_layer3 = nn.Sequential()\n",
        "        self.cnn_layer3.add_module(\"Conv3\", nn.Conv2d(in_channels=filters, out_channels=filters, kernel_size=kernal_size, padding=kernal_size//2))\n",
        "        self.cnn_layer3.add_module(\"BN3\", nn.BatchNorm2d(num_features=filters))\n",
        "        self.cnn_layer3.add_module(\"LeakyRelu3\", nn.LeakyReLU())\n",
        "    \n",
        "        self.pool_layer1 = nn.Sequential()\n",
        "        self.pool_layer1.add_module(\"MaxPool2d1\", nn.MaxPool2d(2))\n",
        "        \n",
        "        self.cnn_layer4 = nn.Sequential()\n",
        "        self.cnn_layer4.add_module(\"Conv4\", nn.Conv2d(in_channels=filters, out_channels=2*filters, kernel_size=kernal_size, padding=kernal_size//2))\n",
        "        self.cnn_layer4.add_module(\"BN4\", nn.BatchNorm2d(num_features=2*filters))\n",
        "        self.cnn_layer4.add_module(\"LeakyRelu4\", nn.LeakyReLU())\n",
        "        \n",
        "        self.cnn_layer5 = nn.Sequential()\n",
        "        self.cnn_layer5.add_module(\"Conv5\", nn.Conv2d(in_channels=2*filters, out_channels=2*filters, kernel_size=kernal_size, padding=kernal_size//2))\n",
        "        self.cnn_layer5.add_module(\"BN5\", nn.BatchNorm2d(num_features=2*filters))\n",
        "        self.cnn_layer5.add_module(\"LeakyRelu5\", nn.LeakyReLU())\n",
        "        \n",
        "        self.cnn_layer6 = nn.Sequential()\n",
        "        self.cnn_layer6.add_module(\"Conv6\", nn.Conv2d(in_channels=2*filters, out_channels=2*filters, kernel_size=kernal_size, padding=kernal_size//2))\n",
        "        self.cnn_layer6.add_module(\"BN6\", nn.BatchNorm2d(num_features=2*filters))\n",
        "        self.cnn_layer6.add_module(\"LeakyRelu6\", nn.LeakyReLU())\n",
        "    \n",
        "        self.pool_layer2 = nn.Sequential()\n",
        "        self.pool_layer2.add_module(\"MaxPool2d2\", nn.MaxPool2d(2))\n",
        "        \n",
        "        self.flaten_layer = nn.Flatten()\n",
        "\n",
        "        self.fully_connected_layer = nn.Linear(2*filters*D//(4**2), num_classes)\n",
        "    \n",
        "    def forward(self, x):\n",
        "        x = self.cnn_layer1(x)\n",
        "        x = self.cnn_layer2(x)\n",
        "        x = self.cnn_layer3(x)\n",
        "        \n",
        "        x = self.pool_layer1(x)\n",
        "        \n",
        "        x = self.cnn_layer4(x)\n",
        "        x = self.cnn_layer5(x)\n",
        "        x = self.cnn_layer6(x)\n",
        "        \n",
        "        x = self.pool_layer2(x)\n",
        "        \n",
        "        x = self.flaten_layer(x)\n",
        "        \n",
        "        #print(len(x))\n",
        "        #print(x.shape)\n",
        "        \n",
        "        #x = x.view(-1, 32 * 16 * 16)\n",
        "        \n",
        "        x = self.fully_connected_layer(x)\n",
        "    \n",
        "        return x"
      ],
      "execution_count": null,
      "outputs": []
    },
    {
      "cell_type": "code",
      "metadata": {
        "id": "VXy3GjbaEVU5"
      },
      "source": [
        "checkpoint_model_customized_cnn = os.path.join(project_root_path_string, 'model_customized_cnn_checkpoint.pt')"
      ],
      "execution_count": null,
      "outputs": []
    },
    {
      "cell_type": "code",
      "metadata": {
        "id": "zKcCpP1YEVU6"
      },
      "source": [
        "model_customized_cnn = SkinImageCNN(input_channels=C, num_classes=6, filters=filters, kernal_size=k) "
      ],
      "execution_count": null,
      "outputs": []
    },
    {
      "cell_type": "code",
      "metadata": {
        "colab": {
          "base_uri": "https://localhost:8080/"
        },
        "id": "BSGMfBFlEVU6",
        "outputId": "8d438d47-7538-4928-8887-c7735a022361"
      },
      "source": [
        "model_customized_cnn"
      ],
      "execution_count": null,
      "outputs": [
        {
          "output_type": "execute_result",
          "data": {
            "text/plain": [
              "SkinImageCNN(\n",
              "  (cnn_layer1): Sequential(\n",
              "    (Conv1): Conv2d(3, 128, kernel_size=(3, 3), stride=(1, 1), padding=(1, 1))\n",
              "    (BN1): BatchNorm2d(128, eps=1e-05, momentum=0.1, affine=True, track_running_stats=True)\n",
              "    (LeakyRelu1): LeakyReLU(negative_slope=0.01)\n",
              "  )\n",
              "  (cnn_layer2): Sequential(\n",
              "    (Conv2): Conv2d(128, 128, kernel_size=(3, 3), stride=(1, 1), padding=(1, 1))\n",
              "    (BN2): BatchNorm2d(128, eps=1e-05, momentum=0.1, affine=True, track_running_stats=True)\n",
              "    (LeakyRelu2): LeakyReLU(negative_slope=0.01)\n",
              "  )\n",
              "  (cnn_layer3): Sequential(\n",
              "    (Conv3): Conv2d(128, 128, kernel_size=(3, 3), stride=(1, 1), padding=(1, 1))\n",
              "    (BN3): BatchNorm2d(128, eps=1e-05, momentum=0.1, affine=True, track_running_stats=True)\n",
              "    (LeakyRelu3): LeakyReLU(negative_slope=0.01)\n",
              "  )\n",
              "  (pool_layer1): Sequential(\n",
              "    (MaxPool2d1): MaxPool2d(kernel_size=2, stride=2, padding=0, dilation=1, ceil_mode=False)\n",
              "  )\n",
              "  (cnn_layer4): Sequential(\n",
              "    (Conv4): Conv2d(128, 256, kernel_size=(3, 3), stride=(1, 1), padding=(1, 1))\n",
              "    (BN4): BatchNorm2d(256, eps=1e-05, momentum=0.1, affine=True, track_running_stats=True)\n",
              "    (LeakyRelu4): LeakyReLU(negative_slope=0.01)\n",
              "  )\n",
              "  (cnn_layer5): Sequential(\n",
              "    (Conv5): Conv2d(256, 256, kernel_size=(3, 3), stride=(1, 1), padding=(1, 1))\n",
              "    (BN5): BatchNorm2d(256, eps=1e-05, momentum=0.1, affine=True, track_running_stats=True)\n",
              "    (LeakyRelu5): LeakyReLU(negative_slope=0.01)\n",
              "  )\n",
              "  (cnn_layer6): Sequential(\n",
              "    (Conv6): Conv2d(256, 256, kernel_size=(3, 3), stride=(1, 1), padding=(1, 1))\n",
              "    (BN6): BatchNorm2d(256, eps=1e-05, momentum=0.1, affine=True, track_running_stats=True)\n",
              "    (LeakyRelu6): LeakyReLU(negative_slope=0.01)\n",
              "  )\n",
              "  (pool_layer2): Sequential(\n",
              "    (MaxPool2d2): MaxPool2d(kernel_size=2, stride=2, padding=0, dilation=1, ceil_mode=False)\n",
              "  )\n",
              "  (flaten_layer): Flatten(start_dim=1, end_dim=-1)\n",
              "  (fully_connected_layer): Linear(in_features=802816, out_features=6, bias=True)\n",
              ")"
            ]
          },
          "metadata": {},
          "execution_count": 74
        }
      ]
    },
    {
      "cell_type": "code",
      "metadata": {
        "colab": {
          "base_uri": "https://localhost:8080/"
        },
        "id": "r9_7teZJEVU6",
        "outputId": "27431cd3-3af2-4f45-c9d1-4c65d7addffc"
      },
      "source": [
        "model_customized_cnn.apply(weight_reset)"
      ],
      "execution_count": null,
      "outputs": [
        {
          "output_type": "execute_result",
          "data": {
            "text/plain": [
              "SkinImageCNN(\n",
              "  (cnn_layer1): Sequential(\n",
              "    (Conv1): Conv2d(3, 128, kernel_size=(3, 3), stride=(1, 1), padding=(1, 1))\n",
              "    (BN1): BatchNorm2d(128, eps=1e-05, momentum=0.1, affine=True, track_running_stats=True)\n",
              "    (LeakyRelu1): LeakyReLU(negative_slope=0.01)\n",
              "  )\n",
              "  (cnn_layer2): Sequential(\n",
              "    (Conv2): Conv2d(128, 128, kernel_size=(3, 3), stride=(1, 1), padding=(1, 1))\n",
              "    (BN2): BatchNorm2d(128, eps=1e-05, momentum=0.1, affine=True, track_running_stats=True)\n",
              "    (LeakyRelu2): LeakyReLU(negative_slope=0.01)\n",
              "  )\n",
              "  (cnn_layer3): Sequential(\n",
              "    (Conv3): Conv2d(128, 128, kernel_size=(3, 3), stride=(1, 1), padding=(1, 1))\n",
              "    (BN3): BatchNorm2d(128, eps=1e-05, momentum=0.1, affine=True, track_running_stats=True)\n",
              "    (LeakyRelu3): LeakyReLU(negative_slope=0.01)\n",
              "  )\n",
              "  (pool_layer1): Sequential(\n",
              "    (MaxPool2d1): MaxPool2d(kernel_size=2, stride=2, padding=0, dilation=1, ceil_mode=False)\n",
              "  )\n",
              "  (cnn_layer4): Sequential(\n",
              "    (Conv4): Conv2d(128, 256, kernel_size=(3, 3), stride=(1, 1), padding=(1, 1))\n",
              "    (BN4): BatchNorm2d(256, eps=1e-05, momentum=0.1, affine=True, track_running_stats=True)\n",
              "    (LeakyRelu4): LeakyReLU(negative_slope=0.01)\n",
              "  )\n",
              "  (cnn_layer5): Sequential(\n",
              "    (Conv5): Conv2d(256, 256, kernel_size=(3, 3), stride=(1, 1), padding=(1, 1))\n",
              "    (BN5): BatchNorm2d(256, eps=1e-05, momentum=0.1, affine=True, track_running_stats=True)\n",
              "    (LeakyRelu5): LeakyReLU(negative_slope=0.01)\n",
              "  )\n",
              "  (cnn_layer6): Sequential(\n",
              "    (Conv6): Conv2d(256, 256, kernel_size=(3, 3), stride=(1, 1), padding=(1, 1))\n",
              "    (BN6): BatchNorm2d(256, eps=1e-05, momentum=0.1, affine=True, track_running_stats=True)\n",
              "    (LeakyRelu6): LeakyReLU(negative_slope=0.01)\n",
              "  )\n",
              "  (pool_layer2): Sequential(\n",
              "    (MaxPool2d2): MaxPool2d(kernel_size=2, stride=2, padding=0, dilation=1, ceil_mode=False)\n",
              "  )\n",
              "  (flaten_layer): Flatten(start_dim=1, end_dim=-1)\n",
              "  (fully_connected_layer): Linear(in_features=802816, out_features=6, bias=True)\n",
              ")"
            ]
          },
          "metadata": {},
          "execution_count": 75
        }
      ]
    },
    {
      "cell_type": "code",
      "metadata": {
        "colab": {
          "base_uri": "https://localhost:8080/",
          "height": 49,
          "referenced_widgets": [
            "742904fd931f4754a03e187c90a1e962",
            "554e85c1ef1e4997bdf7d61fd96b6706",
            "2c4ab46992e94dacb97348ec1f7efc7d",
            "cf8d6de8c912468193007e89ed3adb50",
            "cd90b51ad3c7470ebaa08d3f2d506b98",
            "d8bcda2a78844e2aa9a764a9b498918f",
            "cf8ed020f76b43c797ff195092257f5d",
            "c38818619e334eac9ef172316355fb1d",
            "1d09d0be2da54fefb98cc49d403a60ac",
            "0e842bd1041642ffab96af2d94737e71",
            "9d083fe08dc749f2a0ae26a8453e9b83",
            "a986ca0ea0cb4427b81441a5c83492e2",
            "eddea0a9af9945ad86b46136b42e8380",
            "2576ad87e43c4289b394a7deb62a6460",
            "0b2172709962430d87ab11f15c4f909f",
            "0a9fc54dc4944c9f8cfe856e0eb264be",
            "9efb3304bfa147e2aed537727c328517",
            "49c523bcf77248dd9c9704089cc8290a",
            "fef63ea06fa24e54abb83b2fd0a8d151",
            "e980d887baf9448088c18e2077e6c762",
            "f0f3c6e5184b4cb299a30afe7c29a643",
            "5caf5449bc8646449a60201979ee423c",
            "ac5110fe55a7481d9ad6a7e38f2ad18a",
            "34400f77cf324c56800420a11eced7e7",
            "47a31597f40a4a91a80554c07184cc85",
            "eebb2f6710404c32be3333512baf250a",
            "c8827789c45b4d2a8f36f7de79535f97",
            "80b5eb15b68346db84efb929d9ad35a8",
            "72839907064248eda0f7e2cbcc1b251a",
            "adde51aef2334bf1b4387c8c9e8d9389",
            "b1f5f37f05a64eef8ab83489138f6a3b",
            "e1eaff9d03d648d9bb5ebac1faf74753",
            "d2b6e7c8311043b0a1bde9db034a07b1",
            "cc633aab5a7841bebd6819e6923598c3",
            "bb54788317d54c868aac5cf6fea270e1",
            "71e8106a387743c2a12d42b5caebb210",
            "e9900247a1d64251b53d0246eee428a7",
            "aca5457241394a778cb501ad63d4fe6c",
            "4fbf2641c97d4486af7f70fa73f16c5a",
            "e417f56fb5e144969d001a2df73b0779",
            "013660058e0048c6bc69498e5b18718a",
            "f05233414aa446d6a0c0dc575dc709bc",
            "2482a1f6201346328b1f5997be039c90",
            "48f6467e84564180811c648624682f43",
            "b85f9dc18cee4d8c8cc4e6548fe9454c",
            "5b61423d288d4b39b24e0713fe886bbf",
            "0f7f8d2d68b3410fbfb5f7a448f5cd6d",
            "3a8a4f2d397c4d9597fb697588828140",
            "9f916e15ebc345b69adccb7e61895632",
            "8e84e012e25c41c0a6533d1471725499",
            "ee176717c61a4a7abf17bbed43a11b66",
            "9c3e1e7081ff4df19188f0362b179ad2",
            "7199c05ca97842098239c402de0e0fef",
            "dcac220c68ba49c1abb84c817b5e2269",
            "5acb51ffde5142a29dd79c69256a880f",
            "5845107cca954fce976baff94baa93ec",
            "31c7af64eb484228875f8bae3129887a",
            "8cef201cc91e46ee88b97be467b9b93d",
            "0466b9c0a30b4205ace6ec9fe356b960",
            "55bc6cb914f84d148bcb274552b1741b",
            "303f1ef3b4784638bc5218901070941d",
            "1c69628b57764d2fab371b65b51cc068",
            "c4323831ef934d18b0ebc92d037246a0",
            "84ee980843f449c7a7a7b240afc85e8c",
            "28ccfa8c1167448a90c323d440741172",
            "0fe4dae7622c41b5941f08812dbf67ed",
            "a3f98c9db8224da495d3ab1ff96d2edf",
            "8e6f89bccf7142fbbcca60339729e103",
            "d169f1467efc42a582f36ff0a5be3b7d",
            "0a9eedfafbab41edaa231dc562246239",
            "8b906eaa497a4f5f8b7014f0938a80f5",
            "9c3d63f67b1f4ef3b3d2150acfbb9c52",
            "afada547f957469583b173a86ee1f67c",
            "0c4496ae54d54e4798ce6a10adcb320b",
            "3f60f984e39c41ae8a5bc12c645633cb",
            "e566a79c89c8476abb072b5a52c05cce",
            "42882c38634047648e8417382a768a2e",
            "0a60fbb6b3924856b745fd91081e5e78",
            "8e534d8fd62f4e4c82e6509e7d237b76",
            "388bed9bfbde4a3ca01ce0a75c8a8648",
            "47fc251a971e47068a1954364bee66d9",
            "efe118eab8be433591c6db7f591390e9",
            "7e59acbcf6104de09a19a234a61e4001",
            "b3e9d55c23ce448c97f00f0df5a0c083",
            "177dd71bbd24485588aaacfb4b3d3275",
            "85e18422c4dc4fdb8dc33f5d324a3810",
            "cde95d8ab73a4fefa73d280f4f67d23b",
            "a45983cc29b74eb0a3c29533afba8871",
            "77c38e8340584717a28958e9af540b6d",
            "114320c9bc6f431ab5bf60787e78e5e1",
            "116570d61cf6417f812343de52dc32f7",
            "dee78a54bc434064a6137146fbf4dbda",
            "84914a4e7452413292c9aa45b4ad5074",
            "0c12b8b4cbd4480c921627d5025903c2",
            "61198fe9a44e433f968fd55a04fe2330",
            "c7583365bd5943399292b582fa19b6c7",
            "5a7b3dcd655a4f8c97c11f3ea6a6e294",
            "d16f7662b0f04b50982b3e7e53176d74",
            "091c534d050b459cb00790a2ca08f2a9",
            "ca03d0df26b64190a36a3544fd9191a5",
            "5c7c5802cda04bdc9cc5716f463d2c32",
            "e7e8331a00d4447c8cf8478c48826e3c",
            "4fb26f892bb048d191e08ee9fb8f2730",
            "b67692ffe62344d3980c16ddb22a2f1b",
            "e548831c2ad04ab980b4601f63608d10",
            "bfdf8897b39c4fd0b65df664f571c0dd",
            "2d42131abe574eb6adbdcd7515499dbc",
            "11ec1b1a09194cf3b0c5eb50ca572c32",
            "0f445cf5916d41d3aaed35f608b2209a",
            "341c397df973431bb9b5fde4464f3c75",
            "83df2b09e87545b0ad6853c1564b413b",
            "5fb786c28b7e415fa4c9f6502565c083",
            "72009ad69a4947d7b63ffb97d69cef4a",
            "f6f42a7f946e41a1a1c2eac7b8d966ca",
            "d8701589bbc64ed190a4ff0b5aa60fa4",
            "c96b5835673747ec94b388db510ad50c",
            "c6c23fc6f6654ebebd97bf3d824550f2",
            "be1acfd377144191bcfcf6282bb1fdd1",
            "766a72911804408f88f263850820cbbc",
            "8c0852c8dc1c4ab493369d3ef0218ec6",
            "a96c5ea8390b48ef9eda87921b19b045"
          ]
        },
        "id": "CdwjaHYIEVU6",
        "outputId": "de5f87a2-bb57-437c-f8d9-b2688d3c0ffa"
      },
      "source": [
        "results_model_customized_cnn = train_network(model_customized_cnn, loss, train_loader, epochs=50, device=device, val_loader=test_loader, \n",
        "                                 checkpoint_file=checkpoint_model_customized_cnn,\n",
        "                                 score_funcs={'Accuracy': accuracy_score})"
      ],
      "execution_count": null,
      "outputs": [
        {
          "output_type": "display_data",
          "data": {
            "application/vnd.jupyter.widget-view+json": {
              "model_id": "742904fd931f4754a03e187c90a1e962",
              "version_minor": 0,
              "version_major": 2
            },
            "text/plain": [
              "Epoch:   0%|          | 0/50 [00:00<?, ?it/s]"
            ]
          },
          "metadata": {}
        },
        {
          "output_type": "display_data",
          "data": {
            "application/vnd.jupyter.widget-view+json": {
              "model_id": "a986ca0ea0cb4427b81441a5c83492e2",
              "version_minor": 0,
              "version_major": 2
            },
            "text/plain": [
              "Training:   0%|          | 0/92 [00:00<?, ?it/s]"
            ]
          },
          "metadata": {}
        },
        {
          "output_type": "display_data",
          "data": {
            "application/vnd.jupyter.widget-view+json": {
              "model_id": "ac5110fe55a7481d9ad6a7e38f2ad18a",
              "version_minor": 0,
              "version_major": 2
            },
            "text/plain": [
              "Validating:   0%|          | 0/23 [00:00<?, ?it/s]"
            ]
          },
          "metadata": {}
        },
        {
          "output_type": "display_data",
          "data": {
            "application/vnd.jupyter.widget-view+json": {
              "model_id": "34400f77cf324c56800420a11eced7e7",
              "version_minor": 0,
              "version_major": 2
            },
            "text/plain": [
              "Training:   0%|          | 0/92 [00:00<?, ?it/s]"
            ]
          },
          "metadata": {}
        },
        {
          "output_type": "display_data",
          "data": {
            "application/vnd.jupyter.widget-view+json": {
              "model_id": "47a31597f40a4a91a80554c07184cc85",
              "version_minor": 0,
              "version_major": 2
            },
            "text/plain": [
              "Validating:   0%|          | 0/23 [00:00<?, ?it/s]"
            ]
          },
          "metadata": {}
        },
        {
          "output_type": "display_data",
          "data": {
            "application/vnd.jupyter.widget-view+json": {
              "model_id": "eebb2f6710404c32be3333512baf250a",
              "version_minor": 0,
              "version_major": 2
            },
            "text/plain": [
              "Training:   0%|          | 0/92 [00:00<?, ?it/s]"
            ]
          },
          "metadata": {}
        },
        {
          "output_type": "display_data",
          "data": {
            "application/vnd.jupyter.widget-view+json": {
              "model_id": "c8827789c45b4d2a8f36f7de79535f97",
              "version_minor": 0,
              "version_major": 2
            },
            "text/plain": [
              "Validating:   0%|          | 0/23 [00:00<?, ?it/s]"
            ]
          },
          "metadata": {}
        },
        {
          "output_type": "display_data",
          "data": {
            "application/vnd.jupyter.widget-view+json": {
              "model_id": "80b5eb15b68346db84efb929d9ad35a8",
              "version_minor": 0,
              "version_major": 2
            },
            "text/plain": [
              "Training:   0%|          | 0/92 [00:00<?, ?it/s]"
            ]
          },
          "metadata": {}
        },
        {
          "output_type": "display_data",
          "data": {
            "application/vnd.jupyter.widget-view+json": {
              "model_id": "72839907064248eda0f7e2cbcc1b251a",
              "version_minor": 0,
              "version_major": 2
            },
            "text/plain": [
              "Validating:   0%|          | 0/23 [00:00<?, ?it/s]"
            ]
          },
          "metadata": {}
        },
        {
          "output_type": "display_data",
          "data": {
            "application/vnd.jupyter.widget-view+json": {
              "model_id": "adde51aef2334bf1b4387c8c9e8d9389",
              "version_minor": 0,
              "version_major": 2
            },
            "text/plain": [
              "Training:   0%|          | 0/92 [00:00<?, ?it/s]"
            ]
          },
          "metadata": {}
        },
        {
          "output_type": "display_data",
          "data": {
            "application/vnd.jupyter.widget-view+json": {
              "model_id": "b1f5f37f05a64eef8ab83489138f6a3b",
              "version_minor": 0,
              "version_major": 2
            },
            "text/plain": [
              "Validating:   0%|          | 0/23 [00:00<?, ?it/s]"
            ]
          },
          "metadata": {}
        },
        {
          "output_type": "display_data",
          "data": {
            "application/vnd.jupyter.widget-view+json": {
              "model_id": "e1eaff9d03d648d9bb5ebac1faf74753",
              "version_minor": 0,
              "version_major": 2
            },
            "text/plain": [
              "Training:   0%|          | 0/92 [00:00<?, ?it/s]"
            ]
          },
          "metadata": {}
        },
        {
          "output_type": "display_data",
          "data": {
            "application/vnd.jupyter.widget-view+json": {
              "model_id": "d2b6e7c8311043b0a1bde9db034a07b1",
              "version_minor": 0,
              "version_major": 2
            },
            "text/plain": [
              "Validating:   0%|          | 0/23 [00:00<?, ?it/s]"
            ]
          },
          "metadata": {}
        },
        {
          "output_type": "display_data",
          "data": {
            "application/vnd.jupyter.widget-view+json": {
              "model_id": "cc633aab5a7841bebd6819e6923598c3",
              "version_minor": 0,
              "version_major": 2
            },
            "text/plain": [
              "Training:   0%|          | 0/92 [00:00<?, ?it/s]"
            ]
          },
          "metadata": {}
        },
        {
          "output_type": "display_data",
          "data": {
            "application/vnd.jupyter.widget-view+json": {
              "model_id": "bb54788317d54c868aac5cf6fea270e1",
              "version_minor": 0,
              "version_major": 2
            },
            "text/plain": [
              "Validating:   0%|          | 0/23 [00:00<?, ?it/s]"
            ]
          },
          "metadata": {}
        },
        {
          "output_type": "display_data",
          "data": {
            "application/vnd.jupyter.widget-view+json": {
              "model_id": "71e8106a387743c2a12d42b5caebb210",
              "version_minor": 0,
              "version_major": 2
            },
            "text/plain": [
              "Training:   0%|          | 0/92 [00:00<?, ?it/s]"
            ]
          },
          "metadata": {}
        },
        {
          "output_type": "display_data",
          "data": {
            "application/vnd.jupyter.widget-view+json": {
              "model_id": "e9900247a1d64251b53d0246eee428a7",
              "version_minor": 0,
              "version_major": 2
            },
            "text/plain": [
              "Validating:   0%|          | 0/23 [00:00<?, ?it/s]"
            ]
          },
          "metadata": {}
        },
        {
          "output_type": "display_data",
          "data": {
            "application/vnd.jupyter.widget-view+json": {
              "model_id": "aca5457241394a778cb501ad63d4fe6c",
              "version_minor": 0,
              "version_major": 2
            },
            "text/plain": [
              "Training:   0%|          | 0/92 [00:00<?, ?it/s]"
            ]
          },
          "metadata": {}
        },
        {
          "output_type": "display_data",
          "data": {
            "application/vnd.jupyter.widget-view+json": {
              "model_id": "4fbf2641c97d4486af7f70fa73f16c5a",
              "version_minor": 0,
              "version_major": 2
            },
            "text/plain": [
              "Validating:   0%|          | 0/23 [00:00<?, ?it/s]"
            ]
          },
          "metadata": {}
        },
        {
          "output_type": "display_data",
          "data": {
            "application/vnd.jupyter.widget-view+json": {
              "model_id": "e417f56fb5e144969d001a2df73b0779",
              "version_minor": 0,
              "version_major": 2
            },
            "text/plain": [
              "Training:   0%|          | 0/92 [00:00<?, ?it/s]"
            ]
          },
          "metadata": {}
        },
        {
          "output_type": "display_data",
          "data": {
            "application/vnd.jupyter.widget-view+json": {
              "model_id": "013660058e0048c6bc69498e5b18718a",
              "version_minor": 0,
              "version_major": 2
            },
            "text/plain": [
              "Validating:   0%|          | 0/23 [00:00<?, ?it/s]"
            ]
          },
          "metadata": {}
        },
        {
          "output_type": "display_data",
          "data": {
            "application/vnd.jupyter.widget-view+json": {
              "model_id": "f05233414aa446d6a0c0dc575dc709bc",
              "version_minor": 0,
              "version_major": 2
            },
            "text/plain": [
              "Training:   0%|          | 0/92 [00:00<?, ?it/s]"
            ]
          },
          "metadata": {}
        },
        {
          "output_type": "display_data",
          "data": {
            "application/vnd.jupyter.widget-view+json": {
              "model_id": "2482a1f6201346328b1f5997be039c90",
              "version_minor": 0,
              "version_major": 2
            },
            "text/plain": [
              "Validating:   0%|          | 0/23 [00:00<?, ?it/s]"
            ]
          },
          "metadata": {}
        },
        {
          "output_type": "display_data",
          "data": {
            "application/vnd.jupyter.widget-view+json": {
              "model_id": "48f6467e84564180811c648624682f43",
              "version_minor": 0,
              "version_major": 2
            },
            "text/plain": [
              "Training:   0%|          | 0/92 [00:00<?, ?it/s]"
            ]
          },
          "metadata": {}
        },
        {
          "output_type": "display_data",
          "data": {
            "application/vnd.jupyter.widget-view+json": {
              "model_id": "b85f9dc18cee4d8c8cc4e6548fe9454c",
              "version_minor": 0,
              "version_major": 2
            },
            "text/plain": [
              "Validating:   0%|          | 0/23 [00:00<?, ?it/s]"
            ]
          },
          "metadata": {}
        },
        {
          "output_type": "display_data",
          "data": {
            "application/vnd.jupyter.widget-view+json": {
              "model_id": "5b61423d288d4b39b24e0713fe886bbf",
              "version_minor": 0,
              "version_major": 2
            },
            "text/plain": [
              "Training:   0%|          | 0/92 [00:00<?, ?it/s]"
            ]
          },
          "metadata": {}
        },
        {
          "output_type": "display_data",
          "data": {
            "application/vnd.jupyter.widget-view+json": {
              "model_id": "0f7f8d2d68b3410fbfb5f7a448f5cd6d",
              "version_minor": 0,
              "version_major": 2
            },
            "text/plain": [
              "Validating:   0%|          | 0/23 [00:00<?, ?it/s]"
            ]
          },
          "metadata": {}
        },
        {
          "output_type": "display_data",
          "data": {
            "application/vnd.jupyter.widget-view+json": {
              "model_id": "3a8a4f2d397c4d9597fb697588828140",
              "version_minor": 0,
              "version_major": 2
            },
            "text/plain": [
              "Training:   0%|          | 0/92 [00:00<?, ?it/s]"
            ]
          },
          "metadata": {}
        },
        {
          "output_type": "display_data",
          "data": {
            "application/vnd.jupyter.widget-view+json": {
              "model_id": "9f916e15ebc345b69adccb7e61895632",
              "version_minor": 0,
              "version_major": 2
            },
            "text/plain": [
              "Validating:   0%|          | 0/23 [00:00<?, ?it/s]"
            ]
          },
          "metadata": {}
        },
        {
          "output_type": "display_data",
          "data": {
            "application/vnd.jupyter.widget-view+json": {
              "model_id": "8e84e012e25c41c0a6533d1471725499",
              "version_minor": 0,
              "version_major": 2
            },
            "text/plain": [
              "Training:   0%|          | 0/92 [00:00<?, ?it/s]"
            ]
          },
          "metadata": {}
        },
        {
          "output_type": "display_data",
          "data": {
            "application/vnd.jupyter.widget-view+json": {
              "model_id": "ee176717c61a4a7abf17bbed43a11b66",
              "version_minor": 0,
              "version_major": 2
            },
            "text/plain": [
              "Validating:   0%|          | 0/23 [00:00<?, ?it/s]"
            ]
          },
          "metadata": {}
        },
        {
          "output_type": "display_data",
          "data": {
            "application/vnd.jupyter.widget-view+json": {
              "model_id": "9c3e1e7081ff4df19188f0362b179ad2",
              "version_minor": 0,
              "version_major": 2
            },
            "text/plain": [
              "Training:   0%|          | 0/92 [00:00<?, ?it/s]"
            ]
          },
          "metadata": {}
        },
        {
          "output_type": "display_data",
          "data": {
            "application/vnd.jupyter.widget-view+json": {
              "model_id": "7199c05ca97842098239c402de0e0fef",
              "version_minor": 0,
              "version_major": 2
            },
            "text/plain": [
              "Validating:   0%|          | 0/23 [00:00<?, ?it/s]"
            ]
          },
          "metadata": {}
        },
        {
          "output_type": "display_data",
          "data": {
            "application/vnd.jupyter.widget-view+json": {
              "model_id": "dcac220c68ba49c1abb84c817b5e2269",
              "version_minor": 0,
              "version_major": 2
            },
            "text/plain": [
              "Training:   0%|          | 0/92 [00:00<?, ?it/s]"
            ]
          },
          "metadata": {}
        },
        {
          "output_type": "display_data",
          "data": {
            "application/vnd.jupyter.widget-view+json": {
              "model_id": "5acb51ffde5142a29dd79c69256a880f",
              "version_minor": 0,
              "version_major": 2
            },
            "text/plain": [
              "Validating:   0%|          | 0/23 [00:00<?, ?it/s]"
            ]
          },
          "metadata": {}
        },
        {
          "output_type": "display_data",
          "data": {
            "application/vnd.jupyter.widget-view+json": {
              "model_id": "5845107cca954fce976baff94baa93ec",
              "version_minor": 0,
              "version_major": 2
            },
            "text/plain": [
              "Training:   0%|          | 0/92 [00:00<?, ?it/s]"
            ]
          },
          "metadata": {}
        },
        {
          "output_type": "display_data",
          "data": {
            "application/vnd.jupyter.widget-view+json": {
              "model_id": "31c7af64eb484228875f8bae3129887a",
              "version_minor": 0,
              "version_major": 2
            },
            "text/plain": [
              "Validating:   0%|          | 0/23 [00:00<?, ?it/s]"
            ]
          },
          "metadata": {}
        },
        {
          "output_type": "display_data",
          "data": {
            "application/vnd.jupyter.widget-view+json": {
              "model_id": "8cef201cc91e46ee88b97be467b9b93d",
              "version_minor": 0,
              "version_major": 2
            },
            "text/plain": [
              "Training:   0%|          | 0/92 [00:00<?, ?it/s]"
            ]
          },
          "metadata": {}
        },
        {
          "output_type": "display_data",
          "data": {
            "application/vnd.jupyter.widget-view+json": {
              "model_id": "0466b9c0a30b4205ace6ec9fe356b960",
              "version_minor": 0,
              "version_major": 2
            },
            "text/plain": [
              "Validating:   0%|          | 0/23 [00:00<?, ?it/s]"
            ]
          },
          "metadata": {}
        },
        {
          "output_type": "display_data",
          "data": {
            "application/vnd.jupyter.widget-view+json": {
              "model_id": "55bc6cb914f84d148bcb274552b1741b",
              "version_minor": 0,
              "version_major": 2
            },
            "text/plain": [
              "Training:   0%|          | 0/92 [00:00<?, ?it/s]"
            ]
          },
          "metadata": {}
        },
        {
          "output_type": "display_data",
          "data": {
            "application/vnd.jupyter.widget-view+json": {
              "model_id": "303f1ef3b4784638bc5218901070941d",
              "version_minor": 0,
              "version_major": 2
            },
            "text/plain": [
              "Validating:   0%|          | 0/23 [00:00<?, ?it/s]"
            ]
          },
          "metadata": {}
        },
        {
          "output_type": "display_data",
          "data": {
            "application/vnd.jupyter.widget-view+json": {
              "model_id": "1c69628b57764d2fab371b65b51cc068",
              "version_minor": 0,
              "version_major": 2
            },
            "text/plain": [
              "Training:   0%|          | 0/92 [00:00<?, ?it/s]"
            ]
          },
          "metadata": {}
        },
        {
          "output_type": "display_data",
          "data": {
            "application/vnd.jupyter.widget-view+json": {
              "model_id": "c4323831ef934d18b0ebc92d037246a0",
              "version_minor": 0,
              "version_major": 2
            },
            "text/plain": [
              "Validating:   0%|          | 0/23 [00:00<?, ?it/s]"
            ]
          },
          "metadata": {}
        },
        {
          "output_type": "display_data",
          "data": {
            "application/vnd.jupyter.widget-view+json": {
              "model_id": "84ee980843f449c7a7a7b240afc85e8c",
              "version_minor": 0,
              "version_major": 2
            },
            "text/plain": [
              "Training:   0%|          | 0/92 [00:00<?, ?it/s]"
            ]
          },
          "metadata": {}
        },
        {
          "output_type": "display_data",
          "data": {
            "application/vnd.jupyter.widget-view+json": {
              "model_id": "28ccfa8c1167448a90c323d440741172",
              "version_minor": 0,
              "version_major": 2
            },
            "text/plain": [
              "Validating:   0%|          | 0/23 [00:00<?, ?it/s]"
            ]
          },
          "metadata": {}
        },
        {
          "output_type": "display_data",
          "data": {
            "application/vnd.jupyter.widget-view+json": {
              "model_id": "0fe4dae7622c41b5941f08812dbf67ed",
              "version_minor": 0,
              "version_major": 2
            },
            "text/plain": [
              "Training:   0%|          | 0/92 [00:00<?, ?it/s]"
            ]
          },
          "metadata": {}
        },
        {
          "output_type": "display_data",
          "data": {
            "application/vnd.jupyter.widget-view+json": {
              "model_id": "a3f98c9db8224da495d3ab1ff96d2edf",
              "version_minor": 0,
              "version_major": 2
            },
            "text/plain": [
              "Validating:   0%|          | 0/23 [00:00<?, ?it/s]"
            ]
          },
          "metadata": {}
        },
        {
          "output_type": "display_data",
          "data": {
            "application/vnd.jupyter.widget-view+json": {
              "model_id": "8e6f89bccf7142fbbcca60339729e103",
              "version_minor": 0,
              "version_major": 2
            },
            "text/plain": [
              "Training:   0%|          | 0/92 [00:00<?, ?it/s]"
            ]
          },
          "metadata": {}
        },
        {
          "output_type": "display_data",
          "data": {
            "application/vnd.jupyter.widget-view+json": {
              "model_id": "d169f1467efc42a582f36ff0a5be3b7d",
              "version_minor": 0,
              "version_major": 2
            },
            "text/plain": [
              "Validating:   0%|          | 0/23 [00:00<?, ?it/s]"
            ]
          },
          "metadata": {}
        },
        {
          "output_type": "display_data",
          "data": {
            "application/vnd.jupyter.widget-view+json": {
              "model_id": "0a9eedfafbab41edaa231dc562246239",
              "version_minor": 0,
              "version_major": 2
            },
            "text/plain": [
              "Training:   0%|          | 0/92 [00:00<?, ?it/s]"
            ]
          },
          "metadata": {}
        },
        {
          "output_type": "display_data",
          "data": {
            "application/vnd.jupyter.widget-view+json": {
              "model_id": "8b906eaa497a4f5f8b7014f0938a80f5",
              "version_minor": 0,
              "version_major": 2
            },
            "text/plain": [
              "Validating:   0%|          | 0/23 [00:00<?, ?it/s]"
            ]
          },
          "metadata": {}
        },
        {
          "output_type": "display_data",
          "data": {
            "application/vnd.jupyter.widget-view+json": {
              "model_id": "9c3d63f67b1f4ef3b3d2150acfbb9c52",
              "version_minor": 0,
              "version_major": 2
            },
            "text/plain": [
              "Training:   0%|          | 0/92 [00:00<?, ?it/s]"
            ]
          },
          "metadata": {}
        },
        {
          "output_type": "display_data",
          "data": {
            "application/vnd.jupyter.widget-view+json": {
              "model_id": "afada547f957469583b173a86ee1f67c",
              "version_minor": 0,
              "version_major": 2
            },
            "text/plain": [
              "Validating:   0%|          | 0/23 [00:00<?, ?it/s]"
            ]
          },
          "metadata": {}
        },
        {
          "output_type": "display_data",
          "data": {
            "application/vnd.jupyter.widget-view+json": {
              "model_id": "0c4496ae54d54e4798ce6a10adcb320b",
              "version_minor": 0,
              "version_major": 2
            },
            "text/plain": [
              "Training:   0%|          | 0/92 [00:00<?, ?it/s]"
            ]
          },
          "metadata": {}
        },
        {
          "output_type": "display_data",
          "data": {
            "application/vnd.jupyter.widget-view+json": {
              "model_id": "3f60f984e39c41ae8a5bc12c645633cb",
              "version_minor": 0,
              "version_major": 2
            },
            "text/plain": [
              "Validating:   0%|          | 0/23 [00:00<?, ?it/s]"
            ]
          },
          "metadata": {}
        },
        {
          "output_type": "display_data",
          "data": {
            "application/vnd.jupyter.widget-view+json": {
              "model_id": "e566a79c89c8476abb072b5a52c05cce",
              "version_minor": 0,
              "version_major": 2
            },
            "text/plain": [
              "Training:   0%|          | 0/92 [00:00<?, ?it/s]"
            ]
          },
          "metadata": {}
        },
        {
          "output_type": "display_data",
          "data": {
            "application/vnd.jupyter.widget-view+json": {
              "model_id": "42882c38634047648e8417382a768a2e",
              "version_minor": 0,
              "version_major": 2
            },
            "text/plain": [
              "Validating:   0%|          | 0/23 [00:00<?, ?it/s]"
            ]
          },
          "metadata": {}
        },
        {
          "output_type": "display_data",
          "data": {
            "application/vnd.jupyter.widget-view+json": {
              "model_id": "0a60fbb6b3924856b745fd91081e5e78",
              "version_minor": 0,
              "version_major": 2
            },
            "text/plain": [
              "Training:   0%|          | 0/92 [00:00<?, ?it/s]"
            ]
          },
          "metadata": {}
        },
        {
          "output_type": "display_data",
          "data": {
            "application/vnd.jupyter.widget-view+json": {
              "model_id": "8e534d8fd62f4e4c82e6509e7d237b76",
              "version_minor": 0,
              "version_major": 2
            },
            "text/plain": [
              "Validating:   0%|          | 0/23 [00:00<?, ?it/s]"
            ]
          },
          "metadata": {}
        },
        {
          "output_type": "display_data",
          "data": {
            "application/vnd.jupyter.widget-view+json": {
              "model_id": "388bed9bfbde4a3ca01ce0a75c8a8648",
              "version_minor": 0,
              "version_major": 2
            },
            "text/plain": [
              "Training:   0%|          | 0/92 [00:00<?, ?it/s]"
            ]
          },
          "metadata": {}
        },
        {
          "output_type": "display_data",
          "data": {
            "application/vnd.jupyter.widget-view+json": {
              "model_id": "47fc251a971e47068a1954364bee66d9",
              "version_minor": 0,
              "version_major": 2
            },
            "text/plain": [
              "Validating:   0%|          | 0/23 [00:00<?, ?it/s]"
            ]
          },
          "metadata": {}
        },
        {
          "output_type": "display_data",
          "data": {
            "application/vnd.jupyter.widget-view+json": {
              "model_id": "efe118eab8be433591c6db7f591390e9",
              "version_minor": 0,
              "version_major": 2
            },
            "text/plain": [
              "Training:   0%|          | 0/92 [00:00<?, ?it/s]"
            ]
          },
          "metadata": {}
        },
        {
          "output_type": "display_data",
          "data": {
            "application/vnd.jupyter.widget-view+json": {
              "model_id": "7e59acbcf6104de09a19a234a61e4001",
              "version_minor": 0,
              "version_major": 2
            },
            "text/plain": [
              "Validating:   0%|          | 0/23 [00:00<?, ?it/s]"
            ]
          },
          "metadata": {}
        },
        {
          "output_type": "display_data",
          "data": {
            "application/vnd.jupyter.widget-view+json": {
              "model_id": "b3e9d55c23ce448c97f00f0df5a0c083",
              "version_minor": 0,
              "version_major": 2
            },
            "text/plain": [
              "Training:   0%|          | 0/92 [00:00<?, ?it/s]"
            ]
          },
          "metadata": {}
        },
        {
          "output_type": "display_data",
          "data": {
            "application/vnd.jupyter.widget-view+json": {
              "model_id": "177dd71bbd24485588aaacfb4b3d3275",
              "version_minor": 0,
              "version_major": 2
            },
            "text/plain": [
              "Validating:   0%|          | 0/23 [00:00<?, ?it/s]"
            ]
          },
          "metadata": {}
        },
        {
          "output_type": "display_data",
          "data": {
            "application/vnd.jupyter.widget-view+json": {
              "model_id": "85e18422c4dc4fdb8dc33f5d324a3810",
              "version_minor": 0,
              "version_major": 2
            },
            "text/plain": [
              "Training:   0%|          | 0/92 [00:00<?, ?it/s]"
            ]
          },
          "metadata": {}
        },
        {
          "output_type": "display_data",
          "data": {
            "application/vnd.jupyter.widget-view+json": {
              "model_id": "cde95d8ab73a4fefa73d280f4f67d23b",
              "version_minor": 0,
              "version_major": 2
            },
            "text/plain": [
              "Validating:   0%|          | 0/23 [00:00<?, ?it/s]"
            ]
          },
          "metadata": {}
        },
        {
          "output_type": "display_data",
          "data": {
            "application/vnd.jupyter.widget-view+json": {
              "model_id": "a45983cc29b74eb0a3c29533afba8871",
              "version_minor": 0,
              "version_major": 2
            },
            "text/plain": [
              "Training:   0%|          | 0/92 [00:00<?, ?it/s]"
            ]
          },
          "metadata": {}
        },
        {
          "output_type": "display_data",
          "data": {
            "application/vnd.jupyter.widget-view+json": {
              "model_id": "77c38e8340584717a28958e9af540b6d",
              "version_minor": 0,
              "version_major": 2
            },
            "text/plain": [
              "Validating:   0%|          | 0/23 [00:00<?, ?it/s]"
            ]
          },
          "metadata": {}
        },
        {
          "output_type": "display_data",
          "data": {
            "application/vnd.jupyter.widget-view+json": {
              "model_id": "114320c9bc6f431ab5bf60787e78e5e1",
              "version_minor": 0,
              "version_major": 2
            },
            "text/plain": [
              "Training:   0%|          | 0/92 [00:00<?, ?it/s]"
            ]
          },
          "metadata": {}
        },
        {
          "output_type": "display_data",
          "data": {
            "application/vnd.jupyter.widget-view+json": {
              "model_id": "116570d61cf6417f812343de52dc32f7",
              "version_minor": 0,
              "version_major": 2
            },
            "text/plain": [
              "Validating:   0%|          | 0/23 [00:00<?, ?it/s]"
            ]
          },
          "metadata": {}
        },
        {
          "output_type": "display_data",
          "data": {
            "application/vnd.jupyter.widget-view+json": {
              "model_id": "dee78a54bc434064a6137146fbf4dbda",
              "version_minor": 0,
              "version_major": 2
            },
            "text/plain": [
              "Training:   0%|          | 0/92 [00:00<?, ?it/s]"
            ]
          },
          "metadata": {}
        },
        {
          "output_type": "display_data",
          "data": {
            "application/vnd.jupyter.widget-view+json": {
              "model_id": "84914a4e7452413292c9aa45b4ad5074",
              "version_minor": 0,
              "version_major": 2
            },
            "text/plain": [
              "Validating:   0%|          | 0/23 [00:00<?, ?it/s]"
            ]
          },
          "metadata": {}
        },
        {
          "output_type": "display_data",
          "data": {
            "application/vnd.jupyter.widget-view+json": {
              "model_id": "0c12b8b4cbd4480c921627d5025903c2",
              "version_minor": 0,
              "version_major": 2
            },
            "text/plain": [
              "Training:   0%|          | 0/92 [00:00<?, ?it/s]"
            ]
          },
          "metadata": {}
        },
        {
          "output_type": "display_data",
          "data": {
            "application/vnd.jupyter.widget-view+json": {
              "model_id": "61198fe9a44e433f968fd55a04fe2330",
              "version_minor": 0,
              "version_major": 2
            },
            "text/plain": [
              "Validating:   0%|          | 0/23 [00:00<?, ?it/s]"
            ]
          },
          "metadata": {}
        },
        {
          "output_type": "display_data",
          "data": {
            "application/vnd.jupyter.widget-view+json": {
              "model_id": "c7583365bd5943399292b582fa19b6c7",
              "version_minor": 0,
              "version_major": 2
            },
            "text/plain": [
              "Training:   0%|          | 0/92 [00:00<?, ?it/s]"
            ]
          },
          "metadata": {}
        },
        {
          "output_type": "display_data",
          "data": {
            "application/vnd.jupyter.widget-view+json": {
              "model_id": "5a7b3dcd655a4f8c97c11f3ea6a6e294",
              "version_minor": 0,
              "version_major": 2
            },
            "text/plain": [
              "Validating:   0%|          | 0/23 [00:00<?, ?it/s]"
            ]
          },
          "metadata": {}
        },
        {
          "output_type": "display_data",
          "data": {
            "application/vnd.jupyter.widget-view+json": {
              "model_id": "d16f7662b0f04b50982b3e7e53176d74",
              "version_minor": 0,
              "version_major": 2
            },
            "text/plain": [
              "Training:   0%|          | 0/92 [00:00<?, ?it/s]"
            ]
          },
          "metadata": {}
        },
        {
          "output_type": "display_data",
          "data": {
            "application/vnd.jupyter.widget-view+json": {
              "model_id": "091c534d050b459cb00790a2ca08f2a9",
              "version_minor": 0,
              "version_major": 2
            },
            "text/plain": [
              "Validating:   0%|          | 0/23 [00:00<?, ?it/s]"
            ]
          },
          "metadata": {}
        },
        {
          "output_type": "display_data",
          "data": {
            "application/vnd.jupyter.widget-view+json": {
              "model_id": "ca03d0df26b64190a36a3544fd9191a5",
              "version_minor": 0,
              "version_major": 2
            },
            "text/plain": [
              "Training:   0%|          | 0/92 [00:00<?, ?it/s]"
            ]
          },
          "metadata": {}
        },
        {
          "output_type": "display_data",
          "data": {
            "application/vnd.jupyter.widget-view+json": {
              "model_id": "5c7c5802cda04bdc9cc5716f463d2c32",
              "version_minor": 0,
              "version_major": 2
            },
            "text/plain": [
              "Validating:   0%|          | 0/23 [00:00<?, ?it/s]"
            ]
          },
          "metadata": {}
        },
        {
          "output_type": "display_data",
          "data": {
            "application/vnd.jupyter.widget-view+json": {
              "model_id": "e7e8331a00d4447c8cf8478c48826e3c",
              "version_minor": 0,
              "version_major": 2
            },
            "text/plain": [
              "Training:   0%|          | 0/92 [00:00<?, ?it/s]"
            ]
          },
          "metadata": {}
        },
        {
          "output_type": "display_data",
          "data": {
            "application/vnd.jupyter.widget-view+json": {
              "model_id": "4fb26f892bb048d191e08ee9fb8f2730",
              "version_minor": 0,
              "version_major": 2
            },
            "text/plain": [
              "Validating:   0%|          | 0/23 [00:00<?, ?it/s]"
            ]
          },
          "metadata": {}
        },
        {
          "output_type": "display_data",
          "data": {
            "application/vnd.jupyter.widget-view+json": {
              "model_id": "b67692ffe62344d3980c16ddb22a2f1b",
              "version_minor": 0,
              "version_major": 2
            },
            "text/plain": [
              "Training:   0%|          | 0/92 [00:00<?, ?it/s]"
            ]
          },
          "metadata": {}
        },
        {
          "output_type": "display_data",
          "data": {
            "application/vnd.jupyter.widget-view+json": {
              "model_id": "e548831c2ad04ab980b4601f63608d10",
              "version_minor": 0,
              "version_major": 2
            },
            "text/plain": [
              "Validating:   0%|          | 0/23 [00:00<?, ?it/s]"
            ]
          },
          "metadata": {}
        },
        {
          "output_type": "display_data",
          "data": {
            "application/vnd.jupyter.widget-view+json": {
              "model_id": "bfdf8897b39c4fd0b65df664f571c0dd",
              "version_minor": 0,
              "version_major": 2
            },
            "text/plain": [
              "Training:   0%|          | 0/92 [00:00<?, ?it/s]"
            ]
          },
          "metadata": {}
        },
        {
          "output_type": "display_data",
          "data": {
            "application/vnd.jupyter.widget-view+json": {
              "model_id": "2d42131abe574eb6adbdcd7515499dbc",
              "version_minor": 0,
              "version_major": 2
            },
            "text/plain": [
              "Validating:   0%|          | 0/23 [00:00<?, ?it/s]"
            ]
          },
          "metadata": {}
        },
        {
          "output_type": "display_data",
          "data": {
            "application/vnd.jupyter.widget-view+json": {
              "model_id": "11ec1b1a09194cf3b0c5eb50ca572c32",
              "version_minor": 0,
              "version_major": 2
            },
            "text/plain": [
              "Training:   0%|          | 0/92 [00:00<?, ?it/s]"
            ]
          },
          "metadata": {}
        },
        {
          "output_type": "display_data",
          "data": {
            "application/vnd.jupyter.widget-view+json": {
              "model_id": "0f445cf5916d41d3aaed35f608b2209a",
              "version_minor": 0,
              "version_major": 2
            },
            "text/plain": [
              "Validating:   0%|          | 0/23 [00:00<?, ?it/s]"
            ]
          },
          "metadata": {}
        },
        {
          "output_type": "display_data",
          "data": {
            "application/vnd.jupyter.widget-view+json": {
              "model_id": "341c397df973431bb9b5fde4464f3c75",
              "version_minor": 0,
              "version_major": 2
            },
            "text/plain": [
              "Training:   0%|          | 0/92 [00:00<?, ?it/s]"
            ]
          },
          "metadata": {}
        },
        {
          "output_type": "display_data",
          "data": {
            "application/vnd.jupyter.widget-view+json": {
              "model_id": "83df2b09e87545b0ad6853c1564b413b",
              "version_minor": 0,
              "version_major": 2
            },
            "text/plain": [
              "Validating:   0%|          | 0/23 [00:00<?, ?it/s]"
            ]
          },
          "metadata": {}
        },
        {
          "output_type": "display_data",
          "data": {
            "application/vnd.jupyter.widget-view+json": {
              "model_id": "5fb786c28b7e415fa4c9f6502565c083",
              "version_minor": 0,
              "version_major": 2
            },
            "text/plain": [
              "Training:   0%|          | 0/92 [00:00<?, ?it/s]"
            ]
          },
          "metadata": {}
        },
        {
          "output_type": "display_data",
          "data": {
            "application/vnd.jupyter.widget-view+json": {
              "model_id": "72009ad69a4947d7b63ffb97d69cef4a",
              "version_minor": 0,
              "version_major": 2
            },
            "text/plain": [
              "Validating:   0%|          | 0/23 [00:00<?, ?it/s]"
            ]
          },
          "metadata": {}
        },
        {
          "output_type": "display_data",
          "data": {
            "application/vnd.jupyter.widget-view+json": {
              "model_id": "f6f42a7f946e41a1a1c2eac7b8d966ca",
              "version_minor": 0,
              "version_major": 2
            },
            "text/plain": [
              "Training:   0%|          | 0/92 [00:00<?, ?it/s]"
            ]
          },
          "metadata": {}
        },
        {
          "output_type": "display_data",
          "data": {
            "application/vnd.jupyter.widget-view+json": {
              "model_id": "d8701589bbc64ed190a4ff0b5aa60fa4",
              "version_minor": 0,
              "version_major": 2
            },
            "text/plain": [
              "Validating:   0%|          | 0/23 [00:00<?, ?it/s]"
            ]
          },
          "metadata": {}
        },
        {
          "output_type": "display_data",
          "data": {
            "application/vnd.jupyter.widget-view+json": {
              "model_id": "c96b5835673747ec94b388db510ad50c",
              "version_minor": 0,
              "version_major": 2
            },
            "text/plain": [
              "Training:   0%|          | 0/92 [00:00<?, ?it/s]"
            ]
          },
          "metadata": {}
        },
        {
          "output_type": "display_data",
          "data": {
            "application/vnd.jupyter.widget-view+json": {
              "model_id": "c6c23fc6f6654ebebd97bf3d824550f2",
              "version_minor": 0,
              "version_major": 2
            },
            "text/plain": [
              "Validating:   0%|          | 0/23 [00:00<?, ?it/s]"
            ]
          },
          "metadata": {}
        },
        {
          "output_type": "display_data",
          "data": {
            "application/vnd.jupyter.widget-view+json": {
              "model_id": "be1acfd377144191bcfcf6282bb1fdd1",
              "version_minor": 0,
              "version_major": 2
            },
            "text/plain": [
              "Training:   0%|          | 0/92 [00:00<?, ?it/s]"
            ]
          },
          "metadata": {}
        },
        {
          "output_type": "display_data",
          "data": {
            "application/vnd.jupyter.widget-view+json": {
              "model_id": "766a72911804408f88f263850820cbbc",
              "version_minor": 0,
              "version_major": 2
            },
            "text/plain": [
              "Validating:   0%|          | 0/23 [00:00<?, ?it/s]"
            ]
          },
          "metadata": {}
        },
        {
          "output_type": "display_data",
          "data": {
            "application/vnd.jupyter.widget-view+json": {
              "model_id": "8c0852c8dc1c4ab493369d3ef0218ec6",
              "version_minor": 0,
              "version_major": 2
            },
            "text/plain": [
              "Training:   0%|          | 0/92 [00:00<?, ?it/s]"
            ]
          },
          "metadata": {}
        },
        {
          "output_type": "display_data",
          "data": {
            "application/vnd.jupyter.widget-view+json": {
              "model_id": "a96c5ea8390b48ef9eda87921b19b045",
              "version_minor": 0,
              "version_major": 2
            },
            "text/plain": [
              "Validating:   0%|          | 0/23 [00:00<?, ?it/s]"
            ]
          },
          "metadata": {}
        }
      ]
    },
    {
      "cell_type": "code",
      "metadata": {
        "colab": {
          "base_uri": "https://localhost:8080/",
          "height": 296
        },
        "id": "isEUkzNmEVU6",
        "outputId": "70e4642c-0129-43fe-de7e-bb1b4c07141f"
      },
      "source": [
        "sns.lineplot(x='epoch', y='val Accuracy', data=results_model_customized_cnn, label='Customized CNN')"
      ],
      "execution_count": null,
      "outputs": [
        {
          "output_type": "execute_result",
          "data": {
            "text/plain": [
              "<matplotlib.axes._subplots.AxesSubplot at 0x7fd20fb18a50>"
            ]
          },
          "metadata": {},
          "execution_count": 77
        },
        {
          "output_type": "display_data",
          "data": {
            "image/png": "[encoded data removed]",
            "text/plain": [
              "<Figure size 432x288 with 1 Axes>"
            ]
          },
          "metadata": {
            "needs_background": "light"
          }
        }
      ]
    },
    {
      "cell_type": "code",
      "metadata": {
        "id": "7RUwn9lnEVU6"
      },
      "source": [
        ""
      ],
      "execution_count": null,
      "outputs": []
    },
    {
      "cell_type": "code",
      "metadata": {
        "id": "vrPCAkb8EVU6"
      },
      "source": [
        ""
      ],
      "execution_count": null,
      "outputs": []
    },
    {
      "cell_type": "code",
      "metadata": {
        "id": "8PD3PLF3EVU6"
      },
      "source": [
        ""
      ],
      "execution_count": null,
      "outputs": []
    },
    {
      "cell_type": "code",
      "metadata": {
        "id": "KruR_Pc2EVU6"
      },
      "source": [
        ""
      ],
      "execution_count": null,
      "outputs": []
    },
    {
      "cell_type": "code",
      "metadata": {
        "id": "mKsSGkfFEVU6"
      },
      "source": [
        ""
      ],
      "execution_count": null,
      "outputs": []
    },
    {
      "cell_type": "code",
      "metadata": {
        "id": "CYgQSgxmEVU6"
      },
      "source": [
        ""
      ],
      "execution_count": null,
      "outputs": []
    },
    {
      "cell_type": "code",
      "metadata": {
        "id": "uCcsNyi9EVU6"
      },
      "source": [
        ""
      ],
      "execution_count": null,
      "outputs": []
    },
    {
      "cell_type": "code",
      "metadata": {
        "colab": {
          "base_uri": "https://localhost:8080/"
        },
        "id": "hZWtBCM-EVU6",
        "outputId": "a9b8ad16-1d28-4b16-8341-d2ac6b096526"
      },
      "source": [
        "  nn.Conv2d(C, filters, k, padding=k//2), \n",
        "  nn.BatchNorm2d(filters),\n",
        "  nn.LeakyReLU(),\n",
        "\n",
        "  nn.Conv2d(filters, filters, k, padding=k//2), \n",
        "  nn.BatchNorm2d(filters),\n",
        "  nn.LeakyReLU(),\n",
        "\n",
        "  nn.Conv2d(filters, filters, k, padding=k//2), \n",
        "  nn.BatchNorm2d(filters),\n",
        "  nn.LeakyReLU(),\n",
        "    \n",
        "  nn.MaxPool2d(2),\n",
        "\n",
        "  nn.Conv2d(filters, 2*filters, k, padding=k//2), \n",
        "  nn.BatchNorm2d(2*filters),\n",
        "  nn.LeakyReLU(),\n",
        "    \n",
        "  nn.Conv2d(2*filters, 2*filters, k, padding=k//2), \n",
        "  nn.BatchNorm2d(2*filters),\n",
        "  nn.LeakyReLU(),\n",
        "\n",
        "  nn.Conv2d(2*filters, 2*filters, k, padding=k//2), \n",
        "  nn.BatchNorm2d(2*filters),\n",
        "  nn.LeakyReLU(),\n",
        "    \n",
        "  nn.MaxPool2d(2),\n",
        "\n",
        "  nn.Flatten(), \n",
        "  #Pooling a 2x2 grid down to one value means we go from 4 values, down to 1, and we did this two times!. \n",
        "  nn.Linear(2*filters*D//(4**2), classes),"
      ],
      "execution_count": null,
      "outputs": [
        {
          "output_type": "execute_result",
          "data": {
            "text/plain": [
              "(Conv2d(3, 128, kernel_size=(3, 3), stride=(1, 1), padding=(1, 1)),)"
            ]
          },
          "metadata": {},
          "execution_count": 78
        },
        {
          "output_type": "execute_result",
          "data": {
            "text/plain": [
              "(BatchNorm2d(128, eps=1e-05, momentum=0.1, affine=True, track_running_stats=True),)"
            ]
          },
          "metadata": {},
          "execution_count": 78
        },
        {
          "output_type": "execute_result",
          "data": {
            "text/plain": [
              "(LeakyReLU(negative_slope=0.01),)"
            ]
          },
          "metadata": {},
          "execution_count": 78
        },
        {
          "output_type": "execute_result",
          "data": {
            "text/plain": [
              "(Conv2d(128, 128, kernel_size=(3, 3), stride=(1, 1), padding=(1, 1)),)"
            ]
          },
          "metadata": {},
          "execution_count": 78
        },
        {
          "output_type": "execute_result",
          "data": {
            "text/plain": [
              "(BatchNorm2d(128, eps=1e-05, momentum=0.1, affine=True, track_running_stats=True),)"
            ]
          },
          "metadata": {},
          "execution_count": 78
        },
        {
          "output_type": "execute_result",
          "data": {
            "text/plain": [
              "(LeakyReLU(negative_slope=0.01),)"
            ]
          },
          "metadata": {},
          "execution_count": 78
        },
        {
          "output_type": "execute_result",
          "data": {
            "text/plain": [
              "(Conv2d(128, 128, kernel_size=(3, 3), stride=(1, 1), padding=(1, 1)),)"
            ]
          },
          "metadata": {},
          "execution_count": 78
        },
        {
          "output_type": "execute_result",
          "data": {
            "text/plain": [
              "(BatchNorm2d(128, eps=1e-05, momentum=0.1, affine=True, track_running_stats=True),)"
            ]
          },
          "metadata": {},
          "execution_count": 78
        },
        {
          "output_type": "execute_result",
          "data": {
            "text/plain": [
              "(LeakyReLU(negative_slope=0.01),)"
            ]
          },
          "metadata": {},
          "execution_count": 78
        },
        {
          "output_type": "execute_result",
          "data": {
            "text/plain": [
              "(MaxPool2d(kernel_size=2, stride=2, padding=0, dilation=1, ceil_mode=False),)"
            ]
          },
          "metadata": {},
          "execution_count": 78
        },
        {
          "output_type": "execute_result",
          "data": {
            "text/plain": [
              "(Conv2d(128, 256, kernel_size=(3, 3), stride=(1, 1), padding=(1, 1)),)"
            ]
          },
          "metadata": {},
          "execution_count": 78
        },
        {
          "output_type": "execute_result",
          "data": {
            "text/plain": [
              "(BatchNorm2d(256, eps=1e-05, momentum=0.1, affine=True, track_running_stats=True),)"
            ]
          },
          "metadata": {},
          "execution_count": 78
        },
        {
          "output_type": "execute_result",
          "data": {
            "text/plain": [
              "(LeakyReLU(negative_slope=0.01),)"
            ]
          },
          "metadata": {},
          "execution_count": 78
        },
        {
          "output_type": "execute_result",
          "data": {
            "text/plain": [
              "(Conv2d(256, 256, kernel_size=(3, 3), stride=(1, 1), padding=(1, 1)),)"
            ]
          },
          "metadata": {},
          "execution_count": 78
        },
        {
          "output_type": "execute_result",
          "data": {
            "text/plain": [
              "(BatchNorm2d(256, eps=1e-05, momentum=0.1, affine=True, track_running_stats=True),)"
            ]
          },
          "metadata": {},
          "execution_count": 78
        },
        {
          "output_type": "execute_result",
          "data": {
            "text/plain": [
              "(LeakyReLU(negative_slope=0.01),)"
            ]
          },
          "metadata": {},
          "execution_count": 78
        },
        {
          "output_type": "execute_result",
          "data": {
            "text/plain": [
              "(Conv2d(256, 256, kernel_size=(3, 3), stride=(1, 1), padding=(1, 1)),)"
            ]
          },
          "metadata": {},
          "execution_count": 78
        },
        {
          "output_type": "execute_result",
          "data": {
            "text/plain": [
              "(BatchNorm2d(256, eps=1e-05, momentum=0.1, affine=True, track_running_stats=True),)"
            ]
          },
          "metadata": {},
          "execution_count": 78
        },
        {
          "output_type": "execute_result",
          "data": {
            "text/plain": [
              "(LeakyReLU(negative_slope=0.01),)"
            ]
          },
          "metadata": {},
          "execution_count": 78
        },
        {
          "output_type": "execute_result",
          "data": {
            "text/plain": [
              "(MaxPool2d(kernel_size=2, stride=2, padding=0, dilation=1, ceil_mode=False),)"
            ]
          },
          "metadata": {},
          "execution_count": 78
        },
        {
          "output_type": "execute_result",
          "data": {
            "text/plain": [
              "(Flatten(start_dim=1, end_dim=-1),)"
            ]
          },
          "metadata": {},
          "execution_count": 78
        },
        {
          "output_type": "execute_result",
          "data": {
            "text/plain": [
              "(Linear(in_features=802816, out_features=6, bias=True),)"
            ]
          },
          "metadata": {},
          "execution_count": 78
        }
      ]
    },
    {
      "cell_type": "code",
      "metadata": {
        "colab": {
          "base_uri": "https://localhost:8080/",
          "height": 130
        },
        "id": "NpxAayVtEVU7",
        "outputId": "195af39f-befc-49b0-f073-5eb873a651fc"
      },
      "source": [
        "class SkinImageCNN(nn.Module):\n",
        "    \n",
        "    def __init__(self, filters, k, padding):\n",
        "        super().__init__()\n",
        "        self.conv1 = nn.Conv2d(C, filters, k, padding=k//2)\n",
        "        \n",
        "        \n",
        "          \n",
        "      \n",
        "        self.conv2 = nn.Conv2d(16, 32, 3, 1, padding=1)\n",
        "      self.conv3 = nn.Conv2d(32, 64, 3, 1, padding=1)\n",
        "      self.fc1 = nn.Linear(4*4*64, 500)\n",
        "      self.dropout1 = nn.Dropout(0.5)\n",
        "      self.fc2 = nn.Linear(500, 10)\n",
        "    \n",
        "    def forward(self, x):\n",
        "        x = F.batch_norm(self.conv1(x), 2)\n",
        "        x = F.leaky_relu(x)\n",
        "        \n",
        "        x = F.max_pool2d(self.conv1(x), 2)\n",
        "        x = F.leaky_relu(x)\n",
        "        \n",
        "        x = F.max_pool2d(self.conv1(x), 2)\n",
        "        x = F.leaky_relu(x)\n",
        "        \n",
        "        x = F.max_pool2d(x, 2, 2)\n",
        "        \n",
        "      x = F.relu(self.conv1(x))\n",
        "      x = F.max_pool2d(x, 2, 2)\n",
        "      x = F.relu(self.conv2(x))\n",
        "      x = F.max_pool2d(x, 2, 2)\n",
        "      x = F.relu(self.conv3(x))\n",
        "      x = F.max_pool2d(x, 2, 2)\n",
        "      x = x.view(-1, 4*4*64)\n",
        "      x = F.relu(self.fc1(x))\n",
        "      x = self.dropout1(x)\n",
        "      x = self.fc2(x)\n",
        "      return x"
      ],
      "execution_count": null,
      "outputs": [
        {
          "output_type": "error",
          "ename": "IndentationError",
          "evalue": "ignored",
          "traceback": [
            "\u001b[0;36m  File \u001b[0;32m\"<ipython-input-79-9c96c129f91c>\"\u001b[0;36m, line \u001b[0;32m11\u001b[0m\n\u001b[0;31m    self.conv3 = nn.Conv2d(32, 64, 3, 1, padding=1)\u001b[0m\n\u001b[0m                                                   ^\u001b[0m\n\u001b[0;31mIndentationError\u001b[0m\u001b[0;31m:\u001b[0m unindent does not match any outer indentation level\n"
          ]
        }
      ]
    },
    {
      "cell_type": "code",
      "metadata": {
        "id": "gwfieg9_EVU7"
      },
      "source": [
        ""
      ],
      "execution_count": null,
      "outputs": []
    },
    {
      "cell_type": "code",
      "metadata": {
        "id": "5f_LLri_EVU7"
      },
      "source": [
        ""
      ],
      "execution_count": null,
      "outputs": []
    }
  ]
}